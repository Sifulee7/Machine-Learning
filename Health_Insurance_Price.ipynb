{
  "nbformat": 4,
  "nbformat_minor": 0,
  "metadata": {
    "colab": {
      "provenance": []
    },
    "kernelspec": {
      "name": "python3",
      "display_name": "Python 3"
    },
    "language_info": {
      "name": "python"
    }
  },
  "cells": [
    {
      "cell_type": "code",
      "execution_count": 1,
      "metadata": {
        "id": "6qbjAQtlTyzY"
      },
      "outputs": [],
      "source": [
        "import pandas as pd\n",
        "import plotly.express as px\n",
        "import matplotlib\n",
        "import matplotlib.pyplot as plt\n",
        "import seaborn as sns\n",
        "%matplotlib inline"
      ]
    },
    {
      "cell_type": "code",
      "source": [
        "Health_Main=pd.read_excel('/content/Health_insurance_cost.xlsx')"
      ],
      "metadata": {
        "id": "ExbKTjD16odk"
      },
      "execution_count": 2,
      "outputs": []
    },
    {
      "cell_type": "code",
      "source": [
        "Health=Health_Main.copy()"
      ],
      "metadata": {
        "id": "UHJNnjYZ64sl"
      },
      "execution_count": 3,
      "outputs": []
    },
    {
      "cell_type": "code",
      "source": [
        "Health.head()"
      ],
      "metadata": {
        "colab": {
          "base_uri": "https://localhost:8080/",
          "height": 206
        },
        "id": "ocxrhgA_7ADu",
        "outputId": "f7aee7e8-d455-468f-fa06-2b45d59040a9"
      },
      "execution_count": 4,
      "outputs": [
        {
          "output_type": "execute_result",
          "data": {
            "text/plain": [
              "    age  gender     BMI  Children smoking_status   location  \\\n",
              "0  19.0  female     NaN         0            yes  southwest   \n",
              "1  18.0    male  33.770         1             no  southeast   \n",
              "2  28.0    male  33.000         3             no  southeast   \n",
              "3  33.0    male  22.705         0             no  northwest   \n",
              "4  32.0    male  28.880         0             no  northwest   \n",
              "\n",
              "   health_insurance_price  \n",
              "0             16884.92400  \n",
              "1              1725.55230  \n",
              "2              4449.46200  \n",
              "3             21984.47061  \n",
              "4              3866.85520  "
            ],
            "text/html": [
              "\n",
              "  <div id=\"df-35c5c51f-7174-45ca-9f73-698ab5cf048c\" class=\"colab-df-container\">\n",
              "    <div>\n",
              "<style scoped>\n",
              "    .dataframe tbody tr th:only-of-type {\n",
              "        vertical-align: middle;\n",
              "    }\n",
              "\n",
              "    .dataframe tbody tr th {\n",
              "        vertical-align: top;\n",
              "    }\n",
              "\n",
              "    .dataframe thead th {\n",
              "        text-align: right;\n",
              "    }\n",
              "</style>\n",
              "<table border=\"1\" class=\"dataframe\">\n",
              "  <thead>\n",
              "    <tr style=\"text-align: right;\">\n",
              "      <th></th>\n",
              "      <th>age</th>\n",
              "      <th>gender</th>\n",
              "      <th>BMI</th>\n",
              "      <th>Children</th>\n",
              "      <th>smoking_status</th>\n",
              "      <th>location</th>\n",
              "      <th>health_insurance_price</th>\n",
              "    </tr>\n",
              "  </thead>\n",
              "  <tbody>\n",
              "    <tr>\n",
              "      <th>0</th>\n",
              "      <td>19.0</td>\n",
              "      <td>female</td>\n",
              "      <td>NaN</td>\n",
              "      <td>0</td>\n",
              "      <td>yes</td>\n",
              "      <td>southwest</td>\n",
              "      <td>16884.92400</td>\n",
              "    </tr>\n",
              "    <tr>\n",
              "      <th>1</th>\n",
              "      <td>18.0</td>\n",
              "      <td>male</td>\n",
              "      <td>33.770</td>\n",
              "      <td>1</td>\n",
              "      <td>no</td>\n",
              "      <td>southeast</td>\n",
              "      <td>1725.55230</td>\n",
              "    </tr>\n",
              "    <tr>\n",
              "      <th>2</th>\n",
              "      <td>28.0</td>\n",
              "      <td>male</td>\n",
              "      <td>33.000</td>\n",
              "      <td>3</td>\n",
              "      <td>no</td>\n",
              "      <td>southeast</td>\n",
              "      <td>4449.46200</td>\n",
              "    </tr>\n",
              "    <tr>\n",
              "      <th>3</th>\n",
              "      <td>33.0</td>\n",
              "      <td>male</td>\n",
              "      <td>22.705</td>\n",
              "      <td>0</td>\n",
              "      <td>no</td>\n",
              "      <td>northwest</td>\n",
              "      <td>21984.47061</td>\n",
              "    </tr>\n",
              "    <tr>\n",
              "      <th>4</th>\n",
              "      <td>32.0</td>\n",
              "      <td>male</td>\n",
              "      <td>28.880</td>\n",
              "      <td>0</td>\n",
              "      <td>no</td>\n",
              "      <td>northwest</td>\n",
              "      <td>3866.85520</td>\n",
              "    </tr>\n",
              "  </tbody>\n",
              "</table>\n",
              "</div>\n",
              "    <div class=\"colab-df-buttons\">\n",
              "\n",
              "  <div class=\"colab-df-container\">\n",
              "    <button class=\"colab-df-convert\" onclick=\"convertToInteractive('df-35c5c51f-7174-45ca-9f73-698ab5cf048c')\"\n",
              "            title=\"Convert this dataframe to an interactive table.\"\n",
              "            style=\"display:none;\">\n",
              "\n",
              "  <svg xmlns=\"http://www.w3.org/2000/svg\" height=\"24px\" viewBox=\"0 -960 960 960\">\n",
              "    <path d=\"M120-120v-720h720v720H120Zm60-500h600v-160H180v160Zm220 220h160v-160H400v160Zm0 220h160v-160H400v160ZM180-400h160v-160H180v160Zm440 0h160v-160H620v160ZM180-180h160v-160H180v160Zm440 0h160v-160H620v160Z\"/>\n",
              "  </svg>\n",
              "    </button>\n",
              "\n",
              "  <style>\n",
              "    .colab-df-container {\n",
              "      display:flex;\n",
              "      gap: 12px;\n",
              "    }\n",
              "\n",
              "    .colab-df-convert {\n",
              "      background-color: #E8F0FE;\n",
              "      border: none;\n",
              "      border-radius: 50%;\n",
              "      cursor: pointer;\n",
              "      display: none;\n",
              "      fill: #1967D2;\n",
              "      height: 32px;\n",
              "      padding: 0 0 0 0;\n",
              "      width: 32px;\n",
              "    }\n",
              "\n",
              "    .colab-df-convert:hover {\n",
              "      background-color: #E2EBFA;\n",
              "      box-shadow: 0px 1px 2px rgba(60, 64, 67, 0.3), 0px 1px 3px 1px rgba(60, 64, 67, 0.15);\n",
              "      fill: #174EA6;\n",
              "    }\n",
              "\n",
              "    .colab-df-buttons div {\n",
              "      margin-bottom: 4px;\n",
              "    }\n",
              "\n",
              "    [theme=dark] .colab-df-convert {\n",
              "      background-color: #3B4455;\n",
              "      fill: #D2E3FC;\n",
              "    }\n",
              "\n",
              "    [theme=dark] .colab-df-convert:hover {\n",
              "      background-color: #434B5C;\n",
              "      box-shadow: 0px 1px 3px 1px rgba(0, 0, 0, 0.15);\n",
              "      filter: drop-shadow(0px 1px 2px rgba(0, 0, 0, 0.3));\n",
              "      fill: #FFFFFF;\n",
              "    }\n",
              "  </style>\n",
              "\n",
              "    <script>\n",
              "      const buttonEl =\n",
              "        document.querySelector('#df-35c5c51f-7174-45ca-9f73-698ab5cf048c button.colab-df-convert');\n",
              "      buttonEl.style.display =\n",
              "        google.colab.kernel.accessAllowed ? 'block' : 'none';\n",
              "\n",
              "      async function convertToInteractive(key) {\n",
              "        const element = document.querySelector('#df-35c5c51f-7174-45ca-9f73-698ab5cf048c');\n",
              "        const dataTable =\n",
              "          await google.colab.kernel.invokeFunction('convertToInteractive',\n",
              "                                                    [key], {});\n",
              "        if (!dataTable) return;\n",
              "\n",
              "        const docLinkHtml = 'Like what you see? Visit the ' +\n",
              "          '<a target=\"_blank\" href=https://colab.research.google.com/notebooks/data_table.ipynb>data table notebook</a>'\n",
              "          + ' to learn more about interactive tables.';\n",
              "        element.innerHTML = '';\n",
              "        dataTable['output_type'] = 'display_data';\n",
              "        await google.colab.output.renderOutput(dataTable, element);\n",
              "        const docLink = document.createElement('div');\n",
              "        docLink.innerHTML = docLinkHtml;\n",
              "        element.appendChild(docLink);\n",
              "      }\n",
              "    </script>\n",
              "  </div>\n",
              "\n",
              "\n",
              "<div id=\"df-e97c1bd5-a44e-4e7d-aba2-f037d618570c\">\n",
              "  <button class=\"colab-df-quickchart\" onclick=\"quickchart('df-e97c1bd5-a44e-4e7d-aba2-f037d618570c')\"\n",
              "            title=\"Suggest charts\"\n",
              "            style=\"display:none;\">\n",
              "\n",
              "<svg xmlns=\"http://www.w3.org/2000/svg\" height=\"24px\"viewBox=\"0 0 24 24\"\n",
              "     width=\"24px\">\n",
              "    <g>\n",
              "        <path d=\"M19 3H5c-1.1 0-2 .9-2 2v14c0 1.1.9 2 2 2h14c1.1 0 2-.9 2-2V5c0-1.1-.9-2-2-2zM9 17H7v-7h2v7zm4 0h-2V7h2v10zm4 0h-2v-4h2v4z\"/>\n",
              "    </g>\n",
              "</svg>\n",
              "  </button>\n",
              "\n",
              "<style>\n",
              "  .colab-df-quickchart {\n",
              "      --bg-color: #E8F0FE;\n",
              "      --fill-color: #1967D2;\n",
              "      --hover-bg-color: #E2EBFA;\n",
              "      --hover-fill-color: #174EA6;\n",
              "      --disabled-fill-color: #AAA;\n",
              "      --disabled-bg-color: #DDD;\n",
              "  }\n",
              "\n",
              "  [theme=dark] .colab-df-quickchart {\n",
              "      --bg-color: #3B4455;\n",
              "      --fill-color: #D2E3FC;\n",
              "      --hover-bg-color: #434B5C;\n",
              "      --hover-fill-color: #FFFFFF;\n",
              "      --disabled-bg-color: #3B4455;\n",
              "      --disabled-fill-color: #666;\n",
              "  }\n",
              "\n",
              "  .colab-df-quickchart {\n",
              "    background-color: var(--bg-color);\n",
              "    border: none;\n",
              "    border-radius: 50%;\n",
              "    cursor: pointer;\n",
              "    display: none;\n",
              "    fill: var(--fill-color);\n",
              "    height: 32px;\n",
              "    padding: 0;\n",
              "    width: 32px;\n",
              "  }\n",
              "\n",
              "  .colab-df-quickchart:hover {\n",
              "    background-color: var(--hover-bg-color);\n",
              "    box-shadow: 0 1px 2px rgba(60, 64, 67, 0.3), 0 1px 3px 1px rgba(60, 64, 67, 0.15);\n",
              "    fill: var(--button-hover-fill-color);\n",
              "  }\n",
              "\n",
              "  .colab-df-quickchart-complete:disabled,\n",
              "  .colab-df-quickchart-complete:disabled:hover {\n",
              "    background-color: var(--disabled-bg-color);\n",
              "    fill: var(--disabled-fill-color);\n",
              "    box-shadow: none;\n",
              "  }\n",
              "\n",
              "  .colab-df-spinner {\n",
              "    border: 2px solid var(--fill-color);\n",
              "    border-color: transparent;\n",
              "    border-bottom-color: var(--fill-color);\n",
              "    animation:\n",
              "      spin 1s steps(1) infinite;\n",
              "  }\n",
              "\n",
              "  @keyframes spin {\n",
              "    0% {\n",
              "      border-color: transparent;\n",
              "      border-bottom-color: var(--fill-color);\n",
              "      border-left-color: var(--fill-color);\n",
              "    }\n",
              "    20% {\n",
              "      border-color: transparent;\n",
              "      border-left-color: var(--fill-color);\n",
              "      border-top-color: var(--fill-color);\n",
              "    }\n",
              "    30% {\n",
              "      border-color: transparent;\n",
              "      border-left-color: var(--fill-color);\n",
              "      border-top-color: var(--fill-color);\n",
              "      border-right-color: var(--fill-color);\n",
              "    }\n",
              "    40% {\n",
              "      border-color: transparent;\n",
              "      border-right-color: var(--fill-color);\n",
              "      border-top-color: var(--fill-color);\n",
              "    }\n",
              "    60% {\n",
              "      border-color: transparent;\n",
              "      border-right-color: var(--fill-color);\n",
              "    }\n",
              "    80% {\n",
              "      border-color: transparent;\n",
              "      border-right-color: var(--fill-color);\n",
              "      border-bottom-color: var(--fill-color);\n",
              "    }\n",
              "    90% {\n",
              "      border-color: transparent;\n",
              "      border-bottom-color: var(--fill-color);\n",
              "    }\n",
              "  }\n",
              "</style>\n",
              "\n",
              "  <script>\n",
              "    async function quickchart(key) {\n",
              "      const quickchartButtonEl =\n",
              "        document.querySelector('#' + key + ' button');\n",
              "      quickchartButtonEl.disabled = true;  // To prevent multiple clicks.\n",
              "      quickchartButtonEl.classList.add('colab-df-spinner');\n",
              "      try {\n",
              "        const charts = await google.colab.kernel.invokeFunction(\n",
              "            'suggestCharts', [key], {});\n",
              "      } catch (error) {\n",
              "        console.error('Error during call to suggestCharts:', error);\n",
              "      }\n",
              "      quickchartButtonEl.classList.remove('colab-df-spinner');\n",
              "      quickchartButtonEl.classList.add('colab-df-quickchart-complete');\n",
              "    }\n",
              "    (() => {\n",
              "      let quickchartButtonEl =\n",
              "        document.querySelector('#df-e97c1bd5-a44e-4e7d-aba2-f037d618570c button');\n",
              "      quickchartButtonEl.style.display =\n",
              "        google.colab.kernel.accessAllowed ? 'block' : 'none';\n",
              "    })();\n",
              "  </script>\n",
              "</div>\n",
              "\n",
              "    </div>\n",
              "  </div>\n"
            ]
          },
          "metadata": {},
          "execution_count": 4
        }
      ]
    },
    {
      "cell_type": "code",
      "source": [
        "Health.tail()"
      ],
      "metadata": {
        "colab": {
          "base_uri": "https://localhost:8080/",
          "height": 206
        },
        "id": "nhKbmFHZ7HgI",
        "outputId": "2fb5c8fa-1544-40c7-eff5-8061e51095cf"
      },
      "execution_count": 5,
      "outputs": [
        {
          "output_type": "execute_result",
          "data": {
            "text/plain": [
              "       age  gender    BMI  Children smoking_status   location  \\\n",
              "1333  50.0    male  30.97         3             no  northwest   \n",
              "1334  18.0  female  31.92         0             no  northeast   \n",
              "1335  18.0  female  36.85         0             no  southeast   \n",
              "1336  21.0  female  25.80         0             no  southwest   \n",
              "1337  61.0  female  29.07         0            yes  northwest   \n",
              "\n",
              "      health_insurance_price  \n",
              "1333              10600.5483  \n",
              "1334               2205.9808  \n",
              "1335               1629.8335  \n",
              "1336               2007.9450  \n",
              "1337              29141.3603  "
            ],
            "text/html": [
              "\n",
              "  <div id=\"df-481abcdf-7e9a-40dd-b0f1-2a1899733962\" class=\"colab-df-container\">\n",
              "    <div>\n",
              "<style scoped>\n",
              "    .dataframe tbody tr th:only-of-type {\n",
              "        vertical-align: middle;\n",
              "    }\n",
              "\n",
              "    .dataframe tbody tr th {\n",
              "        vertical-align: top;\n",
              "    }\n",
              "\n",
              "    .dataframe thead th {\n",
              "        text-align: right;\n",
              "    }\n",
              "</style>\n",
              "<table border=\"1\" class=\"dataframe\">\n",
              "  <thead>\n",
              "    <tr style=\"text-align: right;\">\n",
              "      <th></th>\n",
              "      <th>age</th>\n",
              "      <th>gender</th>\n",
              "      <th>BMI</th>\n",
              "      <th>Children</th>\n",
              "      <th>smoking_status</th>\n",
              "      <th>location</th>\n",
              "      <th>health_insurance_price</th>\n",
              "    </tr>\n",
              "  </thead>\n",
              "  <tbody>\n",
              "    <tr>\n",
              "      <th>1333</th>\n",
              "      <td>50.0</td>\n",
              "      <td>male</td>\n",
              "      <td>30.97</td>\n",
              "      <td>3</td>\n",
              "      <td>no</td>\n",
              "      <td>northwest</td>\n",
              "      <td>10600.5483</td>\n",
              "    </tr>\n",
              "    <tr>\n",
              "      <th>1334</th>\n",
              "      <td>18.0</td>\n",
              "      <td>female</td>\n",
              "      <td>31.92</td>\n",
              "      <td>0</td>\n",
              "      <td>no</td>\n",
              "      <td>northeast</td>\n",
              "      <td>2205.9808</td>\n",
              "    </tr>\n",
              "    <tr>\n",
              "      <th>1335</th>\n",
              "      <td>18.0</td>\n",
              "      <td>female</td>\n",
              "      <td>36.85</td>\n",
              "      <td>0</td>\n",
              "      <td>no</td>\n",
              "      <td>southeast</td>\n",
              "      <td>1629.8335</td>\n",
              "    </tr>\n",
              "    <tr>\n",
              "      <th>1336</th>\n",
              "      <td>21.0</td>\n",
              "      <td>female</td>\n",
              "      <td>25.80</td>\n",
              "      <td>0</td>\n",
              "      <td>no</td>\n",
              "      <td>southwest</td>\n",
              "      <td>2007.9450</td>\n",
              "    </tr>\n",
              "    <tr>\n",
              "      <th>1337</th>\n",
              "      <td>61.0</td>\n",
              "      <td>female</td>\n",
              "      <td>29.07</td>\n",
              "      <td>0</td>\n",
              "      <td>yes</td>\n",
              "      <td>northwest</td>\n",
              "      <td>29141.3603</td>\n",
              "    </tr>\n",
              "  </tbody>\n",
              "</table>\n",
              "</div>\n",
              "    <div class=\"colab-df-buttons\">\n",
              "\n",
              "  <div class=\"colab-df-container\">\n",
              "    <button class=\"colab-df-convert\" onclick=\"convertToInteractive('df-481abcdf-7e9a-40dd-b0f1-2a1899733962')\"\n",
              "            title=\"Convert this dataframe to an interactive table.\"\n",
              "            style=\"display:none;\">\n",
              "\n",
              "  <svg xmlns=\"http://www.w3.org/2000/svg\" height=\"24px\" viewBox=\"0 -960 960 960\">\n",
              "    <path d=\"M120-120v-720h720v720H120Zm60-500h600v-160H180v160Zm220 220h160v-160H400v160Zm0 220h160v-160H400v160ZM180-400h160v-160H180v160Zm440 0h160v-160H620v160ZM180-180h160v-160H180v160Zm440 0h160v-160H620v160Z\"/>\n",
              "  </svg>\n",
              "    </button>\n",
              "\n",
              "  <style>\n",
              "    .colab-df-container {\n",
              "      display:flex;\n",
              "      gap: 12px;\n",
              "    }\n",
              "\n",
              "    .colab-df-convert {\n",
              "      background-color: #E8F0FE;\n",
              "      border: none;\n",
              "      border-radius: 50%;\n",
              "      cursor: pointer;\n",
              "      display: none;\n",
              "      fill: #1967D2;\n",
              "      height: 32px;\n",
              "      padding: 0 0 0 0;\n",
              "      width: 32px;\n",
              "    }\n",
              "\n",
              "    .colab-df-convert:hover {\n",
              "      background-color: #E2EBFA;\n",
              "      box-shadow: 0px 1px 2px rgba(60, 64, 67, 0.3), 0px 1px 3px 1px rgba(60, 64, 67, 0.15);\n",
              "      fill: #174EA6;\n",
              "    }\n",
              "\n",
              "    .colab-df-buttons div {\n",
              "      margin-bottom: 4px;\n",
              "    }\n",
              "\n",
              "    [theme=dark] .colab-df-convert {\n",
              "      background-color: #3B4455;\n",
              "      fill: #D2E3FC;\n",
              "    }\n",
              "\n",
              "    [theme=dark] .colab-df-convert:hover {\n",
              "      background-color: #434B5C;\n",
              "      box-shadow: 0px 1px 3px 1px rgba(0, 0, 0, 0.15);\n",
              "      filter: drop-shadow(0px 1px 2px rgba(0, 0, 0, 0.3));\n",
              "      fill: #FFFFFF;\n",
              "    }\n",
              "  </style>\n",
              "\n",
              "    <script>\n",
              "      const buttonEl =\n",
              "        document.querySelector('#df-481abcdf-7e9a-40dd-b0f1-2a1899733962 button.colab-df-convert');\n",
              "      buttonEl.style.display =\n",
              "        google.colab.kernel.accessAllowed ? 'block' : 'none';\n",
              "\n",
              "      async function convertToInteractive(key) {\n",
              "        const element = document.querySelector('#df-481abcdf-7e9a-40dd-b0f1-2a1899733962');\n",
              "        const dataTable =\n",
              "          await google.colab.kernel.invokeFunction('convertToInteractive',\n",
              "                                                    [key], {});\n",
              "        if (!dataTable) return;\n",
              "\n",
              "        const docLinkHtml = 'Like what you see? Visit the ' +\n",
              "          '<a target=\"_blank\" href=https://colab.research.google.com/notebooks/data_table.ipynb>data table notebook</a>'\n",
              "          + ' to learn more about interactive tables.';\n",
              "        element.innerHTML = '';\n",
              "        dataTable['output_type'] = 'display_data';\n",
              "        await google.colab.output.renderOutput(dataTable, element);\n",
              "        const docLink = document.createElement('div');\n",
              "        docLink.innerHTML = docLinkHtml;\n",
              "        element.appendChild(docLink);\n",
              "      }\n",
              "    </script>\n",
              "  </div>\n",
              "\n",
              "\n",
              "<div id=\"df-94f3f1f2-0a9c-4466-9c85-5e949b337f04\">\n",
              "  <button class=\"colab-df-quickchart\" onclick=\"quickchart('df-94f3f1f2-0a9c-4466-9c85-5e949b337f04')\"\n",
              "            title=\"Suggest charts\"\n",
              "            style=\"display:none;\">\n",
              "\n",
              "<svg xmlns=\"http://www.w3.org/2000/svg\" height=\"24px\"viewBox=\"0 0 24 24\"\n",
              "     width=\"24px\">\n",
              "    <g>\n",
              "        <path d=\"M19 3H5c-1.1 0-2 .9-2 2v14c0 1.1.9 2 2 2h14c1.1 0 2-.9 2-2V5c0-1.1-.9-2-2-2zM9 17H7v-7h2v7zm4 0h-2V7h2v10zm4 0h-2v-4h2v4z\"/>\n",
              "    </g>\n",
              "</svg>\n",
              "  </button>\n",
              "\n",
              "<style>\n",
              "  .colab-df-quickchart {\n",
              "      --bg-color: #E8F0FE;\n",
              "      --fill-color: #1967D2;\n",
              "      --hover-bg-color: #E2EBFA;\n",
              "      --hover-fill-color: #174EA6;\n",
              "      --disabled-fill-color: #AAA;\n",
              "      --disabled-bg-color: #DDD;\n",
              "  }\n",
              "\n",
              "  [theme=dark] .colab-df-quickchart {\n",
              "      --bg-color: #3B4455;\n",
              "      --fill-color: #D2E3FC;\n",
              "      --hover-bg-color: #434B5C;\n",
              "      --hover-fill-color: #FFFFFF;\n",
              "      --disabled-bg-color: #3B4455;\n",
              "      --disabled-fill-color: #666;\n",
              "  }\n",
              "\n",
              "  .colab-df-quickchart {\n",
              "    background-color: var(--bg-color);\n",
              "    border: none;\n",
              "    border-radius: 50%;\n",
              "    cursor: pointer;\n",
              "    display: none;\n",
              "    fill: var(--fill-color);\n",
              "    height: 32px;\n",
              "    padding: 0;\n",
              "    width: 32px;\n",
              "  }\n",
              "\n",
              "  .colab-df-quickchart:hover {\n",
              "    background-color: var(--hover-bg-color);\n",
              "    box-shadow: 0 1px 2px rgba(60, 64, 67, 0.3), 0 1px 3px 1px rgba(60, 64, 67, 0.15);\n",
              "    fill: var(--button-hover-fill-color);\n",
              "  }\n",
              "\n",
              "  .colab-df-quickchart-complete:disabled,\n",
              "  .colab-df-quickchart-complete:disabled:hover {\n",
              "    background-color: var(--disabled-bg-color);\n",
              "    fill: var(--disabled-fill-color);\n",
              "    box-shadow: none;\n",
              "  }\n",
              "\n",
              "  .colab-df-spinner {\n",
              "    border: 2px solid var(--fill-color);\n",
              "    border-color: transparent;\n",
              "    border-bottom-color: var(--fill-color);\n",
              "    animation:\n",
              "      spin 1s steps(1) infinite;\n",
              "  }\n",
              "\n",
              "  @keyframes spin {\n",
              "    0% {\n",
              "      border-color: transparent;\n",
              "      border-bottom-color: var(--fill-color);\n",
              "      border-left-color: var(--fill-color);\n",
              "    }\n",
              "    20% {\n",
              "      border-color: transparent;\n",
              "      border-left-color: var(--fill-color);\n",
              "      border-top-color: var(--fill-color);\n",
              "    }\n",
              "    30% {\n",
              "      border-color: transparent;\n",
              "      border-left-color: var(--fill-color);\n",
              "      border-top-color: var(--fill-color);\n",
              "      border-right-color: var(--fill-color);\n",
              "    }\n",
              "    40% {\n",
              "      border-color: transparent;\n",
              "      border-right-color: var(--fill-color);\n",
              "      border-top-color: var(--fill-color);\n",
              "    }\n",
              "    60% {\n",
              "      border-color: transparent;\n",
              "      border-right-color: var(--fill-color);\n",
              "    }\n",
              "    80% {\n",
              "      border-color: transparent;\n",
              "      border-right-color: var(--fill-color);\n",
              "      border-bottom-color: var(--fill-color);\n",
              "    }\n",
              "    90% {\n",
              "      border-color: transparent;\n",
              "      border-bottom-color: var(--fill-color);\n",
              "    }\n",
              "  }\n",
              "</style>\n",
              "\n",
              "  <script>\n",
              "    async function quickchart(key) {\n",
              "      const quickchartButtonEl =\n",
              "        document.querySelector('#' + key + ' button');\n",
              "      quickchartButtonEl.disabled = true;  // To prevent multiple clicks.\n",
              "      quickchartButtonEl.classList.add('colab-df-spinner');\n",
              "      try {\n",
              "        const charts = await google.colab.kernel.invokeFunction(\n",
              "            'suggestCharts', [key], {});\n",
              "      } catch (error) {\n",
              "        console.error('Error during call to suggestCharts:', error);\n",
              "      }\n",
              "      quickchartButtonEl.classList.remove('colab-df-spinner');\n",
              "      quickchartButtonEl.classList.add('colab-df-quickchart-complete');\n",
              "    }\n",
              "    (() => {\n",
              "      let quickchartButtonEl =\n",
              "        document.querySelector('#df-94f3f1f2-0a9c-4466-9c85-5e949b337f04 button');\n",
              "      quickchartButtonEl.style.display =\n",
              "        google.colab.kernel.accessAllowed ? 'block' : 'none';\n",
              "    })();\n",
              "  </script>\n",
              "</div>\n",
              "\n",
              "    </div>\n",
              "  </div>\n"
            ]
          },
          "metadata": {},
          "execution_count": 5
        }
      ]
    },
    {
      "cell_type": "code",
      "source": [
        "Health.info()"
      ],
      "metadata": {
        "colab": {
          "base_uri": "https://localhost:8080/"
        },
        "id": "6cvsxTKA7NkP",
        "outputId": "97e7abae-9186-4dce-e051-dea882cb3398"
      },
      "execution_count": 6,
      "outputs": [
        {
          "output_type": "stream",
          "name": "stdout",
          "text": [
            "<class 'pandas.core.frame.DataFrame'>\n",
            "RangeIndex: 1338 entries, 0 to 1337\n",
            "Data columns (total 7 columns):\n",
            " #   Column                  Non-Null Count  Dtype  \n",
            "---  ------                  --------------  -----  \n",
            " 0   age                     1310 non-null   float64\n",
            " 1   gender                  1338 non-null   object \n",
            " 2   BMI                     1315 non-null   float64\n",
            " 3   Children                1338 non-null   int64  \n",
            " 4   smoking_status          1338 non-null   object \n",
            " 5   location                1338 non-null   object \n",
            " 6   health_insurance_price  1336 non-null   float64\n",
            "dtypes: float64(3), int64(1), object(3)\n",
            "memory usage: 73.3+ KB\n"
          ]
        }
      ]
    },
    {
      "cell_type": "code",
      "source": [
        "Health.dropna(subset=['health_insurance_price'], inplace=True)"
      ],
      "metadata": {
        "id": "Gn-tTfg07S1o"
      },
      "execution_count": 7,
      "outputs": []
    },
    {
      "cell_type": "code",
      "source": [
        "Health.info()"
      ],
      "metadata": {
        "colab": {
          "base_uri": "https://localhost:8080/"
        },
        "id": "74dh36Kt7gOx",
        "outputId": "f32849cf-3b6a-43d5-aef7-d773ae89cc2f"
      },
      "execution_count": 8,
      "outputs": [
        {
          "output_type": "stream",
          "name": "stdout",
          "text": [
            "<class 'pandas.core.frame.DataFrame'>\n",
            "Int64Index: 1336 entries, 0 to 1337\n",
            "Data columns (total 7 columns):\n",
            " #   Column                  Non-Null Count  Dtype  \n",
            "---  ------                  --------------  -----  \n",
            " 0   age                     1308 non-null   float64\n",
            " 1   gender                  1336 non-null   object \n",
            " 2   BMI                     1313 non-null   float64\n",
            " 3   Children                1336 non-null   int64  \n",
            " 4   smoking_status          1336 non-null   object \n",
            " 5   location                1336 non-null   object \n",
            " 6   health_insurance_price  1336 non-null   float64\n",
            "dtypes: float64(3), int64(1), object(3)\n",
            "memory usage: 83.5+ KB\n"
          ]
        }
      ]
    },
    {
      "cell_type": "code",
      "source": [
        "Health.isna().sum()"
      ],
      "metadata": {
        "colab": {
          "base_uri": "https://localhost:8080/"
        },
        "id": "58YF5zUQ8BQW",
        "outputId": "42498750-b61d-4de6-9c11-743ecc3f0a0d"
      },
      "execution_count": 9,
      "outputs": [
        {
          "output_type": "execute_result",
          "data": {
            "text/plain": [
              "age                       28\n",
              "gender                     0\n",
              "BMI                       23\n",
              "Children                   0\n",
              "smoking_status             0\n",
              "location                   0\n",
              "health_insurance_price     0\n",
              "dtype: int64"
            ]
          },
          "metadata": {},
          "execution_count": 9
        }
      ]
    },
    {
      "cell_type": "code",
      "source": [
        "plt.figure(figsize=(20, 6))\n",
        "fig=sns.countplot(Health, x='age')\n",
        "plt.show()"
      ],
      "metadata": {
        "colab": {
          "base_uri": "https://localhost:8080/",
          "height": 378
        },
        "id": "QVEoJzV-823S",
        "outputId": "b15f6d0a-d425-43e7-f4ca-6b8b923ada2d"
      },
      "execution_count": 10,
      "outputs": [
        {
          "output_type": "display_data",
          "data": {
            "text/plain": [
              "<Figure size 2000x600 with 1 Axes>"
            ],
            "image/png": "[encoded data removed]"
          },
          "metadata": {}
        }
      ]
    },
    {
      "cell_type": "code",
      "source": [
        "plt.figure(figsize=(20, 6))\n",
        "fig=sns.histplot(Health, x='BMI')\n",
        "plt.show()"
      ],
      "metadata": {
        "colab": {
          "base_uri": "https://localhost:8080/",
          "height": 376
        },
        "id": "gpBfCYbU-CXf",
        "outputId": "1178c870-74c4-4425-f783-b91f9da6949c"
      },
      "execution_count": 11,
      "outputs": [
        {
          "output_type": "display_data",
          "data": {
            "text/plain": [
              "<Figure size 2000x600 with 1 Axes>"
            ],
            "image/png": "[encoded data removed]"
          },
          "metadata": {}
        }
      ]
    },
    {
      "cell_type": "code",
      "source": [
        "from sklearn.model_selection import train_test_split"
      ],
      "metadata": {
        "id": "6qmiqOGt-P_k"
      },
      "execution_count": 12,
      "outputs": []
    },
    {
      "cell_type": "code",
      "source": [
        "train_val_df, test_df = train_test_split(Health, test_size=0.2, random_state=42)\n",
        "train_df, val_df = train_test_split(train_val_df, test_size=0.25, random_state=42)"
      ],
      "metadata": {
        "id": "erWrEP0b-tby"
      },
      "execution_count": 13,
      "outputs": []
    },
    {
      "cell_type": "code",
      "source": [
        "print('train_df.shape :', train_df.shape)\n",
        "print('val_df.shape :', val_df.shape)\n",
        "print('test_df.shape :', test_df.shape)"
      ],
      "metadata": {
        "colab": {
          "base_uri": "https://localhost:8080/"
        },
        "id": "rV85LE4h_RaS",
        "outputId": "acb3ae8f-54e2-4b4a-df50-6734cbed3cb9"
      },
      "execution_count": 14,
      "outputs": [
        {
          "output_type": "stream",
          "name": "stdout",
          "text": [
            "train_df.shape : (801, 7)\n",
            "val_df.shape : (267, 7)\n",
            "test_df.shape : (268, 7)\n"
          ]
        }
      ]
    },
    {
      "cell_type": "code",
      "source": [
        "input_cols = list(train_df.columns)[0:-1]\n",
        "target_col = 'health_insurance_price'"
      ],
      "metadata": {
        "id": "hFnsM1cq_Udb"
      },
      "execution_count": 15,
      "outputs": []
    },
    {
      "cell_type": "code",
      "source": [
        "print(input_cols)"
      ],
      "metadata": {
        "colab": {
          "base_uri": "https://localhost:8080/"
        },
        "id": "ge7jSJgi_lHU",
        "outputId": "6ed04aa1-08c8-4975-ab6b-4001e1cdfe6a"
      },
      "execution_count": 16,
      "outputs": [
        {
          "output_type": "stream",
          "name": "stdout",
          "text": [
            "['age', 'gender', 'BMI', 'Children', 'smoking_status', 'location']\n"
          ]
        }
      ]
    },
    {
      "cell_type": "code",
      "source": [
        "print(target_col)"
      ],
      "metadata": {
        "colab": {
          "base_uri": "https://localhost:8080/"
        },
        "id": "hCx9J_F5_rVc",
        "outputId": "d3de1a21-5180-40b1-ebd1-94f50ead8d5d"
      },
      "execution_count": 17,
      "outputs": [
        {
          "output_type": "stream",
          "name": "stdout",
          "text": [
            "health_insurance_price\n"
          ]
        }
      ]
    },
    {
      "cell_type": "code",
      "source": [
        "train_inputs = train_df[input_cols].copy()\n",
        "train_targets = train_df[target_col].copy()"
      ],
      "metadata": {
        "id": "3dMME3_Z_uuN"
      },
      "execution_count": 18,
      "outputs": []
    },
    {
      "cell_type": "code",
      "source": [
        "val_inputs = val_df[input_cols].copy()\n",
        "val_targets = val_df[target_col].copy()"
      ],
      "metadata": {
        "id": "k1YyN753_xo0"
      },
      "execution_count": 19,
      "outputs": []
    },
    {
      "cell_type": "code",
      "source": [
        "test_inputs = test_df[input_cols].copy()\n",
        "test_targets = test_df[target_col].copy()"
      ],
      "metadata": {
        "id": "Vy2dU3zS_0uF"
      },
      "execution_count": 20,
      "outputs": []
    },
    {
      "cell_type": "code",
      "source": [
        "import numpy as np"
      ],
      "metadata": {
        "id": "09kSDByA_-Ol"
      },
      "execution_count": 21,
      "outputs": []
    },
    {
      "cell_type": "code",
      "source": [
        "numeric_cols = train_inputs.select_dtypes(include=np.number).columns.tolist()\n",
        "categorical_cols = train_inputs.select_dtypes('object').columns.tolist()"
      ],
      "metadata": {
        "id": "OW_nzqRn_3RF"
      },
      "execution_count": 22,
      "outputs": []
    },
    {
      "cell_type": "code",
      "source": [
        "train_inputs[numeric_cols].describe()"
      ],
      "metadata": {
        "colab": {
          "base_uri": "https://localhost:8080/",
          "height": 300
        },
        "id": "fmU6MDysAB1G",
        "outputId": "a6808ffa-9395-47bc-d126-0b87c4599b85"
      },
      "execution_count": 23,
      "outputs": [
        {
          "output_type": "execute_result",
          "data": {
            "text/plain": [
              "              age         BMI    Children\n",
              "count  784.000000  785.000000  801.000000\n",
              "mean    39.017857   30.442312    1.023720\n",
              "std     14.157829    6.154822    1.165413\n",
              "min     18.000000   15.960000    0.000000\n",
              "25%     26.000000   26.030000    0.000000\n",
              "50%     39.000000   30.140000    1.000000\n",
              "75%     52.000000   34.320000    2.000000\n",
              "max     64.000000   53.130000    5.000000"
            ],
            "text/html": [
              "\n",
              "  <div id=\"df-79796766-cedd-4c2d-9235-07c1a752a4a7\" class=\"colab-df-container\">\n",
              "    <div>\n",
              "<style scoped>\n",
              "    .dataframe tbody tr th:only-of-type {\n",
              "        vertical-align: middle;\n",
              "    }\n",
              "\n",
              "    .dataframe tbody tr th {\n",
              "        vertical-align: top;\n",
              "    }\n",
              "\n",
              "    .dataframe thead th {\n",
              "        text-align: right;\n",
              "    }\n",
              "</style>\n",
              "<table border=\"1\" class=\"dataframe\">\n",
              "  <thead>\n",
              "    <tr style=\"text-align: right;\">\n",
              "      <th></th>\n",
              "      <th>age</th>\n",
              "      <th>BMI</th>\n",
              "      <th>Children</th>\n",
              "    </tr>\n",
              "  </thead>\n",
              "  <tbody>\n",
              "    <tr>\n",
              "      <th>count</th>\n",
              "      <td>784.000000</td>\n",
              "      <td>785.000000</td>\n",
              "      <td>801.000000</td>\n",
              "    </tr>\n",
              "    <tr>\n",
              "      <th>mean</th>\n",
              "      <td>39.017857</td>\n",
              "      <td>30.442312</td>\n",
              "      <td>1.023720</td>\n",
              "    </tr>\n",
              "    <tr>\n",
              "      <th>std</th>\n",
              "      <td>14.157829</td>\n",
              "      <td>6.154822</td>\n",
              "      <td>1.165413</td>\n",
              "    </tr>\n",
              "    <tr>\n",
              "      <th>min</th>\n",
              "      <td>18.000000</td>\n",
              "      <td>15.960000</td>\n",
              "      <td>0.000000</td>\n",
              "    </tr>\n",
              "    <tr>\n",
              "      <th>25%</th>\n",
              "      <td>26.000000</td>\n",
              "      <td>26.030000</td>\n",
              "      <td>0.000000</td>\n",
              "    </tr>\n",
              "    <tr>\n",
              "      <th>50%</th>\n",
              "      <td>39.000000</td>\n",
              "      <td>30.140000</td>\n",
              "      <td>1.000000</td>\n",
              "    </tr>\n",
              "    <tr>\n",
              "      <th>75%</th>\n",
              "      <td>52.000000</td>\n",
              "      <td>34.320000</td>\n",
              "      <td>2.000000</td>\n",
              "    </tr>\n",
              "    <tr>\n",
              "      <th>max</th>\n",
              "      <td>64.000000</td>\n",
              "      <td>53.130000</td>\n",
              "      <td>5.000000</td>\n",
              "    </tr>\n",
              "  </tbody>\n",
              "</table>\n",
              "</div>\n",
              "    <div class=\"colab-df-buttons\">\n",
              "\n",
              "  <div class=\"colab-df-container\">\n",
              "    <button class=\"colab-df-convert\" onclick=\"convertToInteractive('df-79796766-cedd-4c2d-9235-07c1a752a4a7')\"\n",
              "            title=\"Convert this dataframe to an interactive table.\"\n",
              "            style=\"display:none;\">\n",
              "\n",
              "  <svg xmlns=\"http://www.w3.org/2000/svg\" height=\"24px\" viewBox=\"0 -960 960 960\">\n",
              "    <path d=\"M120-120v-720h720v720H120Zm60-500h600v-160H180v160Zm220 220h160v-160H400v160Zm0 220h160v-160H400v160ZM180-400h160v-160H180v160Zm440 0h160v-160H620v160ZM180-180h160v-160H180v160Zm440 0h160v-160H620v160Z\"/>\n",
              "  </svg>\n",
              "    </button>\n",
              "\n",
              "  <style>\n",
              "    .colab-df-container {\n",
              "      display:flex;\n",
              "      gap: 12px;\n",
              "    }\n",
              "\n",
              "    .colab-df-convert {\n",
              "      background-color: #E8F0FE;\n",
              "      border: none;\n",
              "      border-radius: 50%;\n",
              "      cursor: pointer;\n",
              "      display: none;\n",
              "      fill: #1967D2;\n",
              "      height: 32px;\n",
              "      padding: 0 0 0 0;\n",
              "      width: 32px;\n",
              "    }\n",
              "\n",
              "    .colab-df-convert:hover {\n",
              "      background-color: #E2EBFA;\n",
              "      box-shadow: 0px 1px 2px rgba(60, 64, 67, 0.3), 0px 1px 3px 1px rgba(60, 64, 67, 0.15);\n",
              "      fill: #174EA6;\n",
              "    }\n",
              "\n",
              "    .colab-df-buttons div {\n",
              "      margin-bottom: 4px;\n",
              "    }\n",
              "\n",
              "    [theme=dark] .colab-df-convert {\n",
              "      background-color: #3B4455;\n",
              "      fill: #D2E3FC;\n",
              "    }\n",
              "\n",
              "    [theme=dark] .colab-df-convert:hover {\n",
              "      background-color: #434B5C;\n",
              "      box-shadow: 0px 1px 3px 1px rgba(0, 0, 0, 0.15);\n",
              "      filter: drop-shadow(0px 1px 2px rgba(0, 0, 0, 0.3));\n",
              "      fill: #FFFFFF;\n",
              "    }\n",
              "  </style>\n",
              "\n",
              "    <script>\n",
              "      const buttonEl =\n",
              "        document.querySelector('#df-79796766-cedd-4c2d-9235-07c1a752a4a7 button.colab-df-convert');\n",
              "      buttonEl.style.display =\n",
              "        google.colab.kernel.accessAllowed ? 'block' : 'none';\n",
              "\n",
              "      async function convertToInteractive(key) {\n",
              "        const element = document.querySelector('#df-79796766-cedd-4c2d-9235-07c1a752a4a7');\n",
              "        const dataTable =\n",
              "          await google.colab.kernel.invokeFunction('convertToInteractive',\n",
              "                                                    [key], {});\n",
              "        if (!dataTable) return;\n",
              "\n",
              "        const docLinkHtml = 'Like what you see? Visit the ' +\n",
              "          '<a target=\"_blank\" href=https://colab.research.google.com/notebooks/data_table.ipynb>data table notebook</a>'\n",
              "          + ' to learn more about interactive tables.';\n",
              "        element.innerHTML = '';\n",
              "        dataTable['output_type'] = 'display_data';\n",
              "        await google.colab.output.renderOutput(dataTable, element);\n",
              "        const docLink = document.createElement('div');\n",
              "        docLink.innerHTML = docLinkHtml;\n",
              "        element.appendChild(docLink);\n",
              "      }\n",
              "    </script>\n",
              "  </div>\n",
              "\n",
              "\n",
              "<div id=\"df-0deca6ed-b85e-44ff-b19d-114ce61e488b\">\n",
              "  <button class=\"colab-df-quickchart\" onclick=\"quickchart('df-0deca6ed-b85e-44ff-b19d-114ce61e488b')\"\n",
              "            title=\"Suggest charts\"\n",
              "            style=\"display:none;\">\n",
              "\n",
              "<svg xmlns=\"http://www.w3.org/2000/svg\" height=\"24px\"viewBox=\"0 0 24 24\"\n",
              "     width=\"24px\">\n",
              "    <g>\n",
              "        <path d=\"M19 3H5c-1.1 0-2 .9-2 2v14c0 1.1.9 2 2 2h14c1.1 0 2-.9 2-2V5c0-1.1-.9-2-2-2zM9 17H7v-7h2v7zm4 0h-2V7h2v10zm4 0h-2v-4h2v4z\"/>\n",
              "    </g>\n",
              "</svg>\n",
              "  </button>\n",
              "\n",
              "<style>\n",
              "  .colab-df-quickchart {\n",
              "      --bg-color: #E8F0FE;\n",
              "      --fill-color: #1967D2;\n",
              "      --hover-bg-color: #E2EBFA;\n",
              "      --hover-fill-color: #174EA6;\n",
              "      --disabled-fill-color: #AAA;\n",
              "      --disabled-bg-color: #DDD;\n",
              "  }\n",
              "\n",
              "  [theme=dark] .colab-df-quickchart {\n",
              "      --bg-color: #3B4455;\n",
              "      --fill-color: #D2E3FC;\n",
              "      --hover-bg-color: #434B5C;\n",
              "      --hover-fill-color: #FFFFFF;\n",
              "      --disabled-bg-color: #3B4455;\n",
              "      --disabled-fill-color: #666;\n",
              "  }\n",
              "\n",
              "  .colab-df-quickchart {\n",
              "    background-color: var(--bg-color);\n",
              "    border: none;\n",
              "    border-radius: 50%;\n",
              "    cursor: pointer;\n",
              "    display: none;\n",
              "    fill: var(--fill-color);\n",
              "    height: 32px;\n",
              "    padding: 0;\n",
              "    width: 32px;\n",
              "  }\n",
              "\n",
              "  .colab-df-quickchart:hover {\n",
              "    background-color: var(--hover-bg-color);\n",
              "    box-shadow: 0 1px 2px rgba(60, 64, 67, 0.3), 0 1px 3px 1px rgba(60, 64, 67, 0.15);\n",
              "    fill: var(--button-hover-fill-color);\n",
              "  }\n",
              "\n",
              "  .colab-df-quickchart-complete:disabled,\n",
              "  .colab-df-quickchart-complete:disabled:hover {\n",
              "    background-color: var(--disabled-bg-color);\n",
              "    fill: var(--disabled-fill-color);\n",
              "    box-shadow: none;\n",
              "  }\n",
              "\n",
              "  .colab-df-spinner {\n",
              "    border: 2px solid var(--fill-color);\n",
              "    border-color: transparent;\n",
              "    border-bottom-color: var(--fill-color);\n",
              "    animation:\n",
              "      spin 1s steps(1) infinite;\n",
              "  }\n",
              "\n",
              "  @keyframes spin {\n",
              "    0% {\n",
              "      border-color: transparent;\n",
              "      border-bottom-color: var(--fill-color);\n",
              "      border-left-color: var(--fill-color);\n",
              "    }\n",
              "    20% {\n",
              "      border-color: transparent;\n",
              "      border-left-color: var(--fill-color);\n",
              "      border-top-color: var(--fill-color);\n",
              "    }\n",
              "    30% {\n",
              "      border-color: transparent;\n",
              "      border-left-color: var(--fill-color);\n",
              "      border-top-color: var(--fill-color);\n",
              "      border-right-color: var(--fill-color);\n",
              "    }\n",
              "    40% {\n",
              "      border-color: transparent;\n",
              "      border-right-color: var(--fill-color);\n",
              "      border-top-color: var(--fill-color);\n",
              "    }\n",
              "    60% {\n",
              "      border-color: transparent;\n",
              "      border-right-color: var(--fill-color);\n",
              "    }\n",
              "    80% {\n",
              "      border-color: transparent;\n",
              "      border-right-color: var(--fill-color);\n",
              "      border-bottom-color: var(--fill-color);\n",
              "    }\n",
              "    90% {\n",
              "      border-color: transparent;\n",
              "      border-bottom-color: var(--fill-color);\n",
              "    }\n",
              "  }\n",
              "</style>\n",
              "\n",
              "  <script>\n",
              "    async function quickchart(key) {\n",
              "      const quickchartButtonEl =\n",
              "        document.querySelector('#' + key + ' button');\n",
              "      quickchartButtonEl.disabled = true;  // To prevent multiple clicks.\n",
              "      quickchartButtonEl.classList.add('colab-df-spinner');\n",
              "      try {\n",
              "        const charts = await google.colab.kernel.invokeFunction(\n",
              "            'suggestCharts', [key], {});\n",
              "      } catch (error) {\n",
              "        console.error('Error during call to suggestCharts:', error);\n",
              "      }\n",
              "      quickchartButtonEl.classList.remove('colab-df-spinner');\n",
              "      quickchartButtonEl.classList.add('colab-df-quickchart-complete');\n",
              "    }\n",
              "    (() => {\n",
              "      let quickchartButtonEl =\n",
              "        document.querySelector('#df-0deca6ed-b85e-44ff-b19d-114ce61e488b button');\n",
              "      quickchartButtonEl.style.display =\n",
              "        google.colab.kernel.accessAllowed ? 'block' : 'none';\n",
              "    })();\n",
              "  </script>\n",
              "</div>\n",
              "\n",
              "    </div>\n",
              "  </div>\n"
            ]
          },
          "metadata": {},
          "execution_count": 23
        }
      ]
    },
    {
      "cell_type": "code",
      "source": [
        "train_inputs[categorical_cols].nunique()"
      ],
      "metadata": {
        "colab": {
          "base_uri": "https://localhost:8080/"
        },
        "id": "-JNnGThoAJq6",
        "outputId": "ba26b3d5-1f21-4209-ed4f-1176672275d0"
      },
      "execution_count": 24,
      "outputs": [
        {
          "output_type": "execute_result",
          "data": {
            "text/plain": [
              "gender            2\n",
              "smoking_status    2\n",
              "location          4\n",
              "dtype: int64"
            ]
          },
          "metadata": {},
          "execution_count": 24
        }
      ]
    },
    {
      "cell_type": "code",
      "source": [
        "from sklearn.impute import SimpleImputer"
      ],
      "metadata": {
        "id": "xAoC9XQcANbq"
      },
      "execution_count": 25,
      "outputs": []
    },
    {
      "cell_type": "code",
      "source": [
        "imputer = SimpleImputer(strategy = 'median')"
      ],
      "metadata": {
        "id": "1tcb2UUpAP2h"
      },
      "execution_count": 26,
      "outputs": []
    },
    {
      "cell_type": "code",
      "source": [
        "imputer.fit(Health[numeric_cols])"
      ],
      "metadata": {
        "colab": {
          "base_uri": "https://localhost:8080/",
          "height": 74
        },
        "id": "Bpyg0OLBAVAB",
        "outputId": "7570d471-a5bb-4dc4-d018-b8f1643b68d2"
      },
      "execution_count": 27,
      "outputs": [
        {
          "output_type": "execute_result",
          "data": {
            "text/plain": [
              "SimpleImputer(strategy='median')"
            ],
            "text/html": [
              "<style>#sk-container-id-1 {color: black;background-color: white;}#sk-container-id-1 pre{padding: 0;}#sk-container-id-1 div.sk-toggleable {background-color: white;}#sk-container-id-1 label.sk-toggleable__label {cursor: pointer;display: block;width: 100%;margin-bottom: 0;padding: 0.3em;box-sizing: border-box;text-align: center;}#sk-container-id-1 label.sk-toggleable__label-arrow:before {content: \"▸\";float: left;margin-right: 0.25em;color: #696969;}#sk-container-id-1 label.sk-toggleable__label-arrow:hover:before {color: black;}#sk-container-id-1 div.sk-estimator:hover label.sk-toggleable__label-arrow:before {color: black;}#sk-container-id-1 div.sk-toggleable__content {max-height: 0;max-width: 0;overflow: hidden;text-align: left;background-color: #f0f8ff;}#sk-container-id-1 div.sk-toggleable__content pre {margin: 0.2em;color: black;border-radius: 0.25em;background-color: #f0f8ff;}#sk-container-id-1 input.sk-toggleable__control:checked~div.sk-toggleable__content {max-height: 200px;max-width: 100%;overflow: auto;}#sk-container-id-1 input.sk-toggleable__control:checked~label.sk-toggleable__label-arrow:before {content: \"▾\";}#sk-container-id-1 div.sk-estimator input.sk-toggleable__control:checked~label.sk-toggleable__label {background-color: #d4ebff;}#sk-container-id-1 div.sk-label input.sk-toggleable__control:checked~label.sk-toggleable__label {background-color: #d4ebff;}#sk-container-id-1 input.sk-hidden--visually {border: 0;clip: rect(1px 1px 1px 1px);clip: rect(1px, 1px, 1px, 1px);height: 1px;margin: -1px;overflow: hidden;padding: 0;position: absolute;width: 1px;}#sk-container-id-1 div.sk-estimator {font-family: monospace;background-color: #f0f8ff;border: 1px dotted black;border-radius: 0.25em;box-sizing: border-box;margin-bottom: 0.5em;}#sk-container-id-1 div.sk-estimator:hover {background-color: #d4ebff;}#sk-container-id-1 div.sk-parallel-item::after {content: \"\";width: 100%;border-bottom: 1px solid gray;flex-grow: 1;}#sk-container-id-1 div.sk-label:hover label.sk-toggleable__label {background-color: #d4ebff;}#sk-container-id-1 div.sk-serial::before {content: \"\";position: absolute;border-left: 1px solid gray;box-sizing: border-box;top: 0;bottom: 0;left: 50%;z-index: 0;}#sk-container-id-1 div.sk-serial {display: flex;flex-direction: column;align-items: center;background-color: white;padding-right: 0.2em;padding-left: 0.2em;position: relative;}#sk-container-id-1 div.sk-item {position: relative;z-index: 1;}#sk-container-id-1 div.sk-parallel {display: flex;align-items: stretch;justify-content: center;background-color: white;position: relative;}#sk-container-id-1 div.sk-item::before, #sk-container-id-1 div.sk-parallel-item::before {content: \"\";position: absolute;border-left: 1px solid gray;box-sizing: border-box;top: 0;bottom: 0;left: 50%;z-index: -1;}#sk-container-id-1 div.sk-parallel-item {display: flex;flex-direction: column;z-index: 1;position: relative;background-color: white;}#sk-container-id-1 div.sk-parallel-item:first-child::after {align-self: flex-end;width: 50%;}#sk-container-id-1 div.sk-parallel-item:last-child::after {align-self: flex-start;width: 50%;}#sk-container-id-1 div.sk-parallel-item:only-child::after {width: 0;}#sk-container-id-1 div.sk-dashed-wrapped {border: 1px dashed gray;margin: 0 0.4em 0.5em 0.4em;box-sizing: border-box;padding-bottom: 0.4em;background-color: white;}#sk-container-id-1 div.sk-label label {font-family: monospace;font-weight: bold;display: inline-block;line-height: 1.2em;}#sk-container-id-1 div.sk-label-container {text-align: center;}#sk-container-id-1 div.sk-container {/* jupyter's `normalize.less` sets `[hidden] { display: none; }` but bootstrap.min.css set `[hidden] { display: none !important; }` so we also need the `!important` here to be able to override the default hidden behavior on the sphinx rendered scikit-learn.org. See: https://github.com/scikit-learn/scikit-learn/issues/21755 */display: inline-block !important;position: relative;}#sk-container-id-1 div.sk-text-repr-fallback {display: none;}</style><div id=\"sk-container-id-1\" class=\"sk-top-container\"><div class=\"sk-text-repr-fallback\"><pre>SimpleImputer(strategy=&#x27;median&#x27;)</pre><b>In a Jupyter environment, please rerun this cell to show the HTML representation or trust the notebook. <br />On GitHub, the HTML representation is unable to render, please try loading this page with nbviewer.org.</b></div><div class=\"sk-container\" hidden><div class=\"sk-item\"><div class=\"sk-estimator sk-toggleable\"><input class=\"sk-toggleable__control sk-hidden--visually\" id=\"sk-estimator-id-1\" type=\"checkbox\" checked><label for=\"sk-estimator-id-1\" class=\"sk-toggleable__label sk-toggleable__label-arrow\">SimpleImputer</label><div class=\"sk-toggleable__content\"><pre>SimpleImputer(strategy=&#x27;median&#x27;)</pre></div></div></div></div></div>"
            ]
          },
          "metadata": {},
          "execution_count": 27
        }
      ]
    },
    {
      "cell_type": "code",
      "source": [
        "train_inputs[numeric_cols] = imputer.transform(train_inputs[numeric_cols])\n",
        "val_inputs[numeric_cols] = imputer.transform(val_inputs[numeric_cols])\n",
        "test_inputs[numeric_cols] = imputer.transform(test_inputs[numeric_cols])"
      ],
      "metadata": {
        "id": "aRGFog19Ac1q"
      },
      "execution_count": 28,
      "outputs": []
    },
    {
      "cell_type": "code",
      "source": [
        "train_inputs[numeric_cols].isna().sum()"
      ],
      "metadata": {
        "colab": {
          "base_uri": "https://localhost:8080/"
        },
        "id": "vQq3ieNBAhei",
        "outputId": "f1e7a9b6-0143-4727-9c55-0417ce3a6e69"
      },
      "execution_count": 29,
      "outputs": [
        {
          "output_type": "execute_result",
          "data": {
            "text/plain": [
              "age         0\n",
              "BMI         0\n",
              "Children    0\n",
              "dtype: int64"
            ]
          },
          "metadata": {},
          "execution_count": 29
        }
      ]
    },
    {
      "cell_type": "code",
      "source": [
        "from sklearn.preprocessing import MinMaxScaler"
      ],
      "metadata": {
        "id": "82hf6iJiAnC-"
      },
      "execution_count": 30,
      "outputs": []
    },
    {
      "cell_type": "code",
      "source": [
        "scaler = MinMaxScaler()"
      ],
      "metadata": {
        "id": "KKlvS11SAqwv"
      },
      "execution_count": 31,
      "outputs": []
    },
    {
      "cell_type": "code",
      "source": [
        "scaler.fit(Health[numeric_cols])"
      ],
      "metadata": {
        "colab": {
          "base_uri": "https://localhost:8080/",
          "height": 74
        },
        "id": "H24HPCHaAvwP",
        "outputId": "5421635e-2b34-4a5d-9b3f-d335ce96fee8"
      },
      "execution_count": 32,
      "outputs": [
        {
          "output_type": "execute_result",
          "data": {
            "text/plain": [
              "MinMaxScaler()"
            ],
            "text/html": [
              "<style>#sk-container-id-2 {color: black;background-color: white;}#sk-container-id-2 pre{padding: 0;}#sk-container-id-2 div.sk-toggleable {background-color: white;}#sk-container-id-2 label.sk-toggleable__label {cursor: pointer;display: block;width: 100%;margin-bottom: 0;padding: 0.3em;box-sizing: border-box;text-align: center;}#sk-container-id-2 label.sk-toggleable__label-arrow:before {content: \"▸\";float: left;margin-right: 0.25em;color: #696969;}#sk-container-id-2 label.sk-toggleable__label-arrow:hover:before {color: black;}#sk-container-id-2 div.sk-estimator:hover label.sk-toggleable__label-arrow:before {color: black;}#sk-container-id-2 div.sk-toggleable__content {max-height: 0;max-width: 0;overflow: hidden;text-align: left;background-color: #f0f8ff;}#sk-container-id-2 div.sk-toggleable__content pre {margin: 0.2em;color: black;border-radius: 0.25em;background-color: #f0f8ff;}#sk-container-id-2 input.sk-toggleable__control:checked~div.sk-toggleable__content {max-height: 200px;max-width: 100%;overflow: auto;}#sk-container-id-2 input.sk-toggleable__control:checked~label.sk-toggleable__label-arrow:before {content: \"▾\";}#sk-container-id-2 div.sk-estimator input.sk-toggleable__control:checked~label.sk-toggleable__label {background-color: #d4ebff;}#sk-container-id-2 div.sk-label input.sk-toggleable__control:checked~label.sk-toggleable__label {background-color: #d4ebff;}#sk-container-id-2 input.sk-hidden--visually {border: 0;clip: rect(1px 1px 1px 1px);clip: rect(1px, 1px, 1px, 1px);height: 1px;margin: -1px;overflow: hidden;padding: 0;position: absolute;width: 1px;}#sk-container-id-2 div.sk-estimator {font-family: monospace;background-color: #f0f8ff;border: 1px dotted black;border-radius: 0.25em;box-sizing: border-box;margin-bottom: 0.5em;}#sk-container-id-2 div.sk-estimator:hover {background-color: #d4ebff;}#sk-container-id-2 div.sk-parallel-item::after {content: \"\";width: 100%;border-bottom: 1px solid gray;flex-grow: 1;}#sk-container-id-2 div.sk-label:hover label.sk-toggleable__label {background-color: #d4ebff;}#sk-container-id-2 div.sk-serial::before {content: \"\";position: absolute;border-left: 1px solid gray;box-sizing: border-box;top: 0;bottom: 0;left: 50%;z-index: 0;}#sk-container-id-2 div.sk-serial {display: flex;flex-direction: column;align-items: center;background-color: white;padding-right: 0.2em;padding-left: 0.2em;position: relative;}#sk-container-id-2 div.sk-item {position: relative;z-index: 1;}#sk-container-id-2 div.sk-parallel {display: flex;align-items: stretch;justify-content: center;background-color: white;position: relative;}#sk-container-id-2 div.sk-item::before, #sk-container-id-2 div.sk-parallel-item::before {content: \"\";position: absolute;border-left: 1px solid gray;box-sizing: border-box;top: 0;bottom: 0;left: 50%;z-index: -1;}#sk-container-id-2 div.sk-parallel-item {display: flex;flex-direction: column;z-index: 1;position: relative;background-color: white;}#sk-container-id-2 div.sk-parallel-item:first-child::after {align-self: flex-end;width: 50%;}#sk-container-id-2 div.sk-parallel-item:last-child::after {align-self: flex-start;width: 50%;}#sk-container-id-2 div.sk-parallel-item:only-child::after {width: 0;}#sk-container-id-2 div.sk-dashed-wrapped {border: 1px dashed gray;margin: 0 0.4em 0.5em 0.4em;box-sizing: border-box;padding-bottom: 0.4em;background-color: white;}#sk-container-id-2 div.sk-label label {font-family: monospace;font-weight: bold;display: inline-block;line-height: 1.2em;}#sk-container-id-2 div.sk-label-container {text-align: center;}#sk-container-id-2 div.sk-container {/* jupyter's `normalize.less` sets `[hidden] { display: none; }` but bootstrap.min.css set `[hidden] { display: none !important; }` so we also need the `!important` here to be able to override the default hidden behavior on the sphinx rendered scikit-learn.org. See: https://github.com/scikit-learn/scikit-learn/issues/21755 */display: inline-block !important;position: relative;}#sk-container-id-2 div.sk-text-repr-fallback {display: none;}</style><div id=\"sk-container-id-2\" class=\"sk-top-container\"><div class=\"sk-text-repr-fallback\"><pre>MinMaxScaler()</pre><b>In a Jupyter environment, please rerun this cell to show the HTML representation or trust the notebook. <br />On GitHub, the HTML representation is unable to render, please try loading this page with nbviewer.org.</b></div><div class=\"sk-container\" hidden><div class=\"sk-item\"><div class=\"sk-estimator sk-toggleable\"><input class=\"sk-toggleable__control sk-hidden--visually\" id=\"sk-estimator-id-2\" type=\"checkbox\" checked><label for=\"sk-estimator-id-2\" class=\"sk-toggleable__label sk-toggleable__label-arrow\">MinMaxScaler</label><div class=\"sk-toggleable__content\"><pre>MinMaxScaler()</pre></div></div></div></div></div>"
            ]
          },
          "metadata": {},
          "execution_count": 32
        }
      ]
    },
    {
      "cell_type": "code",
      "source": [
        "train_inputs[numeric_cols] = scaler.transform(train_inputs[numeric_cols])\n",
        "val_inputs[numeric_cols] = scaler.transform(val_inputs[numeric_cols])\n",
        "test_inputs[numeric_cols] = scaler.transform(test_inputs[numeric_cols])"
      ],
      "metadata": {
        "id": "Kxqw11kbA29E"
      },
      "execution_count": 33,
      "outputs": []
    },
    {
      "cell_type": "code",
      "source": [
        "train_inputs[numeric_cols].describe()"
      ],
      "metadata": {
        "colab": {
          "base_uri": "https://localhost:8080/",
          "height": 300
        },
        "id": "awaKmbGOA4Gs",
        "outputId": "9d721866-a7b1-4e43-b861-8a79eab431ab"
      },
      "execution_count": 34,
      "outputs": [
        {
          "output_type": "execute_result",
          "data": {
            "text/plain": [
              "              age         BMI    Children\n",
              "count  801.000000  801.000000  801.000000\n",
              "mean     0.456902    0.389550    0.204744\n",
              "std      0.304491    0.163922    0.233083\n",
              "min      0.000000    0.000000    0.000000\n",
              "25%      0.195652    0.273473    0.000000\n",
              "50%      0.456522    0.384450    0.200000\n",
              "75%      0.717391    0.490987    0.400000\n",
              "max      1.000000    1.000000    1.000000"
            ],
            "text/html": [
              "\n",
              "  <div id=\"df-b064ab51-dd1d-4f15-94a3-f9e31b858c49\" class=\"colab-df-container\">\n",
              "    <div>\n",
              "<style scoped>\n",
              "    .dataframe tbody tr th:only-of-type {\n",
              "        vertical-align: middle;\n",
              "    }\n",
              "\n",
              "    .dataframe tbody tr th {\n",
              "        vertical-align: top;\n",
              "    }\n",
              "\n",
              "    .dataframe thead th {\n",
              "        text-align: right;\n",
              "    }\n",
              "</style>\n",
              "<table border=\"1\" class=\"dataframe\">\n",
              "  <thead>\n",
              "    <tr style=\"text-align: right;\">\n",
              "      <th></th>\n",
              "      <th>age</th>\n",
              "      <th>BMI</th>\n",
              "      <th>Children</th>\n",
              "    </tr>\n",
              "  </thead>\n",
              "  <tbody>\n",
              "    <tr>\n",
              "      <th>count</th>\n",
              "      <td>801.000000</td>\n",
              "      <td>801.000000</td>\n",
              "      <td>801.000000</td>\n",
              "    </tr>\n",
              "    <tr>\n",
              "      <th>mean</th>\n",
              "      <td>0.456902</td>\n",
              "      <td>0.389550</td>\n",
              "      <td>0.204744</td>\n",
              "    </tr>\n",
              "    <tr>\n",
              "      <th>std</th>\n",
              "      <td>0.304491</td>\n",
              "      <td>0.163922</td>\n",
              "      <td>0.233083</td>\n",
              "    </tr>\n",
              "    <tr>\n",
              "      <th>min</th>\n",
              "      <td>0.000000</td>\n",
              "      <td>0.000000</td>\n",
              "      <td>0.000000</td>\n",
              "    </tr>\n",
              "    <tr>\n",
              "      <th>25%</th>\n",
              "      <td>0.195652</td>\n",
              "      <td>0.273473</td>\n",
              "      <td>0.000000</td>\n",
              "    </tr>\n",
              "    <tr>\n",
              "      <th>50%</th>\n",
              "      <td>0.456522</td>\n",
              "      <td>0.384450</td>\n",
              "      <td>0.200000</td>\n",
              "    </tr>\n",
              "    <tr>\n",
              "      <th>75%</th>\n",
              "      <td>0.717391</td>\n",
              "      <td>0.490987</td>\n",
              "      <td>0.400000</td>\n",
              "    </tr>\n",
              "    <tr>\n",
              "      <th>max</th>\n",
              "      <td>1.000000</td>\n",
              "      <td>1.000000</td>\n",
              "      <td>1.000000</td>\n",
              "    </tr>\n",
              "  </tbody>\n",
              "</table>\n",
              "</div>\n",
              "    <div class=\"colab-df-buttons\">\n",
              "\n",
              "  <div class=\"colab-df-container\">\n",
              "    <button class=\"colab-df-convert\" onclick=\"convertToInteractive('df-b064ab51-dd1d-4f15-94a3-f9e31b858c49')\"\n",
              "            title=\"Convert this dataframe to an interactive table.\"\n",
              "            style=\"display:none;\">\n",
              "\n",
              "  <svg xmlns=\"http://www.w3.org/2000/svg\" height=\"24px\" viewBox=\"0 -960 960 960\">\n",
              "    <path d=\"M120-120v-720h720v720H120Zm60-500h600v-160H180v160Zm220 220h160v-160H400v160Zm0 220h160v-160H400v160ZM180-400h160v-160H180v160Zm440 0h160v-160H620v160ZM180-180h160v-160H180v160Zm440 0h160v-160H620v160Z\"/>\n",
              "  </svg>\n",
              "    </button>\n",
              "\n",
              "  <style>\n",
              "    .colab-df-container {\n",
              "      display:flex;\n",
              "      gap: 12px;\n",
              "    }\n",
              "\n",
              "    .colab-df-convert {\n",
              "      background-color: #E8F0FE;\n",
              "      border: none;\n",
              "      border-radius: 50%;\n",
              "      cursor: pointer;\n",
              "      display: none;\n",
              "      fill: #1967D2;\n",
              "      height: 32px;\n",
              "      padding: 0 0 0 0;\n",
              "      width: 32px;\n",
              "    }\n",
              "\n",
              "    .colab-df-convert:hover {\n",
              "      background-color: #E2EBFA;\n",
              "      box-shadow: 0px 1px 2px rgba(60, 64, 67, 0.3), 0px 1px 3px 1px rgba(60, 64, 67, 0.15);\n",
              "      fill: #174EA6;\n",
              "    }\n",
              "\n",
              "    .colab-df-buttons div {\n",
              "      margin-bottom: 4px;\n",
              "    }\n",
              "\n",
              "    [theme=dark] .colab-df-convert {\n",
              "      background-color: #3B4455;\n",
              "      fill: #D2E3FC;\n",
              "    }\n",
              "\n",
              "    [theme=dark] .colab-df-convert:hover {\n",
              "      background-color: #434B5C;\n",
              "      box-shadow: 0px 1px 3px 1px rgba(0, 0, 0, 0.15);\n",
              "      filter: drop-shadow(0px 1px 2px rgba(0, 0, 0, 0.3));\n",
              "      fill: #FFFFFF;\n",
              "    }\n",
              "  </style>\n",
              "\n",
              "    <script>\n",
              "      const buttonEl =\n",
              "        document.querySelector('#df-b064ab51-dd1d-4f15-94a3-f9e31b858c49 button.colab-df-convert');\n",
              "      buttonEl.style.display =\n",
              "        google.colab.kernel.accessAllowed ? 'block' : 'none';\n",
              "\n",
              "      async function convertToInteractive(key) {\n",
              "        const element = document.querySelector('#df-b064ab51-dd1d-4f15-94a3-f9e31b858c49');\n",
              "        const dataTable =\n",
              "          await google.colab.kernel.invokeFunction('convertToInteractive',\n",
              "                                                    [key], {});\n",
              "        if (!dataTable) return;\n",
              "\n",
              "        const docLinkHtml = 'Like what you see? Visit the ' +\n",
              "          '<a target=\"_blank\" href=https://colab.research.google.com/notebooks/data_table.ipynb>data table notebook</a>'\n",
              "          + ' to learn more about interactive tables.';\n",
              "        element.innerHTML = '';\n",
              "        dataTable['output_type'] = 'display_data';\n",
              "        await google.colab.output.renderOutput(dataTable, element);\n",
              "        const docLink = document.createElement('div');\n",
              "        docLink.innerHTML = docLinkHtml;\n",
              "        element.appendChild(docLink);\n",
              "      }\n",
              "    </script>\n",
              "  </div>\n",
              "\n",
              "\n",
              "<div id=\"df-45ee3f2f-aba9-44a9-b805-e8aa56b90683\">\n",
              "  <button class=\"colab-df-quickchart\" onclick=\"quickchart('df-45ee3f2f-aba9-44a9-b805-e8aa56b90683')\"\n",
              "            title=\"Suggest charts\"\n",
              "            style=\"display:none;\">\n",
              "\n",
              "<svg xmlns=\"http://www.w3.org/2000/svg\" height=\"24px\"viewBox=\"0 0 24 24\"\n",
              "     width=\"24px\">\n",
              "    <g>\n",
              "        <path d=\"M19 3H5c-1.1 0-2 .9-2 2v14c0 1.1.9 2 2 2h14c1.1 0 2-.9 2-2V5c0-1.1-.9-2-2-2zM9 17H7v-7h2v7zm4 0h-2V7h2v10zm4 0h-2v-4h2v4z\"/>\n",
              "    </g>\n",
              "</svg>\n",
              "  </button>\n",
              "\n",
              "<style>\n",
              "  .colab-df-quickchart {\n",
              "      --bg-color: #E8F0FE;\n",
              "      --fill-color: #1967D2;\n",
              "      --hover-bg-color: #E2EBFA;\n",
              "      --hover-fill-color: #174EA6;\n",
              "      --disabled-fill-color: #AAA;\n",
              "      --disabled-bg-color: #DDD;\n",
              "  }\n",
              "\n",
              "  [theme=dark] .colab-df-quickchart {\n",
              "      --bg-color: #3B4455;\n",
              "      --fill-color: #D2E3FC;\n",
              "      --hover-bg-color: #434B5C;\n",
              "      --hover-fill-color: #FFFFFF;\n",
              "      --disabled-bg-color: #3B4455;\n",
              "      --disabled-fill-color: #666;\n",
              "  }\n",
              "\n",
              "  .colab-df-quickchart {\n",
              "    background-color: var(--bg-color);\n",
              "    border: none;\n",
              "    border-radius: 50%;\n",
              "    cursor: pointer;\n",
              "    display: none;\n",
              "    fill: var(--fill-color);\n",
              "    height: 32px;\n",
              "    padding: 0;\n",
              "    width: 32px;\n",
              "  }\n",
              "\n",
              "  .colab-df-quickchart:hover {\n",
              "    background-color: var(--hover-bg-color);\n",
              "    box-shadow: 0 1px 2px rgba(60, 64, 67, 0.3), 0 1px 3px 1px rgba(60, 64, 67, 0.15);\n",
              "    fill: var(--button-hover-fill-color);\n",
              "  }\n",
              "\n",
              "  .colab-df-quickchart-complete:disabled,\n",
              "  .colab-df-quickchart-complete:disabled:hover {\n",
              "    background-color: var(--disabled-bg-color);\n",
              "    fill: var(--disabled-fill-color);\n",
              "    box-shadow: none;\n",
              "  }\n",
              "\n",
              "  .colab-df-spinner {\n",
              "    border: 2px solid var(--fill-color);\n",
              "    border-color: transparent;\n",
              "    border-bottom-color: var(--fill-color);\n",
              "    animation:\n",
              "      spin 1s steps(1) infinite;\n",
              "  }\n",
              "\n",
              "  @keyframes spin {\n",
              "    0% {\n",
              "      border-color: transparent;\n",
              "      border-bottom-color: var(--fill-color);\n",
              "      border-left-color: var(--fill-color);\n",
              "    }\n",
              "    20% {\n",
              "      border-color: transparent;\n",
              "      border-left-color: var(--fill-color);\n",
              "      border-top-color: var(--fill-color);\n",
              "    }\n",
              "    30% {\n",
              "      border-color: transparent;\n",
              "      border-left-color: var(--fill-color);\n",
              "      border-top-color: var(--fill-color);\n",
              "      border-right-color: var(--fill-color);\n",
              "    }\n",
              "    40% {\n",
              "      border-color: transparent;\n",
              "      border-right-color: var(--fill-color);\n",
              "      border-top-color: var(--fill-color);\n",
              "    }\n",
              "    60% {\n",
              "      border-color: transparent;\n",
              "      border-right-color: var(--fill-color);\n",
              "    }\n",
              "    80% {\n",
              "      border-color: transparent;\n",
              "      border-right-color: var(--fill-color);\n",
              "      border-bottom-color: var(--fill-color);\n",
              "    }\n",
              "    90% {\n",
              "      border-color: transparent;\n",
              "      border-bottom-color: var(--fill-color);\n",
              "    }\n",
              "  }\n",
              "</style>\n",
              "\n",
              "  <script>\n",
              "    async function quickchart(key) {\n",
              "      const quickchartButtonEl =\n",
              "        document.querySelector('#' + key + ' button');\n",
              "      quickchartButtonEl.disabled = true;  // To prevent multiple clicks.\n",
              "      quickchartButtonEl.classList.add('colab-df-spinner');\n",
              "      try {\n",
              "        const charts = await google.colab.kernel.invokeFunction(\n",
              "            'suggestCharts', [key], {});\n",
              "      } catch (error) {\n",
              "        console.error('Error during call to suggestCharts:', error);\n",
              "      }\n",
              "      quickchartButtonEl.classList.remove('colab-df-spinner');\n",
              "      quickchartButtonEl.classList.add('colab-df-quickchart-complete');\n",
              "    }\n",
              "    (() => {\n",
              "      let quickchartButtonEl =\n",
              "        document.querySelector('#df-45ee3f2f-aba9-44a9-b805-e8aa56b90683 button');\n",
              "      quickchartButtonEl.style.display =\n",
              "        google.colab.kernel.accessAllowed ? 'block' : 'none';\n",
              "    })();\n",
              "  </script>\n",
              "</div>\n",
              "\n",
              "    </div>\n",
              "  </div>\n"
            ]
          },
          "metadata": {},
          "execution_count": 34
        }
      ]
    },
    {
      "cell_type": "code",
      "source": [
        "Health[categorical_cols].nunique()"
      ],
      "metadata": {
        "colab": {
          "base_uri": "https://localhost:8080/"
        },
        "id": "z67ytbPlA8ON",
        "outputId": "13b809d9-d53c-453f-9eef-5186328ace8e"
      },
      "execution_count": 35,
      "outputs": [
        {
          "output_type": "execute_result",
          "data": {
            "text/plain": [
              "gender            2\n",
              "smoking_status    2\n",
              "location          4\n",
              "dtype: int64"
            ]
          },
          "metadata": {},
          "execution_count": 35
        }
      ]
    },
    {
      "cell_type": "code",
      "source": [
        "from sklearn.preprocessing import OneHotEncoder\n",
        "encoder = OneHotEncoder(sparse=False, handle_unknown='ignore')"
      ],
      "metadata": {
        "id": "MCT3tsSmBBem"
      },
      "execution_count": 36,
      "outputs": []
    },
    {
      "cell_type": "code",
      "source": [
        "encoder.fit(Health[categorical_cols])"
      ],
      "metadata": {
        "colab": {
          "base_uri": "https://localhost:8080/",
          "height": 129
        },
        "id": "RVPcnlxcBH3Q",
        "outputId": "c350c765-6c46-4d5b-b20e-ea528bd4e96c"
      },
      "execution_count": 37,
      "outputs": [
        {
          "output_type": "stream",
          "name": "stderr",
          "text": [
            "/usr/local/lib/python3.10/dist-packages/sklearn/preprocessing/_encoders.py:868: FutureWarning: `sparse` was renamed to `sparse_output` in version 1.2 and will be removed in 1.4. `sparse_output` is ignored unless you leave `sparse` to its default value.\n",
            "  warnings.warn(\n"
          ]
        },
        {
          "output_type": "execute_result",
          "data": {
            "text/plain": [
              "OneHotEncoder(handle_unknown='ignore', sparse=False, sparse_output=False)"
            ],
            "text/html": [
              "<style>#sk-container-id-3 {color: black;background-color: white;}#sk-container-id-3 pre{padding: 0;}#sk-container-id-3 div.sk-toggleable {background-color: white;}#sk-container-id-3 label.sk-toggleable__label {cursor: pointer;display: block;width: 100%;margin-bottom: 0;padding: 0.3em;box-sizing: border-box;text-align: center;}#sk-container-id-3 label.sk-toggleable__label-arrow:before {content: \"▸\";float: left;margin-right: 0.25em;color: #696969;}#sk-container-id-3 label.sk-toggleable__label-arrow:hover:before {color: black;}#sk-container-id-3 div.sk-estimator:hover label.sk-toggleable__label-arrow:before {color: black;}#sk-container-id-3 div.sk-toggleable__content {max-height: 0;max-width: 0;overflow: hidden;text-align: left;background-color: #f0f8ff;}#sk-container-id-3 div.sk-toggleable__content pre {margin: 0.2em;color: black;border-radius: 0.25em;background-color: #f0f8ff;}#sk-container-id-3 input.sk-toggleable__control:checked~div.sk-toggleable__content {max-height: 200px;max-width: 100%;overflow: auto;}#sk-container-id-3 input.sk-toggleable__control:checked~label.sk-toggleable__label-arrow:before {content: \"▾\";}#sk-container-id-3 div.sk-estimator input.sk-toggleable__control:checked~label.sk-toggleable__label {background-color: #d4ebff;}#sk-container-id-3 div.sk-label input.sk-toggleable__control:checked~label.sk-toggleable__label {background-color: #d4ebff;}#sk-container-id-3 input.sk-hidden--visually {border: 0;clip: rect(1px 1px 1px 1px);clip: rect(1px, 1px, 1px, 1px);height: 1px;margin: -1px;overflow: hidden;padding: 0;position: absolute;width: 1px;}#sk-container-id-3 div.sk-estimator {font-family: monospace;background-color: #f0f8ff;border: 1px dotted black;border-radius: 0.25em;box-sizing: border-box;margin-bottom: 0.5em;}#sk-container-id-3 div.sk-estimator:hover {background-color: #d4ebff;}#sk-container-id-3 div.sk-parallel-item::after {content: \"\";width: 100%;border-bottom: 1px solid gray;flex-grow: 1;}#sk-container-id-3 div.sk-label:hover label.sk-toggleable__label {background-color: #d4ebff;}#sk-container-id-3 div.sk-serial::before {content: \"\";position: absolute;border-left: 1px solid gray;box-sizing: border-box;top: 0;bottom: 0;left: 50%;z-index: 0;}#sk-container-id-3 div.sk-serial {display: flex;flex-direction: column;align-items: center;background-color: white;padding-right: 0.2em;padding-left: 0.2em;position: relative;}#sk-container-id-3 div.sk-item {position: relative;z-index: 1;}#sk-container-id-3 div.sk-parallel {display: flex;align-items: stretch;justify-content: center;background-color: white;position: relative;}#sk-container-id-3 div.sk-item::before, #sk-container-id-3 div.sk-parallel-item::before {content: \"\";position: absolute;border-left: 1px solid gray;box-sizing: border-box;top: 0;bottom: 0;left: 50%;z-index: -1;}#sk-container-id-3 div.sk-parallel-item {display: flex;flex-direction: column;z-index: 1;position: relative;background-color: white;}#sk-container-id-3 div.sk-parallel-item:first-child::after {align-self: flex-end;width: 50%;}#sk-container-id-3 div.sk-parallel-item:last-child::after {align-self: flex-start;width: 50%;}#sk-container-id-3 div.sk-parallel-item:only-child::after {width: 0;}#sk-container-id-3 div.sk-dashed-wrapped {border: 1px dashed gray;margin: 0 0.4em 0.5em 0.4em;box-sizing: border-box;padding-bottom: 0.4em;background-color: white;}#sk-container-id-3 div.sk-label label {font-family: monospace;font-weight: bold;display: inline-block;line-height: 1.2em;}#sk-container-id-3 div.sk-label-container {text-align: center;}#sk-container-id-3 div.sk-container {/* jupyter's `normalize.less` sets `[hidden] { display: none; }` but bootstrap.min.css set `[hidden] { display: none !important; }` so we also need the `!important` here to be able to override the default hidden behavior on the sphinx rendered scikit-learn.org. See: https://github.com/scikit-learn/scikit-learn/issues/21755 */display: inline-block !important;position: relative;}#sk-container-id-3 div.sk-text-repr-fallback {display: none;}</style><div id=\"sk-container-id-3\" class=\"sk-top-container\"><div class=\"sk-text-repr-fallback\"><pre>OneHotEncoder(handle_unknown=&#x27;ignore&#x27;, sparse=False, sparse_output=False)</pre><b>In a Jupyter environment, please rerun this cell to show the HTML representation or trust the notebook. <br />On GitHub, the HTML representation is unable to render, please try loading this page with nbviewer.org.</b></div><div class=\"sk-container\" hidden><div class=\"sk-item\"><div class=\"sk-estimator sk-toggleable\"><input class=\"sk-toggleable__control sk-hidden--visually\" id=\"sk-estimator-id-3\" type=\"checkbox\" checked><label for=\"sk-estimator-id-3\" class=\"sk-toggleable__label sk-toggleable__label-arrow\">OneHotEncoder</label><div class=\"sk-toggleable__content\"><pre>OneHotEncoder(handle_unknown=&#x27;ignore&#x27;, sparse=False, sparse_output=False)</pre></div></div></div></div></div>"
            ]
          },
          "metadata": {},
          "execution_count": 37
        }
      ]
    },
    {
      "cell_type": "code",
      "source": [
        "encoder.categories_"
      ],
      "metadata": {
        "colab": {
          "base_uri": "https://localhost:8080/"
        },
        "id": "XMYrxaMTBMp3",
        "outputId": "465ae152-d28a-4d84-d38b-b0f59c690b5b"
      },
      "execution_count": 38,
      "outputs": [
        {
          "output_type": "execute_result",
          "data": {
            "text/plain": [
              "[array(['female', 'male'], dtype=object),\n",
              " array(['no', 'yes'], dtype=object),\n",
              " array(['northeast', 'northwest', 'southeast', 'southwest'], dtype=object)]"
            ]
          },
          "metadata": {},
          "execution_count": 38
        }
      ]
    },
    {
      "cell_type": "code",
      "source": [
        "encoded_cols = list(encoder.get_feature_names_out(categorical_cols))\n",
        "print(encoded_cols)"
      ],
      "metadata": {
        "colab": {
          "base_uri": "https://localhost:8080/"
        },
        "id": "NgfpdEPgBRh3",
        "outputId": "3ce593d1-a162-4d51-bff5-4430f9634437"
      },
      "execution_count": 39,
      "outputs": [
        {
          "output_type": "stream",
          "name": "stdout",
          "text": [
            "['gender_female', 'gender_male', 'smoking_status_no', 'smoking_status_yes', 'location_northeast', 'location_northwest', 'location_southeast', 'location_southwest']\n"
          ]
        }
      ]
    },
    {
      "cell_type": "code",
      "source": [
        "train_inputs[encoded_cols] = encoder.transform(train_inputs[categorical_cols])\n",
        "val_inputs[encoded_cols] = encoder.transform(val_inputs[categorical_cols])\n",
        "test_inputs[encoded_cols] = encoder.transform(test_inputs[categorical_cols])"
      ],
      "metadata": {
        "id": "8jaciQnJBaOo"
      },
      "execution_count": 40,
      "outputs": []
    },
    {
      "cell_type": "code",
      "source": [
        "test_inputs"
      ],
      "metadata": {
        "colab": {
          "base_uri": "https://localhost:8080/",
          "height": 443
        },
        "id": "4G6MGlR6BdfJ",
        "outputId": "92612a17-7275-4225-ac08-481f59814dfe"
      },
      "execution_count": 41,
      "outputs": [
        {
          "output_type": "execute_result",
          "data": {
            "text/plain": [
              "           age  gender       BMI  Children smoking_status   location  \\\n",
              "898   0.000000  female  0.653753       0.0             no  southeast   \n",
              "1062  0.891304    male  0.677428       0.2            yes  southeast   \n",
              "1254  0.347826  female  0.316384       0.0             no  southeast   \n",
              "298   0.282609    male  0.495830       0.6            yes  northwest   \n",
              "237   0.282609    male  0.603444       0.4             no  southeast   \n",
              "...        ...     ...       ...       ...            ...        ...   \n",
              "534   1.000000    male  0.659672       0.0             no  southeast   \n",
              "542   0.978261  female  0.547215       0.0             no  southeast   \n",
              "895   0.934783  female  0.754372       0.0             no  southwest   \n",
              "1092  0.108696    male  0.450363       0.6             no  southwest   \n",
              "1284  0.934783    male  0.547215       0.2            yes  southwest   \n",
              "\n",
              "      gender_female  gender_male  smoking_status_no  smoking_status_yes  \\\n",
              "898             1.0          0.0                1.0                 0.0   \n",
              "1062            0.0          1.0                0.0                 1.0   \n",
              "1254            1.0          0.0                1.0                 0.0   \n",
              "298             0.0          1.0                0.0                 1.0   \n",
              "237             0.0          1.0                1.0                 0.0   \n",
              "...             ...          ...                ...                 ...   \n",
              "534             0.0          1.0                1.0                 0.0   \n",
              "542             1.0          0.0                1.0                 0.0   \n",
              "895             1.0          0.0                1.0                 0.0   \n",
              "1092            0.0          1.0                1.0                 0.0   \n",
              "1284            0.0          1.0                0.0                 1.0   \n",
              "\n",
              "      location_northeast  location_northwest  location_southeast  \\\n",
              "898                  0.0                 0.0                 1.0   \n",
              "1062                 0.0                 0.0                 1.0   \n",
              "1254                 0.0                 0.0                 1.0   \n",
              "298                  0.0                 1.0                 0.0   \n",
              "237                  0.0                 0.0                 1.0   \n",
              "...                  ...                 ...                 ...   \n",
              "534                  0.0                 0.0                 1.0   \n",
              "542                  0.0                 0.0                 1.0   \n",
              "895                  0.0                 0.0                 0.0   \n",
              "1092                 0.0                 0.0                 0.0   \n",
              "1284                 0.0                 0.0                 0.0   \n",
              "\n",
              "      location_southwest  \n",
              "898                  0.0  \n",
              "1062                 0.0  \n",
              "1254                 0.0  \n",
              "298                  0.0  \n",
              "237                  0.0  \n",
              "...                  ...  \n",
              "534                  0.0  \n",
              "542                  0.0  \n",
              "895                  1.0  \n",
              "1092                 1.0  \n",
              "1284                 1.0  \n",
              "\n",
              "[268 rows x 14 columns]"
            ],
            "text/html": [
              "\n",
              "  <div id=\"df-1011fc15-db26-4ce0-8c00-1d433e405cd6\" class=\"colab-df-container\">\n",
              "    <div>\n",
              "<style scoped>\n",
              "    .dataframe tbody tr th:only-of-type {\n",
              "        vertical-align: middle;\n",
              "    }\n",
              "\n",
              "    .dataframe tbody tr th {\n",
              "        vertical-align: top;\n",
              "    }\n",
              "\n",
              "    .dataframe thead th {\n",
              "        text-align: right;\n",
              "    }\n",
              "</style>\n",
              "<table border=\"1\" class=\"dataframe\">\n",
              "  <thead>\n",
              "    <tr style=\"text-align: right;\">\n",
              "      <th></th>\n",
              "      <th>age</th>\n",
              "      <th>gender</th>\n",
              "      <th>BMI</th>\n",
              "      <th>Children</th>\n",
              "      <th>smoking_status</th>\n",
              "      <th>location</th>\n",
              "      <th>gender_female</th>\n",
              "      <th>gender_male</th>\n",
              "      <th>smoking_status_no</th>\n",
              "      <th>smoking_status_yes</th>\n",
              "      <th>location_northeast</th>\n",
              "      <th>location_northwest</th>\n",
              "      <th>location_southeast</th>\n",
              "      <th>location_southwest</th>\n",
              "    </tr>\n",
              "  </thead>\n",
              "  <tbody>\n",
              "    <tr>\n",
              "      <th>898</th>\n",
              "      <td>0.000000</td>\n",
              "      <td>female</td>\n",
              "      <td>0.653753</td>\n",
              "      <td>0.0</td>\n",
              "      <td>no</td>\n",
              "      <td>southeast</td>\n",
              "      <td>1.0</td>\n",
              "      <td>0.0</td>\n",
              "      <td>1.0</td>\n",
              "      <td>0.0</td>\n",
              "      <td>0.0</td>\n",
              "      <td>0.0</td>\n",
              "      <td>1.0</td>\n",
              "      <td>0.0</td>\n",
              "    </tr>\n",
              "    <tr>\n",
              "      <th>1062</th>\n",
              "      <td>0.891304</td>\n",
              "      <td>male</td>\n",
              "      <td>0.677428</td>\n",
              "      <td>0.2</td>\n",
              "      <td>yes</td>\n",
              "      <td>southeast</td>\n",
              "      <td>0.0</td>\n",
              "      <td>1.0</td>\n",
              "      <td>0.0</td>\n",
              "      <td>1.0</td>\n",
              "      <td>0.0</td>\n",
              "      <td>0.0</td>\n",
              "      <td>1.0</td>\n",
              "      <td>0.0</td>\n",
              "    </tr>\n",
              "    <tr>\n",
              "      <th>1254</th>\n",
              "      <td>0.347826</td>\n",
              "      <td>female</td>\n",
              "      <td>0.316384</td>\n",
              "      <td>0.0</td>\n",
              "      <td>no</td>\n",
              "      <td>southeast</td>\n",
              "      <td>1.0</td>\n",
              "      <td>0.0</td>\n",
              "      <td>1.0</td>\n",
              "      <td>0.0</td>\n",
              "      <td>0.0</td>\n",
              "      <td>0.0</td>\n",
              "      <td>1.0</td>\n",
              "      <td>0.0</td>\n",
              "    </tr>\n",
              "    <tr>\n",
              "      <th>298</th>\n",
              "      <td>0.282609</td>\n",
              "      <td>male</td>\n",
              "      <td>0.495830</td>\n",
              "      <td>0.6</td>\n",
              "      <td>yes</td>\n",
              "      <td>northwest</td>\n",
              "      <td>0.0</td>\n",
              "      <td>1.0</td>\n",
              "      <td>0.0</td>\n",
              "      <td>1.0</td>\n",
              "      <td>0.0</td>\n",
              "      <td>1.0</td>\n",
              "      <td>0.0</td>\n",
              "      <td>0.0</td>\n",
              "    </tr>\n",
              "    <tr>\n",
              "      <th>237</th>\n",
              "      <td>0.282609</td>\n",
              "      <td>male</td>\n",
              "      <td>0.603444</td>\n",
              "      <td>0.4</td>\n",
              "      <td>no</td>\n",
              "      <td>southeast</td>\n",
              "      <td>0.0</td>\n",
              "      <td>1.0</td>\n",
              "      <td>1.0</td>\n",
              "      <td>0.0</td>\n",
              "      <td>0.0</td>\n",
              "      <td>0.0</td>\n",
              "      <td>1.0</td>\n",
              "      <td>0.0</td>\n",
              "    </tr>\n",
              "    <tr>\n",
              "      <th>...</th>\n",
              "      <td>...</td>\n",
              "      <td>...</td>\n",
              "      <td>...</td>\n",
              "      <td>...</td>\n",
              "      <td>...</td>\n",
              "      <td>...</td>\n",
              "      <td>...</td>\n",
              "      <td>...</td>\n",
              "      <td>...</td>\n",
              "      <td>...</td>\n",
              "      <td>...</td>\n",
              "      <td>...</td>\n",
              "      <td>...</td>\n",
              "      <td>...</td>\n",
              "    </tr>\n",
              "    <tr>\n",
              "      <th>534</th>\n",
              "      <td>1.000000</td>\n",
              "      <td>male</td>\n",
              "      <td>0.659672</td>\n",
              "      <td>0.0</td>\n",
              "      <td>no</td>\n",
              "      <td>southeast</td>\n",
              "      <td>0.0</td>\n",
              "      <td>1.0</td>\n",
              "      <td>1.0</td>\n",
              "      <td>0.0</td>\n",
              "      <td>0.0</td>\n",
              "      <td>0.0</td>\n",
              "      <td>1.0</td>\n",
              "      <td>0.0</td>\n",
              "    </tr>\n",
              "    <tr>\n",
              "      <th>542</th>\n",
              "      <td>0.978261</td>\n",
              "      <td>female</td>\n",
              "      <td>0.547215</td>\n",
              "      <td>0.0</td>\n",
              "      <td>no</td>\n",
              "      <td>southeast</td>\n",
              "      <td>1.0</td>\n",
              "      <td>0.0</td>\n",
              "      <td>1.0</td>\n",
              "      <td>0.0</td>\n",
              "      <td>0.0</td>\n",
              "      <td>0.0</td>\n",
              "      <td>1.0</td>\n",
              "      <td>0.0</td>\n",
              "    </tr>\n",
              "    <tr>\n",
              "      <th>895</th>\n",
              "      <td>0.934783</td>\n",
              "      <td>female</td>\n",
              "      <td>0.754372</td>\n",
              "      <td>0.0</td>\n",
              "      <td>no</td>\n",
              "      <td>southwest</td>\n",
              "      <td>1.0</td>\n",
              "      <td>0.0</td>\n",
              "      <td>1.0</td>\n",
              "      <td>0.0</td>\n",
              "      <td>0.0</td>\n",
              "      <td>0.0</td>\n",
              "      <td>0.0</td>\n",
              "      <td>1.0</td>\n",
              "    </tr>\n",
              "    <tr>\n",
              "      <th>1092</th>\n",
              "      <td>0.108696</td>\n",
              "      <td>male</td>\n",
              "      <td>0.450363</td>\n",
              "      <td>0.6</td>\n",
              "      <td>no</td>\n",
              "      <td>southwest</td>\n",
              "      <td>0.0</td>\n",
              "      <td>1.0</td>\n",
              "      <td>1.0</td>\n",
              "      <td>0.0</td>\n",
              "      <td>0.0</td>\n",
              "      <td>0.0</td>\n",
              "      <td>0.0</td>\n",
              "      <td>1.0</td>\n",
              "    </tr>\n",
              "    <tr>\n",
              "      <th>1284</th>\n",
              "      <td>0.934783</td>\n",
              "      <td>male</td>\n",
              "      <td>0.547215</td>\n",
              "      <td>0.2</td>\n",
              "      <td>yes</td>\n",
              "      <td>southwest</td>\n",
              "      <td>0.0</td>\n",
              "      <td>1.0</td>\n",
              "      <td>0.0</td>\n",
              "      <td>1.0</td>\n",
              "      <td>0.0</td>\n",
              "      <td>0.0</td>\n",
              "      <td>0.0</td>\n",
              "      <td>1.0</td>\n",
              "    </tr>\n",
              "  </tbody>\n",
              "</table>\n",
              "<p>268 rows × 14 columns</p>\n",
              "</div>\n",
              "    <div class=\"colab-df-buttons\">\n",
              "\n",
              "  <div class=\"colab-df-container\">\n",
              "    <button class=\"colab-df-convert\" onclick=\"convertToInteractive('df-1011fc15-db26-4ce0-8c00-1d433e405cd6')\"\n",
              "            title=\"Convert this dataframe to an interactive table.\"\n",
              "            style=\"display:none;\">\n",
              "\n",
              "  <svg xmlns=\"http://www.w3.org/2000/svg\" height=\"24px\" viewBox=\"0 -960 960 960\">\n",
              "    <path d=\"M120-120v-720h720v720H120Zm60-500h600v-160H180v160Zm220 220h160v-160H400v160Zm0 220h160v-160H400v160ZM180-400h160v-160H180v160Zm440 0h160v-160H620v160ZM180-180h160v-160H180v160Zm440 0h160v-160H620v160Z\"/>\n",
              "  </svg>\n",
              "    </button>\n",
              "\n",
              "  <style>\n",
              "    .colab-df-container {\n",
              "      display:flex;\n",
              "      gap: 12px;\n",
              "    }\n",
              "\n",
              "    .colab-df-convert {\n",
              "      background-color: #E8F0FE;\n",
              "      border: none;\n",
              "      border-radius: 50%;\n",
              "      cursor: pointer;\n",
              "      display: none;\n",
              "      fill: #1967D2;\n",
              "      height: 32px;\n",
              "      padding: 0 0 0 0;\n",
              "      width: 32px;\n",
              "    }\n",
              "\n",
              "    .colab-df-convert:hover {\n",
              "      background-color: #E2EBFA;\n",
              "      box-shadow: 0px 1px 2px rgba(60, 64, 67, 0.3), 0px 1px 3px 1px rgba(60, 64, 67, 0.15);\n",
              "      fill: #174EA6;\n",
              "    }\n",
              "\n",
              "    .colab-df-buttons div {\n",
              "      margin-bottom: 4px;\n",
              "    }\n",
              "\n",
              "    [theme=dark] .colab-df-convert {\n",
              "      background-color: #3B4455;\n",
              "      fill: #D2E3FC;\n",
              "    }\n",
              "\n",
              "    [theme=dark] .colab-df-convert:hover {\n",
              "      background-color: #434B5C;\n",
              "      box-shadow: 0px 1px 3px 1px rgba(0, 0, 0, 0.15);\n",
              "      filter: drop-shadow(0px 1px 2px rgba(0, 0, 0, 0.3));\n",
              "      fill: #FFFFFF;\n",
              "    }\n",
              "  </style>\n",
              "\n",
              "    <script>\n",
              "      const buttonEl =\n",
              "        document.querySelector('#df-1011fc15-db26-4ce0-8c00-1d433e405cd6 button.colab-df-convert');\n",
              "      buttonEl.style.display =\n",
              "        google.colab.kernel.accessAllowed ? 'block' : 'none';\n",
              "\n",
              "      async function convertToInteractive(key) {\n",
              "        const element = document.querySelector('#df-1011fc15-db26-4ce0-8c00-1d433e405cd6');\n",
              "        const dataTable =\n",
              "          await google.colab.kernel.invokeFunction('convertToInteractive',\n",
              "                                                    [key], {});\n",
              "        if (!dataTable) return;\n",
              "\n",
              "        const docLinkHtml = 'Like what you see? Visit the ' +\n",
              "          '<a target=\"_blank\" href=https://colab.research.google.com/notebooks/data_table.ipynb>data table notebook</a>'\n",
              "          + ' to learn more about interactive tables.';\n",
              "        element.innerHTML = '';\n",
              "        dataTable['output_type'] = 'display_data';\n",
              "        await google.colab.output.renderOutput(dataTable, element);\n",
              "        const docLink = document.createElement('div');\n",
              "        docLink.innerHTML = docLinkHtml;\n",
              "        element.appendChild(docLink);\n",
              "      }\n",
              "    </script>\n",
              "  </div>\n",
              "\n",
              "\n",
              "<div id=\"df-6f1844d6-9471-449b-a467-0253def3f1ee\">\n",
              "  <button class=\"colab-df-quickchart\" onclick=\"quickchart('df-6f1844d6-9471-449b-a467-0253def3f1ee')\"\n",
              "            title=\"Suggest charts\"\n",
              "            style=\"display:none;\">\n",
              "\n",
              "<svg xmlns=\"http://www.w3.org/2000/svg\" height=\"24px\"viewBox=\"0 0 24 24\"\n",
              "     width=\"24px\">\n",
              "    <g>\n",
              "        <path d=\"M19 3H5c-1.1 0-2 .9-2 2v14c0 1.1.9 2 2 2h14c1.1 0 2-.9 2-2V5c0-1.1-.9-2-2-2zM9 17H7v-7h2v7zm4 0h-2V7h2v10zm4 0h-2v-4h2v4z\"/>\n",
              "    </g>\n",
              "</svg>\n",
              "  </button>\n",
              "\n",
              "<style>\n",
              "  .colab-df-quickchart {\n",
              "      --bg-color: #E8F0FE;\n",
              "      --fill-color: #1967D2;\n",
              "      --hover-bg-color: #E2EBFA;\n",
              "      --hover-fill-color: #174EA6;\n",
              "      --disabled-fill-color: #AAA;\n",
              "      --disabled-bg-color: #DDD;\n",
              "  }\n",
              "\n",
              "  [theme=dark] .colab-df-quickchart {\n",
              "      --bg-color: #3B4455;\n",
              "      --fill-color: #D2E3FC;\n",
              "      --hover-bg-color: #434B5C;\n",
              "      --hover-fill-color: #FFFFFF;\n",
              "      --disabled-bg-color: #3B4455;\n",
              "      --disabled-fill-color: #666;\n",
              "  }\n",
              "\n",
              "  .colab-df-quickchart {\n",
              "    background-color: var(--bg-color);\n",
              "    border: none;\n",
              "    border-radius: 50%;\n",
              "    cursor: pointer;\n",
              "    display: none;\n",
              "    fill: var(--fill-color);\n",
              "    height: 32px;\n",
              "    padding: 0;\n",
              "    width: 32px;\n",
              "  }\n",
              "\n",
              "  .colab-df-quickchart:hover {\n",
              "    background-color: var(--hover-bg-color);\n",
              "    box-shadow: 0 1px 2px rgba(60, 64, 67, 0.3), 0 1px 3px 1px rgba(60, 64, 67, 0.15);\n",
              "    fill: var(--button-hover-fill-color);\n",
              "  }\n",
              "\n",
              "  .colab-df-quickchart-complete:disabled,\n",
              "  .colab-df-quickchart-complete:disabled:hover {\n",
              "    background-color: var(--disabled-bg-color);\n",
              "    fill: var(--disabled-fill-color);\n",
              "    box-shadow: none;\n",
              "  }\n",
              "\n",
              "  .colab-df-spinner {\n",
              "    border: 2px solid var(--fill-color);\n",
              "    border-color: transparent;\n",
              "    border-bottom-color: var(--fill-color);\n",
              "    animation:\n",
              "      spin 1s steps(1) infinite;\n",
              "  }\n",
              "\n",
              "  @keyframes spin {\n",
              "    0% {\n",
              "      border-color: transparent;\n",
              "      border-bottom-color: var(--fill-color);\n",
              "      border-left-color: var(--fill-color);\n",
              "    }\n",
              "    20% {\n",
              "      border-color: transparent;\n",
              "      border-left-color: var(--fill-color);\n",
              "      border-top-color: var(--fill-color);\n",
              "    }\n",
              "    30% {\n",
              "      border-color: transparent;\n",
              "      border-left-color: var(--fill-color);\n",
              "      border-top-color: var(--fill-color);\n",
              "      border-right-color: var(--fill-color);\n",
              "    }\n",
              "    40% {\n",
              "      border-color: transparent;\n",
              "      border-right-color: var(--fill-color);\n",
              "      border-top-color: var(--fill-color);\n",
              "    }\n",
              "    60% {\n",
              "      border-color: transparent;\n",
              "      border-right-color: var(--fill-color);\n",
              "    }\n",
              "    80% {\n",
              "      border-color: transparent;\n",
              "      border-right-color: var(--fill-color);\n",
              "      border-bottom-color: var(--fill-color);\n",
              "    }\n",
              "    90% {\n",
              "      border-color: transparent;\n",
              "      border-bottom-color: var(--fill-color);\n",
              "    }\n",
              "  }\n",
              "</style>\n",
              "\n",
              "  <script>\n",
              "    async function quickchart(key) {\n",
              "      const quickchartButtonEl =\n",
              "        document.querySelector('#' + key + ' button');\n",
              "      quickchartButtonEl.disabled = true;  // To prevent multiple clicks.\n",
              "      quickchartButtonEl.classList.add('colab-df-spinner');\n",
              "      try {\n",
              "        const charts = await google.colab.kernel.invokeFunction(\n",
              "            'suggestCharts', [key], {});\n",
              "      } catch (error) {\n",
              "        console.error('Error during call to suggestCharts:', error);\n",
              "      }\n",
              "      quickchartButtonEl.classList.remove('colab-df-spinner');\n",
              "      quickchartButtonEl.classList.add('colab-df-quickchart-complete');\n",
              "    }\n",
              "    (() => {\n",
              "      let quickchartButtonEl =\n",
              "        document.querySelector('#df-6f1844d6-9471-449b-a467-0253def3f1ee button');\n",
              "      quickchartButtonEl.style.display =\n",
              "        google.colab.kernel.accessAllowed ? 'block' : 'none';\n",
              "    })();\n",
              "  </script>\n",
              "</div>\n",
              "\n",
              "  <div id=\"id_786102f8-c1c6-4855-9c6d-11648f9904ea\">\n",
              "    <style>\n",
              "      .colab-df-generate {\n",
              "        background-color: #E8F0FE;\n",
              "        border: none;\n",
              "        border-radius: 50%;\n",
              "        cursor: pointer;\n",
              "        display: none;\n",
              "        fill: #1967D2;\n",
              "        height: 32px;\n",
              "        padding: 0 0 0 0;\n",
              "        width: 32px;\n",
              "      }\n",
              "\n",
              "      .colab-df-generate:hover {\n",
              "        background-color: #E2EBFA;\n",
              "        box-shadow: 0px 1px 2px rgba(60, 64, 67, 0.3), 0px 1px 3px 1px rgba(60, 64, 67, 0.15);\n",
              "        fill: #174EA6;\n",
              "      }\n",
              "\n",
              "      [theme=dark] .colab-df-generate {\n",
              "        background-color: #3B4455;\n",
              "        fill: #D2E3FC;\n",
              "      }\n",
              "\n",
              "      [theme=dark] .colab-df-generate:hover {\n",
              "        background-color: #434B5C;\n",
              "        box-shadow: 0px 1px 3px 1px rgba(0, 0, 0, 0.15);\n",
              "        filter: drop-shadow(0px 1px 2px rgba(0, 0, 0, 0.3));\n",
              "        fill: #FFFFFF;\n",
              "      }\n",
              "    </style>\n",
              "    <button class=\"colab-df-generate\" onclick=\"generateWithVariable('test_inputs')\"\n",
              "            title=\"Generate code using this dataframe.\"\n",
              "            style=\"display:none;\">\n",
              "\n",
              "  <svg xmlns=\"http://www.w3.org/2000/svg\" height=\"24px\"viewBox=\"0 0 24 24\"\n",
              "       width=\"24px\">\n",
              "    <path d=\"M7,19H8.4L18.45,9,17,7.55,7,17.6ZM5,21V16.75L18.45,3.32a2,2,0,0,1,2.83,0l1.4,1.43a1.91,1.91,0,0,1,.58,1.4,1.91,1.91,0,0,1-.58,1.4L9.25,21ZM18.45,9,17,7.55Zm-12,3A5.31,5.31,0,0,0,4.9,8.1,5.31,5.31,0,0,0,1,6.5,5.31,5.31,0,0,0,4.9,4.9,5.31,5.31,0,0,0,6.5,1,5.31,5.31,0,0,0,8.1,4.9,5.31,5.31,0,0,0,12,6.5,5.46,5.46,0,0,0,6.5,12Z\"/>\n",
              "  </svg>\n",
              "    </button>\n",
              "    <script>\n",
              "      (() => {\n",
              "      const buttonEl =\n",
              "        document.querySelector('#id_786102f8-c1c6-4855-9c6d-11648f9904ea button.colab-df-generate');\n",
              "      buttonEl.style.display =\n",
              "        google.colab.kernel.accessAllowed ? 'block' : 'none';\n",
              "\n",
              "      buttonEl.onclick = () => {\n",
              "        google.colab.notebook.generateWithVariable('test_inputs');\n",
              "      }\n",
              "      })();\n",
              "    </script>\n",
              "  </div>\n",
              "\n",
              "    </div>\n",
              "  </div>\n"
            ]
          },
          "metadata": {},
          "execution_count": 41
        }
      ]
    },
    {
      "cell_type": "code",
      "source": [
        "print('train_inputs:', train_inputs.shape)\n",
        "print('train_targets:', train_targets.shape)\n",
        "print('val_inputs:', val_inputs.shape)\n",
        "print('val_targets:', val_targets.shape)\n",
        "print('test_inputs:', test_inputs.shape)\n",
        "print('test_targets:', test_targets.shape)"
      ],
      "metadata": {
        "colab": {
          "base_uri": "https://localhost:8080/"
        },
        "id": "4DHOtWPZBpVq",
        "outputId": "981934dd-02a9-43b2-f694-561cdc028c78"
      },
      "execution_count": 42,
      "outputs": [
        {
          "output_type": "stream",
          "name": "stdout",
          "text": [
            "train_inputs: (801, 14)\n",
            "train_targets: (801,)\n",
            "val_inputs: (267, 14)\n",
            "val_targets: (267,)\n",
            "test_inputs: (268, 14)\n",
            "test_targets: (268,)\n"
          ]
        }
      ]
    },
    {
      "cell_type": "code",
      "source": [
        "val_inputs"
      ],
      "metadata": {
        "colab": {
          "base_uri": "https://localhost:8080/",
          "height": 443
        },
        "id": "FOXUePl7Brlq",
        "outputId": "07a935ce-92e5-4725-a6b5-8bb55c8b9bd5"
      },
      "execution_count": 43,
      "outputs": [
        {
          "output_type": "execute_result",
          "data": {
            "text/plain": [
              "           age  gender       BMI  Children smoking_status   location  \\\n",
              "603   1.000000  female  0.621200       0.6             no  southeast   \n",
              "715   0.913043    male  0.348130       0.0             no  southwest   \n",
              "608   0.217391    male  0.296476       0.4             no  northeast   \n",
              "285   0.608696    male  0.286790       0.2             no  southeast   \n",
              "1274  0.173913    male  0.298628       0.0            yes  southeast   \n",
              "...        ...     ...       ...       ...            ...        ...   \n",
              "740   0.586957    male  0.217245       0.4             no  northeast   \n",
              "1138  0.326087    male  0.384450       0.0             no  southeast   \n",
              "150   0.369565    male  0.219801       0.2             no  northwest   \n",
              "293   0.086957  female  0.345978       0.0             no  southeast   \n",
              "868   0.934783    male  0.207022       0.0             no  northeast   \n",
              "\n",
              "      gender_female  gender_male  smoking_status_no  smoking_status_yes  \\\n",
              "603             1.0          0.0                1.0                 0.0   \n",
              "715             0.0          1.0                1.0                 0.0   \n",
              "608             0.0          1.0                1.0                 0.0   \n",
              "285             0.0          1.0                1.0                 0.0   \n",
              "1274            0.0          1.0                0.0                 1.0   \n",
              "...             ...          ...                ...                 ...   \n",
              "740             0.0          1.0                1.0                 0.0   \n",
              "1138            0.0          1.0                1.0                 0.0   \n",
              "150             0.0          1.0                1.0                 0.0   \n",
              "293             1.0          0.0                1.0                 0.0   \n",
              "868             0.0          1.0                1.0                 0.0   \n",
              "\n",
              "      location_northeast  location_northwest  location_southeast  \\\n",
              "603                  0.0                 0.0                 1.0   \n",
              "715                  0.0                 0.0                 0.0   \n",
              "608                  1.0                 0.0                 0.0   \n",
              "285                  0.0                 0.0                 1.0   \n",
              "1274                 0.0                 0.0                 1.0   \n",
              "...                  ...                 ...                 ...   \n",
              "740                  1.0                 0.0                 0.0   \n",
              "1138                 0.0                 0.0                 1.0   \n",
              "150                  0.0                 1.0                 0.0   \n",
              "293                  0.0                 0.0                 1.0   \n",
              "868                  1.0                 0.0                 0.0   \n",
              "\n",
              "      location_southwest  \n",
              "603                  0.0  \n",
              "715                  1.0  \n",
              "608                  0.0  \n",
              "285                  0.0  \n",
              "1274                 0.0  \n",
              "...                  ...  \n",
              "740                  0.0  \n",
              "1138                 0.0  \n",
              "150                  0.0  \n",
              "293                  0.0  \n",
              "868                  0.0  \n",
              "\n",
              "[267 rows x 14 columns]"
            ],
            "text/html": [
              "\n",
              "  <div id=\"df-3c25236e-d0fd-4e25-9114-2a1596353ac3\" class=\"colab-df-container\">\n",
              "    <div>\n",
              "<style scoped>\n",
              "    .dataframe tbody tr th:only-of-type {\n",
              "        vertical-align: middle;\n",
              "    }\n",
              "\n",
              "    .dataframe tbody tr th {\n",
              "        vertical-align: top;\n",
              "    }\n",
              "\n",
              "    .dataframe thead th {\n",
              "        text-align: right;\n",
              "    }\n",
              "</style>\n",
              "<table border=\"1\" class=\"dataframe\">\n",
              "  <thead>\n",
              "    <tr style=\"text-align: right;\">\n",
              "      <th></th>\n",
              "      <th>age</th>\n",
              "      <th>gender</th>\n",
              "      <th>BMI</th>\n",
              "      <th>Children</th>\n",
              "      <th>smoking_status</th>\n",
              "      <th>location</th>\n",
              "      <th>gender_female</th>\n",
              "      <th>gender_male</th>\n",
              "      <th>smoking_status_no</th>\n",
              "      <th>smoking_status_yes</th>\n",
              "      <th>location_northeast</th>\n",
              "      <th>location_northwest</th>\n",
              "      <th>location_southeast</th>\n",
              "      <th>location_southwest</th>\n",
              "    </tr>\n",
              "  </thead>\n",
              "  <tbody>\n",
              "    <tr>\n",
              "      <th>603</th>\n",
              "      <td>1.000000</td>\n",
              "      <td>female</td>\n",
              "      <td>0.621200</td>\n",
              "      <td>0.6</td>\n",
              "      <td>no</td>\n",
              "      <td>southeast</td>\n",
              "      <td>1.0</td>\n",
              "      <td>0.0</td>\n",
              "      <td>1.0</td>\n",
              "      <td>0.0</td>\n",
              "      <td>0.0</td>\n",
              "      <td>0.0</td>\n",
              "      <td>1.0</td>\n",
              "      <td>0.0</td>\n",
              "    </tr>\n",
              "    <tr>\n",
              "      <th>715</th>\n",
              "      <td>0.913043</td>\n",
              "      <td>male</td>\n",
              "      <td>0.348130</td>\n",
              "      <td>0.0</td>\n",
              "      <td>no</td>\n",
              "      <td>southwest</td>\n",
              "      <td>0.0</td>\n",
              "      <td>1.0</td>\n",
              "      <td>1.0</td>\n",
              "      <td>0.0</td>\n",
              "      <td>0.0</td>\n",
              "      <td>0.0</td>\n",
              "      <td>0.0</td>\n",
              "      <td>1.0</td>\n",
              "    </tr>\n",
              "    <tr>\n",
              "      <th>608</th>\n",
              "      <td>0.217391</td>\n",
              "      <td>male</td>\n",
              "      <td>0.296476</td>\n",
              "      <td>0.4</td>\n",
              "      <td>no</td>\n",
              "      <td>northeast</td>\n",
              "      <td>0.0</td>\n",
              "      <td>1.0</td>\n",
              "      <td>1.0</td>\n",
              "      <td>0.0</td>\n",
              "      <td>1.0</td>\n",
              "      <td>0.0</td>\n",
              "      <td>0.0</td>\n",
              "      <td>0.0</td>\n",
              "    </tr>\n",
              "    <tr>\n",
              "      <th>285</th>\n",
              "      <td>0.608696</td>\n",
              "      <td>male</td>\n",
              "      <td>0.286790</td>\n",
              "      <td>0.2</td>\n",
              "      <td>no</td>\n",
              "      <td>southeast</td>\n",
              "      <td>0.0</td>\n",
              "      <td>1.0</td>\n",
              "      <td>1.0</td>\n",
              "      <td>0.0</td>\n",
              "      <td>0.0</td>\n",
              "      <td>0.0</td>\n",
              "      <td>1.0</td>\n",
              "      <td>0.0</td>\n",
              "    </tr>\n",
              "    <tr>\n",
              "      <th>1274</th>\n",
              "      <td>0.173913</td>\n",
              "      <td>male</td>\n",
              "      <td>0.298628</td>\n",
              "      <td>0.0</td>\n",
              "      <td>yes</td>\n",
              "      <td>southeast</td>\n",
              "      <td>0.0</td>\n",
              "      <td>1.0</td>\n",
              "      <td>0.0</td>\n",
              "      <td>1.0</td>\n",
              "      <td>0.0</td>\n",
              "      <td>0.0</td>\n",
              "      <td>1.0</td>\n",
              "      <td>0.0</td>\n",
              "    </tr>\n",
              "    <tr>\n",
              "      <th>...</th>\n",
              "      <td>...</td>\n",
              "      <td>...</td>\n",
              "      <td>...</td>\n",
              "      <td>...</td>\n",
              "      <td>...</td>\n",
              "      <td>...</td>\n",
              "      <td>...</td>\n",
              "      <td>...</td>\n",
              "      <td>...</td>\n",
              "      <td>...</td>\n",
              "      <td>...</td>\n",
              "      <td>...</td>\n",
              "      <td>...</td>\n",
              "      <td>...</td>\n",
              "    </tr>\n",
              "    <tr>\n",
              "      <th>740</th>\n",
              "      <td>0.586957</td>\n",
              "      <td>male</td>\n",
              "      <td>0.217245</td>\n",
              "      <td>0.4</td>\n",
              "      <td>no</td>\n",
              "      <td>northeast</td>\n",
              "      <td>0.0</td>\n",
              "      <td>1.0</td>\n",
              "      <td>1.0</td>\n",
              "      <td>0.0</td>\n",
              "      <td>1.0</td>\n",
              "      <td>0.0</td>\n",
              "      <td>0.0</td>\n",
              "      <td>0.0</td>\n",
              "    </tr>\n",
              "    <tr>\n",
              "      <th>1138</th>\n",
              "      <td>0.326087</td>\n",
              "      <td>male</td>\n",
              "      <td>0.384450</td>\n",
              "      <td>0.0</td>\n",
              "      <td>no</td>\n",
              "      <td>southeast</td>\n",
              "      <td>0.0</td>\n",
              "      <td>1.0</td>\n",
              "      <td>1.0</td>\n",
              "      <td>0.0</td>\n",
              "      <td>0.0</td>\n",
              "      <td>0.0</td>\n",
              "      <td>1.0</td>\n",
              "      <td>0.0</td>\n",
              "    </tr>\n",
              "    <tr>\n",
              "      <th>150</th>\n",
              "      <td>0.369565</td>\n",
              "      <td>male</td>\n",
              "      <td>0.219801</td>\n",
              "      <td>0.2</td>\n",
              "      <td>no</td>\n",
              "      <td>northwest</td>\n",
              "      <td>0.0</td>\n",
              "      <td>1.0</td>\n",
              "      <td>1.0</td>\n",
              "      <td>0.0</td>\n",
              "      <td>0.0</td>\n",
              "      <td>1.0</td>\n",
              "      <td>0.0</td>\n",
              "      <td>0.0</td>\n",
              "    </tr>\n",
              "    <tr>\n",
              "      <th>293</th>\n",
              "      <td>0.086957</td>\n",
              "      <td>female</td>\n",
              "      <td>0.345978</td>\n",
              "      <td>0.0</td>\n",
              "      <td>no</td>\n",
              "      <td>southeast</td>\n",
              "      <td>1.0</td>\n",
              "      <td>0.0</td>\n",
              "      <td>1.0</td>\n",
              "      <td>0.0</td>\n",
              "      <td>0.0</td>\n",
              "      <td>0.0</td>\n",
              "      <td>1.0</td>\n",
              "      <td>0.0</td>\n",
              "    </tr>\n",
              "    <tr>\n",
              "      <th>868</th>\n",
              "      <td>0.934783</td>\n",
              "      <td>male</td>\n",
              "      <td>0.207022</td>\n",
              "      <td>0.0</td>\n",
              "      <td>no</td>\n",
              "      <td>northeast</td>\n",
              "      <td>0.0</td>\n",
              "      <td>1.0</td>\n",
              "      <td>1.0</td>\n",
              "      <td>0.0</td>\n",
              "      <td>1.0</td>\n",
              "      <td>0.0</td>\n",
              "      <td>0.0</td>\n",
              "      <td>0.0</td>\n",
              "    </tr>\n",
              "  </tbody>\n",
              "</table>\n",
              "<p>267 rows × 14 columns</p>\n",
              "</div>\n",
              "    <div class=\"colab-df-buttons\">\n",
              "\n",
              "  <div class=\"colab-df-container\">\n",
              "    <button class=\"colab-df-convert\" onclick=\"convertToInteractive('df-3c25236e-d0fd-4e25-9114-2a1596353ac3')\"\n",
              "            title=\"Convert this dataframe to an interactive table.\"\n",
              "            style=\"display:none;\">\n",
              "\n",
              "  <svg xmlns=\"http://www.w3.org/2000/svg\" height=\"24px\" viewBox=\"0 -960 960 960\">\n",
              "    <path d=\"M120-120v-720h720v720H120Zm60-500h600v-160H180v160Zm220 220h160v-160H400v160Zm0 220h160v-160H400v160ZM180-400h160v-160H180v160Zm440 0h160v-160H620v160ZM180-180h160v-160H180v160Zm440 0h160v-160H620v160Z\"/>\n",
              "  </svg>\n",
              "    </button>\n",
              "\n",
              "  <style>\n",
              "    .colab-df-container {\n",
              "      display:flex;\n",
              "      gap: 12px;\n",
              "    }\n",
              "\n",
              "    .colab-df-convert {\n",
              "      background-color: #E8F0FE;\n",
              "      border: none;\n",
              "      border-radius: 50%;\n",
              "      cursor: pointer;\n",
              "      display: none;\n",
              "      fill: #1967D2;\n",
              "      height: 32px;\n",
              "      padding: 0 0 0 0;\n",
              "      width: 32px;\n",
              "    }\n",
              "\n",
              "    .colab-df-convert:hover {\n",
              "      background-color: #E2EBFA;\n",
              "      box-shadow: 0px 1px 2px rgba(60, 64, 67, 0.3), 0px 1px 3px 1px rgba(60, 64, 67, 0.15);\n",
              "      fill: #174EA6;\n",
              "    }\n",
              "\n",
              "    .colab-df-buttons div {\n",
              "      margin-bottom: 4px;\n",
              "    }\n",
              "\n",
              "    [theme=dark] .colab-df-convert {\n",
              "      background-color: #3B4455;\n",
              "      fill: #D2E3FC;\n",
              "    }\n",
              "\n",
              "    [theme=dark] .colab-df-convert:hover {\n",
              "      background-color: #434B5C;\n",
              "      box-shadow: 0px 1px 3px 1px rgba(0, 0, 0, 0.15);\n",
              "      filter: drop-shadow(0px 1px 2px rgba(0, 0, 0, 0.3));\n",
              "      fill: #FFFFFF;\n",
              "    }\n",
              "  </style>\n",
              "\n",
              "    <script>\n",
              "      const buttonEl =\n",
              "        document.querySelector('#df-3c25236e-d0fd-4e25-9114-2a1596353ac3 button.colab-df-convert');\n",
              "      buttonEl.style.display =\n",
              "        google.colab.kernel.accessAllowed ? 'block' : 'none';\n",
              "\n",
              "      async function convertToInteractive(key) {\n",
              "        const element = document.querySelector('#df-3c25236e-d0fd-4e25-9114-2a1596353ac3');\n",
              "        const dataTable =\n",
              "          await google.colab.kernel.invokeFunction('convertToInteractive',\n",
              "                                                    [key], {});\n",
              "        if (!dataTable) return;\n",
              "\n",
              "        const docLinkHtml = 'Like what you see? Visit the ' +\n",
              "          '<a target=\"_blank\" href=https://colab.research.google.com/notebooks/data_table.ipynb>data table notebook</a>'\n",
              "          + ' to learn more about interactive tables.';\n",
              "        element.innerHTML = '';\n",
              "        dataTable['output_type'] = 'display_data';\n",
              "        await google.colab.output.renderOutput(dataTable, element);\n",
              "        const docLink = document.createElement('div');\n",
              "        docLink.innerHTML = docLinkHtml;\n",
              "        element.appendChild(docLink);\n",
              "      }\n",
              "    </script>\n",
              "  </div>\n",
              "\n",
              "\n",
              "<div id=\"df-16f24ab8-5d8c-4731-b8b5-b83204fd2a6c\">\n",
              "  <button class=\"colab-df-quickchart\" onclick=\"quickchart('df-16f24ab8-5d8c-4731-b8b5-b83204fd2a6c')\"\n",
              "            title=\"Suggest charts\"\n",
              "            style=\"display:none;\">\n",
              "\n",
              "<svg xmlns=\"http://www.w3.org/2000/svg\" height=\"24px\"viewBox=\"0 0 24 24\"\n",
              "     width=\"24px\">\n",
              "    <g>\n",
              "        <path d=\"M19 3H5c-1.1 0-2 .9-2 2v14c0 1.1.9 2 2 2h14c1.1 0 2-.9 2-2V5c0-1.1-.9-2-2-2zM9 17H7v-7h2v7zm4 0h-2V7h2v10zm4 0h-2v-4h2v4z\"/>\n",
              "    </g>\n",
              "</svg>\n",
              "  </button>\n",
              "\n",
              "<style>\n",
              "  .colab-df-quickchart {\n",
              "      --bg-color: #E8F0FE;\n",
              "      --fill-color: #1967D2;\n",
              "      --hover-bg-color: #E2EBFA;\n",
              "      --hover-fill-color: #174EA6;\n",
              "      --disabled-fill-color: #AAA;\n",
              "      --disabled-bg-color: #DDD;\n",
              "  }\n",
              "\n",
              "  [theme=dark] .colab-df-quickchart {\n",
              "      --bg-color: #3B4455;\n",
              "      --fill-color: #D2E3FC;\n",
              "      --hover-bg-color: #434B5C;\n",
              "      --hover-fill-color: #FFFFFF;\n",
              "      --disabled-bg-color: #3B4455;\n",
              "      --disabled-fill-color: #666;\n",
              "  }\n",
              "\n",
              "  .colab-df-quickchart {\n",
              "    background-color: var(--bg-color);\n",
              "    border: none;\n",
              "    border-radius: 50%;\n",
              "    cursor: pointer;\n",
              "    display: none;\n",
              "    fill: var(--fill-color);\n",
              "    height: 32px;\n",
              "    padding: 0;\n",
              "    width: 32px;\n",
              "  }\n",
              "\n",
              "  .colab-df-quickchart:hover {\n",
              "    background-color: var(--hover-bg-color);\n",
              "    box-shadow: 0 1px 2px rgba(60, 64, 67, 0.3), 0 1px 3px 1px rgba(60, 64, 67, 0.15);\n",
              "    fill: var(--button-hover-fill-color);\n",
              "  }\n",
              "\n",
              "  .colab-df-quickchart-complete:disabled,\n",
              "  .colab-df-quickchart-complete:disabled:hover {\n",
              "    background-color: var(--disabled-bg-color);\n",
              "    fill: var(--disabled-fill-color);\n",
              "    box-shadow: none;\n",
              "  }\n",
              "\n",
              "  .colab-df-spinner {\n",
              "    border: 2px solid var(--fill-color);\n",
              "    border-color: transparent;\n",
              "    border-bottom-color: var(--fill-color);\n",
              "    animation:\n",
              "      spin 1s steps(1) infinite;\n",
              "  }\n",
              "\n",
              "  @keyframes spin {\n",
              "    0% {\n",
              "      border-color: transparent;\n",
              "      border-bottom-color: var(--fill-color);\n",
              "      border-left-color: var(--fill-color);\n",
              "    }\n",
              "    20% {\n",
              "      border-color: transparent;\n",
              "      border-left-color: var(--fill-color);\n",
              "      border-top-color: var(--fill-color);\n",
              "    }\n",
              "    30% {\n",
              "      border-color: transparent;\n",
              "      border-left-color: var(--fill-color);\n",
              "      border-top-color: var(--fill-color);\n",
              "      border-right-color: var(--fill-color);\n",
              "    }\n",
              "    40% {\n",
              "      border-color: transparent;\n",
              "      border-right-color: var(--fill-color);\n",
              "      border-top-color: var(--fill-color);\n",
              "    }\n",
              "    60% {\n",
              "      border-color: transparent;\n",
              "      border-right-color: var(--fill-color);\n",
              "    }\n",
              "    80% {\n",
              "      border-color: transparent;\n",
              "      border-right-color: var(--fill-color);\n",
              "      border-bottom-color: var(--fill-color);\n",
              "    }\n",
              "    90% {\n",
              "      border-color: transparent;\n",
              "      border-bottom-color: var(--fill-color);\n",
              "    }\n",
              "  }\n",
              "</style>\n",
              "\n",
              "  <script>\n",
              "    async function quickchart(key) {\n",
              "      const quickchartButtonEl =\n",
              "        document.querySelector('#' + key + ' button');\n",
              "      quickchartButtonEl.disabled = true;  // To prevent multiple clicks.\n",
              "      quickchartButtonEl.classList.add('colab-df-spinner');\n",
              "      try {\n",
              "        const charts = await google.colab.kernel.invokeFunction(\n",
              "            'suggestCharts', [key], {});\n",
              "      } catch (error) {\n",
              "        console.error('Error during call to suggestCharts:', error);\n",
              "      }\n",
              "      quickchartButtonEl.classList.remove('colab-df-spinner');\n",
              "      quickchartButtonEl.classList.add('colab-df-quickchart-complete');\n",
              "    }\n",
              "    (() => {\n",
              "      let quickchartButtonEl =\n",
              "        document.querySelector('#df-16f24ab8-5d8c-4731-b8b5-b83204fd2a6c button');\n",
              "      quickchartButtonEl.style.display =\n",
              "        google.colab.kernel.accessAllowed ? 'block' : 'none';\n",
              "    })();\n",
              "  </script>\n",
              "</div>\n",
              "\n",
              "  <div id=\"id_890dfb84-08a5-4c42-adca-c4cc85edf2f3\">\n",
              "    <style>\n",
              "      .colab-df-generate {\n",
              "        background-color: #E8F0FE;\n",
              "        border: none;\n",
              "        border-radius: 50%;\n",
              "        cursor: pointer;\n",
              "        display: none;\n",
              "        fill: #1967D2;\n",
              "        height: 32px;\n",
              "        padding: 0 0 0 0;\n",
              "        width: 32px;\n",
              "      }\n",
              "\n",
              "      .colab-df-generate:hover {\n",
              "        background-color: #E2EBFA;\n",
              "        box-shadow: 0px 1px 2px rgba(60, 64, 67, 0.3), 0px 1px 3px 1px rgba(60, 64, 67, 0.15);\n",
              "        fill: #174EA6;\n",
              "      }\n",
              "\n",
              "      [theme=dark] .colab-df-generate {\n",
              "        background-color: #3B4455;\n",
              "        fill: #D2E3FC;\n",
              "      }\n",
              "\n",
              "      [theme=dark] .colab-df-generate:hover {\n",
              "        background-color: #434B5C;\n",
              "        box-shadow: 0px 1px 3px 1px rgba(0, 0, 0, 0.15);\n",
              "        filter: drop-shadow(0px 1px 2px rgba(0, 0, 0, 0.3));\n",
              "        fill: #FFFFFF;\n",
              "      }\n",
              "    </style>\n",
              "    <button class=\"colab-df-generate\" onclick=\"generateWithVariable('val_inputs')\"\n",
              "            title=\"Generate code using this dataframe.\"\n",
              "            style=\"display:none;\">\n",
              "\n",
              "  <svg xmlns=\"http://www.w3.org/2000/svg\" height=\"24px\"viewBox=\"0 0 24 24\"\n",
              "       width=\"24px\">\n",
              "    <path d=\"M7,19H8.4L18.45,9,17,7.55,7,17.6ZM5,21V16.75L18.45,3.32a2,2,0,0,1,2.83,0l1.4,1.43a1.91,1.91,0,0,1,.58,1.4,1.91,1.91,0,0,1-.58,1.4L9.25,21ZM18.45,9,17,7.55Zm-12,3A5.31,5.31,0,0,0,4.9,8.1,5.31,5.31,0,0,0,1,6.5,5.31,5.31,0,0,0,4.9,4.9,5.31,5.31,0,0,0,6.5,1,5.31,5.31,0,0,0,8.1,4.9,5.31,5.31,0,0,0,12,6.5,5.46,5.46,0,0,0,6.5,12Z\"/>\n",
              "  </svg>\n",
              "    </button>\n",
              "    <script>\n",
              "      (() => {\n",
              "      const buttonEl =\n",
              "        document.querySelector('#id_890dfb84-08a5-4c42-adca-c4cc85edf2f3 button.colab-df-generate');\n",
              "      buttonEl.style.display =\n",
              "        google.colab.kernel.accessAllowed ? 'block' : 'none';\n",
              "\n",
              "      buttonEl.onclick = () => {\n",
              "        google.colab.notebook.generateWithVariable('val_inputs');\n",
              "      }\n",
              "      })();\n",
              "    </script>\n",
              "  </div>\n",
              "\n",
              "    </div>\n",
              "  </div>\n"
            ]
          },
          "metadata": {},
          "execution_count": 43
        }
      ]
    },
    {
      "cell_type": "code",
      "source": [
        "val_targets"
      ],
      "metadata": {
        "colab": {
          "base_uri": "https://localhost:8080/"
        },
        "id": "Gn2iVjItBx7a",
        "outputId": "6071caee-6693-4f07-851a-51042d821e89"
      },
      "execution_count": 44,
      "outputs": [
        {
          "output_type": "execute_result",
          "data": {
            "text/plain": [
              "603     16085.12750\n",
              "715     12146.97100\n",
              "608      4435.09420\n",
              "285      7742.10980\n",
              "1274    17043.34140\n",
              "           ...     \n",
              "740      8604.48365\n",
              "1138     3704.35450\n",
              "150      5125.21570\n",
              "293      2156.75180\n",
              "868     13129.60345\n",
              "Name: health_insurance_price, Length: 267, dtype: float64"
            ]
          },
          "metadata": {},
          "execution_count": 44
        }
      ]
    },
    {
      "cell_type": "code",
      "source": [
        "from sklearn.linear_model import LinearRegression"
      ],
      "metadata": {
        "id": "2C-I_tClCvNp"
      },
      "execution_count": 45,
      "outputs": []
    },
    {
      "cell_type": "code",
      "source": [
        "model = LinearRegression()"
      ],
      "metadata": {
        "id": "uYdZ-U7xDDgk"
      },
      "execution_count": 46,
      "outputs": []
    },
    {
      "cell_type": "code",
      "source": [
        "model.fit(train_inputs[numeric_cols + encoded_cols], train_targets)"
      ],
      "metadata": {
        "colab": {
          "base_uri": "https://localhost:8080/",
          "height": 74
        },
        "id": "ET9jP2AADGi7",
        "outputId": "fa678069-bc21-409d-c4b9-88c2879bf1ea"
      },
      "execution_count": 47,
      "outputs": [
        {
          "output_type": "execute_result",
          "data": {
            "text/plain": [
              "LinearRegression()"
            ],
            "text/html": [
              "<style>#sk-container-id-4 {color: black;background-color: white;}#sk-container-id-4 pre{padding: 0;}#sk-container-id-4 div.sk-toggleable {background-color: white;}#sk-container-id-4 label.sk-toggleable__label {cursor: pointer;display: block;width: 100%;margin-bottom: 0;padding: 0.3em;box-sizing: border-box;text-align: center;}#sk-container-id-4 label.sk-toggleable__label-arrow:before {content: \"▸\";float: left;margin-right: 0.25em;color: #696969;}#sk-container-id-4 label.sk-toggleable__label-arrow:hover:before {color: black;}#sk-container-id-4 div.sk-estimator:hover label.sk-toggleable__label-arrow:before {color: black;}#sk-container-id-4 div.sk-toggleable__content {max-height: 0;max-width: 0;overflow: hidden;text-align: left;background-color: #f0f8ff;}#sk-container-id-4 div.sk-toggleable__content pre {margin: 0.2em;color: black;border-radius: 0.25em;background-color: #f0f8ff;}#sk-container-id-4 input.sk-toggleable__control:checked~div.sk-toggleable__content {max-height: 200px;max-width: 100%;overflow: auto;}#sk-container-id-4 input.sk-toggleable__control:checked~label.sk-toggleable__label-arrow:before {content: \"▾\";}#sk-container-id-4 div.sk-estimator input.sk-toggleable__control:checked~label.sk-toggleable__label {background-color: #d4ebff;}#sk-container-id-4 div.sk-label input.sk-toggleable__control:checked~label.sk-toggleable__label {background-color: #d4ebff;}#sk-container-id-4 input.sk-hidden--visually {border: 0;clip: rect(1px 1px 1px 1px);clip: rect(1px, 1px, 1px, 1px);height: 1px;margin: -1px;overflow: hidden;padding: 0;position: absolute;width: 1px;}#sk-container-id-4 div.sk-estimator {font-family: monospace;background-color: #f0f8ff;border: 1px dotted black;border-radius: 0.25em;box-sizing: border-box;margin-bottom: 0.5em;}#sk-container-id-4 div.sk-estimator:hover {background-color: #d4ebff;}#sk-container-id-4 div.sk-parallel-item::after {content: \"\";width: 100%;border-bottom: 1px solid gray;flex-grow: 1;}#sk-container-id-4 div.sk-label:hover label.sk-toggleable__label {background-color: #d4ebff;}#sk-container-id-4 div.sk-serial::before {content: \"\";position: absolute;border-left: 1px solid gray;box-sizing: border-box;top: 0;bottom: 0;left: 50%;z-index: 0;}#sk-container-id-4 div.sk-serial {display: flex;flex-direction: column;align-items: center;background-color: white;padding-right: 0.2em;padding-left: 0.2em;position: relative;}#sk-container-id-4 div.sk-item {position: relative;z-index: 1;}#sk-container-id-4 div.sk-parallel {display: flex;align-items: stretch;justify-content: center;background-color: white;position: relative;}#sk-container-id-4 div.sk-item::before, #sk-container-id-4 div.sk-parallel-item::before {content: \"\";position: absolute;border-left: 1px solid gray;box-sizing: border-box;top: 0;bottom: 0;left: 50%;z-index: -1;}#sk-container-id-4 div.sk-parallel-item {display: flex;flex-direction: column;z-index: 1;position: relative;background-color: white;}#sk-container-id-4 div.sk-parallel-item:first-child::after {align-self: flex-end;width: 50%;}#sk-container-id-4 div.sk-parallel-item:last-child::after {align-self: flex-start;width: 50%;}#sk-container-id-4 div.sk-parallel-item:only-child::after {width: 0;}#sk-container-id-4 div.sk-dashed-wrapped {border: 1px dashed gray;margin: 0 0.4em 0.5em 0.4em;box-sizing: border-box;padding-bottom: 0.4em;background-color: white;}#sk-container-id-4 div.sk-label label {font-family: monospace;font-weight: bold;display: inline-block;line-height: 1.2em;}#sk-container-id-4 div.sk-label-container {text-align: center;}#sk-container-id-4 div.sk-container {/* jupyter's `normalize.less` sets `[hidden] { display: none; }` but bootstrap.min.css set `[hidden] { display: none !important; }` so we also need the `!important` here to be able to override the default hidden behavior on the sphinx rendered scikit-learn.org. See: https://github.com/scikit-learn/scikit-learn/issues/21755 */display: inline-block !important;position: relative;}#sk-container-id-4 div.sk-text-repr-fallback {display: none;}</style><div id=\"sk-container-id-4\" class=\"sk-top-container\"><div class=\"sk-text-repr-fallback\"><pre>LinearRegression()</pre><b>In a Jupyter environment, please rerun this cell to show the HTML representation or trust the notebook. <br />On GitHub, the HTML representation is unable to render, please try loading this page with nbviewer.org.</b></div><div class=\"sk-container\" hidden><div class=\"sk-item\"><div class=\"sk-estimator sk-toggleable\"><input class=\"sk-toggleable__control sk-hidden--visually\" id=\"sk-estimator-id-4\" type=\"checkbox\" checked><label for=\"sk-estimator-id-4\" class=\"sk-toggleable__label sk-toggleable__label-arrow\">LinearRegression</label><div class=\"sk-toggleable__content\"><pre>LinearRegression()</pre></div></div></div></div></div>"
            ]
          },
          "metadata": {},
          "execution_count": 47
        }
      ]
    },
    {
      "cell_type": "code",
      "source": [
        "X_train = train_inputs[numeric_cols + encoded_cols]\n",
        "X_val = val_inputs[numeric_cols + encoded_cols]\n",
        "X_test = test_inputs[numeric_cols + encoded_cols]"
      ],
      "metadata": {
        "id": "R50IpmbNDU0F"
      },
      "execution_count": 48,
      "outputs": []
    },
    {
      "cell_type": "code",
      "source": [
        "train_preds = model.predict(X_train)"
      ],
      "metadata": {
        "id": "C786juFnDhO_"
      },
      "execution_count": 49,
      "outputs": []
    },
    {
      "cell_type": "code",
      "source": [
        "train_preds"
      ],
      "metadata": {
        "colab": {
          "base_uri": "https://localhost:8080/"
        },
        "id": "2XeZNqCJDki3",
        "outputId": "1df1bb58-ef18-4207-aef5-cc41dbe1e77c"
      },
      "execution_count": 50,
      "outputs": [
        {
          "output_type": "execute_result",
          "data": {
            "text/plain": [
              "array([14479.17458855, 27747.19496306, 13462.83639084, 12464.86542293,\n",
              "       33108.87020722,  7603.81621235, 13897.32297695, 37985.92824486,\n",
              "       16464.7864875 ,  7844.21631608,  6663.90914409,  7225.83614771,\n",
              "       11888.42940348,  4289.11753512, 28524.91584519, 10153.65517882,\n",
              "       28372.92470706, 15958.00245618, 26238.6914271 ,  3195.974222  ,\n",
              "        1436.89292922, 12297.20067548,  -434.51593945,  6592.56670105,\n",
              "       26659.65352164,  8461.4023679 ,   693.9408117 ,  2844.61420445,\n",
              "        6301.68119502, 16512.08176909, 10255.35391837, 29919.06219094,\n",
              "       11309.48801932,   216.86453232,  8629.06987596, 15173.30597032,\n",
              "       10920.02115039, 10813.30291977,  5055.07577939, 10089.40925714,\n",
              "       35642.12556128,  3397.78752915,  7009.34790488, 13768.25824597,\n",
              "        6094.28467098,  8241.91610993,  2872.09616312,  9953.8191153 ,\n",
              "        7175.87420815, 34237.31454521, 28650.41870739,  4271.42634217,\n",
              "        8670.51359415,  7670.81968856, 34575.2457582 ,  6711.54695295,\n",
              "        2829.91984268, 11154.92416524, 13456.01725351, 26690.00482724,\n",
              "        8431.68804937,  7321.36637055, 15293.14348093,  7834.26604637,\n",
              "       13812.82113103,  4731.74225728,  2426.9965272 ,  4241.43646707,\n",
              "        3728.50013038, 13878.85010867, 36339.9111255 , 11204.65708698,\n",
              "       27264.41657939, 11089.85590912,  5912.337558  , 16561.09144792,\n",
              "        7799.49335773,  5424.96740691,  8510.27812275, 11328.41509671,\n",
              "        6899.96109471,  6559.2796968 ,  8241.59047348, 12977.01230201,\n",
              "        9700.38115961, 14217.13278246,  5013.8986175 ,  6681.14102974,\n",
              "       11276.82142006, 14741.64219144, 25056.04805577,  4713.72542788,\n",
              "        8055.84028038, 10875.32799954, 12368.53711335, 14286.16852964,\n",
              "       32500.45636035, 16725.36812483,  4222.39345417,  7143.22249726,\n",
              "        8976.91263622,  4492.55167511, 28109.50830212, 30657.09735681,\n",
              "       -1581.24727981, 36326.70995474, 15111.84998   , 37954.10843011,\n",
              "       32169.88482091,  9527.52370483, 12613.29692219,  3085.13996496,\n",
              "       11734.48086047, 15618.33745256,  7678.05682731,  5070.23728341,\n",
              "        4449.85343725, 11758.46172189,  5960.4545613 ,  2375.601575  ,\n",
              "        5788.09124627, 14082.63323426,  2529.4525695 , 28035.5693081 ,\n",
              "        6940.37146868,  4810.58134386,  3469.18855434, 13559.04030316,\n",
              "       11982.72187943, 11438.79331487, 12926.59855162, 12339.98957811,\n",
              "       30172.56315631, 27566.47853569,  8918.04358329, 13077.87062455,\n",
              "        7149.94614765,  9055.97147036,  8869.81442853,  3941.48583595,\n",
              "       13538.19486047,  8663.70925337, 32947.64786459, 11508.29398414,\n",
              "        9962.19399918, 12087.10334831,  7363.96587595,  8486.30836566,\n",
              "        1737.58146966, 33199.10432726,  4537.80686197,  7137.28181441,\n",
              "        6575.70449544,  3815.16775953, 10653.59067757,  2216.67355557,\n",
              "       31898.15329625,  2914.60979459, 32292.79798511,  8709.97482936,\n",
              "        8050.40659581,  2625.33883042,  6657.93298432,  3966.74812491,\n",
              "       28026.21399176, 28086.03503216, 30741.05509956, 11257.78396832,\n",
              "       13055.91706707, 26237.44083145,  6781.11051543, 15533.27758979,\n",
              "        9684.52179167, 11382.77343301,  7210.50377345,  4047.33473924,\n",
              "       12459.90521209,  4894.96345553, 10359.82811456,  7876.57657619,\n",
              "        9705.23173374, 12637.49189014,  1392.75441306, 25656.01418193,\n",
              "        4269.10359452, 32736.38185214, 31084.65095392, 16333.35343403,\n",
              "       13466.40923612,  8758.87000935, 35518.15220507,  4022.66168331,\n",
              "       14270.22601666,  1320.05022874,  1882.70140459, 13776.08055769,\n",
              "        6048.72967984, 37720.46583184, 15968.33953675, 33831.81173694,\n",
              "       36158.27881342,  2593.49067561, 13434.05202146,  7183.73913461,\n",
              "        -703.503393  , 13024.27732196,  5350.43711733,  4481.15015062,\n",
              "        4208.18671685,  9773.12652199,  4669.1682318 ,  4878.88882646,\n",
              "       36148.73361533,  9512.22173219, 23490.80374297,  4518.5880484 ,\n",
              "       12439.95971057, 12146.15991644,  9654.45086481, 37983.33780826,\n",
              "       13654.33121666,   823.36333497,  5332.93709833, 25499.65279676,\n",
              "       26554.41764551,  3683.53348548,  4985.18853377,  6086.55018746,\n",
              "        9911.9265869 ,  3294.87209421, 12601.71172118,  8963.14327415,\n",
              "        5805.43678352,  3569.57458614, 32332.44958794,  7375.86020844,\n",
              "       32222.20882468, 10915.91883624,  2827.30634234,  3806.80621812,\n",
              "        9529.50519785, 14017.97620408, 11039.81347924, 26012.58081264,\n",
              "        4981.53060779, 13238.88718145,  9908.10083612, 25378.32344743,\n",
              "       25335.82705171,  2446.39963004, 14241.88238511,  1820.93376804,\n",
              "        9574.76673911, 38791.31013185,  6106.91810458, 10091.80749634,\n",
              "       16610.44647374, 14791.61304593, 38967.99037769, 30834.40915679,\n",
              "       11670.01894689,  5772.70615935, 11785.32704651, 27147.32914602,\n",
              "        3929.89916654,  9052.36334727,  7246.81361039,   623.2742064 ,\n",
              "       12886.58801442,  5887.12794997, 32464.04665926, 15387.50634927,\n",
              "       34437.10750908,  3428.91179658, 11670.4589144 ,  7925.43201853,\n",
              "       13058.34312446, 15328.2212492 , 23268.2664718 ,  1588.93121885,\n",
              "        6093.6576536 , 12796.36119175,  9321.77516973, 12250.81665648,\n",
              "        5545.42147503, 17472.75417853,  7093.19803293, 11626.94223209,\n",
              "        6681.2397622 ,  2553.44175172, 14881.03379681,   540.68055133,\n",
              "       26611.01872501, 10853.79633578,  6523.69731812, 32891.75299273,\n",
              "       10575.21335058,  4959.16557949,  5747.81448852, 11190.14016302,\n",
              "        9032.18657278,  3896.04048153, 25629.84153673,  6096.07969514,\n",
              "        9979.32207708, 15229.21750671, 14726.64921031,  7036.730433  ,\n",
              "       12991.99752044, 14620.27282844,   123.81870842,  3011.23993827,\n",
              "       26645.44441737,  4161.57328695, 28228.84172324, 14118.50378219,\n",
              "       11310.85416954,  6770.8924397 ,  5204.87995592,  8185.11849634,\n",
              "       27162.67599542, 27729.36123992, 15048.93583158,  8981.51744266,\n",
              "       32892.72133698, 11061.16455148,  9850.37225817,  3391.7969342 ,\n",
              "        8030.36431515, 13513.99989252, 26286.85310669,  5318.27663778,\n",
              "        3540.90378629,  7463.37852874,  9846.27241922, 35353.80335865,\n",
              "        9053.23267461,  6496.65339227,  8350.91405983, 14819.92196992,\n",
              "       13719.90716914,  7339.06588431,  5997.07337016, 10366.52816171,\n",
              "        4794.46523174,  4730.90184026,  7228.65599619, 31138.73198922,\n",
              "       33890.07436104, 12715.92115947, 30358.08770494,  2455.38418827,\n",
              "       10638.80131472, 25284.80537332,  8720.88537659, 11402.50658219,\n",
              "        4292.80380116, 10147.25845708,  3436.21100692,   129.38088261,\n",
              "       10052.89558874, 10947.4547736 , 34202.81465253, 26503.31929257,\n",
              "       11475.45898982, 30511.62124716,  4532.94185363, 31162.64292024,\n",
              "        7943.68836519, 16552.62880807, 10107.9623309 , 34434.49838595,\n",
              "       13127.31123985, 30114.30053222,  5710.55081379, 15401.22667781,\n",
              "       28222.87723804, 10032.04123112, 29938.71984856,  6740.30233549,\n",
              "       10775.98240926,  6092.76946353,  8225.15574565, 14377.4137774 ,\n",
              "        7438.02582812, 14742.06537736, 11931.06556975,  2941.32816051,\n",
              "        9270.87379585, 14356.62149137, 12761.38653315, 13289.31536606,\n",
              "       12270.61971315,  9205.83024061, 31862.50919913, 24966.82752946,\n",
              "        5963.81964462,  9804.19354   ,  8477.44106687,  -667.91014607,\n",
              "        2689.89506657, 12728.30193247,  6282.14477999, 10697.70308396,\n",
              "        7980.23034192, 12005.44920506, 16863.63530797,  3219.99174428,\n",
              "       11288.65631278,  4294.2093719 , 38023.26380329,   567.93163068,\n",
              "        3889.25545763, 15179.28213009,  2663.4145821 , 36409.42408208,\n",
              "        3785.17788443, 10538.42765558, 11254.27818458,  3973.55257394,\n",
              "        7950.06432121,  8870.49477131, 12804.09759685,  4445.91643219,\n",
              "       39193.93717437, 13288.01048111,  6604.11537783, 12666.46508555,\n",
              "       14915.52201491,  8671.29862325, 12163.11057609, 11951.89158731,\n",
              "        5094.76809399,  5962.4864196 ,  4244.49330827, 30760.40837659,\n",
              "        8975.16200294,  4923.98851731,  4225.06381083,  6036.19044194,\n",
              "       30719.01643848, 13685.85824005,  9373.75407923, 34014.66119855,\n",
              "        1908.41347415,  7713.13853919, 37864.41432087,  6270.8509029 ,\n",
              "       16637.05240278, 31829.35891997,  5411.1096552 ,  5238.36058545,\n",
              "       26911.21191002,  9585.73024292, 11828.87206888, 11759.37253131,\n",
              "       35433.6814579 , 11755.559245  , 14882.84941048, 12740.74305946,\n",
              "       13277.93581414, 11918.34888618, 35599.80866397, 12131.7222998 ,\n",
              "       35518.05741621, 10200.42739076,  9727.32512949,  9097.2660908 ,\n",
              "       10697.90824813, 10674.89831442,  8646.07737237, 12479.95581356,\n",
              "       10801.92535813,  3717.59733467, 10342.53897949,  5905.83700561,\n",
              "        3706.2704954 ,  6553.27742727, 11459.3598286 , 30354.96763992,\n",
              "       16042.20202399, 15084.42527076, 13872.79451374, 15893.80146488,\n",
              "        8200.71385446,  5749.38389994, 11486.25300741, 12530.24792633,\n",
              "        2158.20182466, 26842.58446039, 14997.89108067,  9019.1095452 ,\n",
              "        5881.25432962, 16173.0868825 , 29790.88575828, 11887.02383275,\n",
              "        7778.83056716, 10032.95333178,  3387.99851669,  2513.60208476,\n",
              "       29627.71334866,  9828.28920524, 11237.34565881, 10832.44271182,\n",
              "       12804.95804098,  5026.23091507, 11445.10475583, -1486.34278311,\n",
              "       12949.64469303,  7280.34155193, 29587.81793146,  7570.45612734,\n",
              "       11395.70017985,  6986.1675541 , 26714.53653597, 13534.53811748,\n",
              "       37055.73598971,  6278.9001186 , 11078.9691652 , 28724.11681542,\n",
              "       27240.25858944, 28905.89672512, 31016.38129561, 23613.33682089,\n",
              "       28585.63553456,  8582.08494935, 13979.57802878, -1193.57889276,\n",
              "       13896.23286822,  4226.96218957, 35538.89353169, 11066.9464523 ,\n",
              "       11683.61998614,  5151.33645621, 14399.31972924,  1236.15805621,\n",
              "        7605.18689933,  8808.50586749,  5577.95138972, 37777.5679548 ,\n",
              "        -503.04144379,  8221.56821207, 14194.02135568, 12227.00677357,\n",
              "       27689.68716651, 14293.54701559, 11596.45759568, 11536.45587291,\n",
              "       23034.38379387, 33797.27636735, -1317.45735615,  1738.08279854,\n",
              "        1559.76391229,  9595.30171855,  5964.83750731, 10782.11455091,\n",
              "        7023.07784547,  6055.65079419, 28416.14466323, 12513.60989679,\n",
              "        6360.77151424, 34524.39125136, 12870.32877895,   927.46793646,\n",
              "       14447.30381439,  4767.56565371, 11018.50426574,  3239.52119769,\n",
              "        8938.8192048 ,  6150.01237129,  6687.94547877,  7665.93363752,\n",
              "        5259.65168464, 12360.22199364, 29844.8616619 , 16288.89760223,\n",
              "       10735.76876944,  3864.19232672, 12615.54927744, 27831.65403469,\n",
              "        5121.40659114,  3269.01631148,  5223.13923096, 29683.02121682,\n",
              "        5796.08394237, 11022.35976489, 26102.91468858, 10597.18633319,\n",
              "       34914.79990159, 31341.57774245, 29706.622691  , 12456.28394698,\n",
              "        2902.42659477, 14776.69860085,  6215.75525042, 10121.54638753,\n",
              "       14444.25427056,  2151.78508367,  1309.4092525 , 12087.90123594,\n",
              "       26985.58418789,  4210.02322406,  -657.98254702,  6407.14109805,\n",
              "       29238.49500706, 14333.15345625, 36513.43676357,  7347.37914157,\n",
              "       12278.77402881, 10165.50560437, 30117.08194271,  7694.63145351,\n",
              "        5715.47157239,  6543.05569335,  2302.50839042, 14119.05708513,\n",
              "       36349.40191074, 14019.37345401,   544.23142404,  9652.43181278,\n",
              "        7710.42277545, 14505.52317929, 31963.43015566,  9431.22720519,\n",
              "       33680.27562343, 13260.6689901 ,  8967.43842368, 24717.19995128,\n",
              "       15607.30920189, 10794.622934  ,  1428.98610705, 29389.50525955,\n",
              "       14306.98081106,  7101.92187166,  2869.11757312,  4320.96568993,\n",
              "        6725.24288502,  4570.93333879,   651.85840156,  4476.38792562,\n",
              "       33112.35068753,  6434.40109137, 12441.29488891, 24355.0917764 ,\n",
              "       11888.74671913, 34254.2012522 , 11960.56068354, 14733.30326938,\n",
              "        7955.98120173,  2938.56102469,  6806.00767518, 25923.6955358 ,\n",
              "        3708.70668672,  9789.6488701 , 24584.34308494, 12331.05412564,\n",
              "       15297.59027468, 10774.7166081 ,  2584.65964363, 10612.6403441 ,\n",
              "        9633.35849007, 10174.93390535,  6050.59432704, 26635.39112982,\n",
              "        1124.47506134,  9212.66712993, 14217.78408709,  8248.82761223,\n",
              "        3881.75881409,  2342.99730141,   472.29740002,  5008.22680755,\n",
              "       12250.11101124,  9321.00384505, 11660.97234879, 14018.85867344,\n",
              "       10411.09996074,  9120.77962852,  1938.92645062, 29717.70483732,\n",
              "        3527.50227352, 10517.26350537,  3443.02377676,  8862.77119205,\n",
              "       11810.64945375, 12118.09676013, 10371.8545939 ,  7556.0889031 ,\n",
              "       11275.73131133, 40098.36070466, 27300.08402566, 11334.49230459,\n",
              "        1544.227272  , 12240.07300515, 25311.70247615,  8446.95465334,\n",
              "       15310.11679166,  5903.79180386,  4280.76442277,  3156.32439628,\n",
              "        8080.72210736, 39128.58256568, 33137.9409521 ,  8233.96051871,\n",
              "        6449.7341451 , 11734.86856852,  9222.04320316, 12517.98658356,\n",
              "        8182.51957938, 10462.84588884, 11453.85389703,  8697.44264393,\n",
              "        7797.55451117,  5205.32885698,  5336.99293949, 27578.51616869,\n",
              "       11570.6733566 ,   564.66973355, 11359.48270788, 14334.92467808,\n",
              "       11294.07961497, 31105.433744  ,  2572.73505045,  3265.13773979,\n",
              "       17840.70227396, 22540.93308113,  8388.07068128,  8880.59806278,\n",
              "       12298.22476901,  2436.03274197, 13670.11609983,  3282.64185115,\n",
              "        6799.69054523,  1775.88444247, 32725.85625331,  4610.74689695,\n",
              "       13560.71076268, 30219.45417263,  3481.16160003,  5344.30047064,\n",
              "       11354.88563242, 11040.23148066,  5769.22567904,  7679.3476138 ,\n",
              "       12045.3719863 ,  7624.95828603, 11656.34056673, 33251.86993472,\n",
              "        3969.16128421,  1375.07548881, 22817.69447923, 10302.45375706,\n",
              "        9660.27663559,  8587.83417341,  2347.45898353,  4041.77900478,\n",
              "       11825.77929662,  7396.23839968,  3851.44005702,  6673.93223105,\n",
              "        9372.84326981,  2858.23974413,  4997.83611619,  9881.99672182,\n",
              "       25875.55343796, 27932.94123214,  8723.03542325, 27416.83572562,\n",
              "       15613.68928201,  7566.90525463, 13453.1164302 ,  5907.26004816,\n",
              "        7737.55209032, 16059.48548964, 35849.28273547,  5110.06437859,\n",
              "        1872.55578379,  6813.73125444,  8163.49774486, 10560.98089716,\n",
              "        8658.19293943, 37773.95983172, 29874.55907101, 31075.3734765 ,\n",
              "        6797.6804277 , 25649.98839546, 14757.6813436 ,  8097.64327569,\n",
              "        9702.48843295,  8174.79924468,  4188.01228934,  7871.59179269,\n",
              "       30531.14874725, 12088.74997377, 33382.90577538,  5756.74515014,\n",
              "        7493.69404029,  5215.70462825,  9217.48278857,  6436.64659421,\n",
              "       27437.76047563])"
            ]
          },
          "metadata": {},
          "execution_count": 50
        }
      ]
    },
    {
      "cell_type": "code",
      "source": [
        "train_targets"
      ],
      "metadata": {
        "colab": {
          "base_uri": "https://localhost:8080/"
        },
        "id": "cIVgQ_BUDxCx",
        "outputId": "4b53edb0-ff0f-4682-d711-ff06c65d61e6"
      },
      "execution_count": 51,
      "outputs": [
        {
          "output_type": "execute_result",
          "data": {
            "text/plain": [
              "531     14043.47670\n",
              "1179    19350.36890\n",
              "480     15555.18875\n",
              "976      7804.16050\n",
              "545     23807.24060\n",
              "           ...     \n",
              "756      7985.81500\n",
              "788      5209.57885\n",
              "764      9095.06825\n",
              "21       4149.73600\n",
              "623     34617.84065\n",
              "Name: health_insurance_price, Length: 801, dtype: float64"
            ]
          },
          "metadata": {},
          "execution_count": 51
        }
      ]
    },
    {
      "cell_type": "code",
      "source": [
        "def rmse(targets, predictions):\n",
        "    return np.sqrt(np.mean(np.square(targets - predictions)))"
      ],
      "metadata": {
        "id": "fyUbSeJwEI_D"
      },
      "execution_count": 52,
      "outputs": []
    },
    {
      "cell_type": "code",
      "source": [
        "rmse(train_targets, train_preds)"
      ],
      "metadata": {
        "colab": {
          "base_uri": "https://localhost:8080/"
        },
        "id": "D0U3PfR8DyqZ",
        "outputId": "f062d55c-0901-492c-d69f-c22b9faec4ee"
      },
      "execution_count": 53,
      "outputs": [
        {
          "output_type": "execute_result",
          "data": {
            "text/plain": [
              "6135.809723221965"
            ]
          },
          "metadata": {},
          "execution_count": 53
        }
      ]
    },
    {
      "cell_type": "code",
      "source": [
        "val_preds = model.predict(X_val)"
      ],
      "metadata": {
        "id": "Kcm5hj2MFjRd"
      },
      "execution_count": 54,
      "outputs": []
    },
    {
      "cell_type": "code",
      "source": [
        "rmse(val_targets, val_preds)"
      ],
      "metadata": {
        "colab": {
          "base_uri": "https://localhost:8080/"
        },
        "id": "Sgv8Tq2jGDfv",
        "outputId": "1ad27450-6461-4308-8b0c-60ee1560ba9f"
      },
      "execution_count": 55,
      "outputs": [
        {
          "output_type": "execute_result",
          "data": {
            "text/plain": [
              "6156.58762348176"
            ]
          },
          "metadata": {},
          "execution_count": 55
        }
      ]
    },
    {
      "cell_type": "code",
      "source": [
        "test_preds = model.predict(X_test)"
      ],
      "metadata": {
        "id": "gZCyorqlGKrx"
      },
      "execution_count": 56,
      "outputs": []
    },
    {
      "cell_type": "code",
      "source": [
        "rmse(test_targets, test_preds)"
      ],
      "metadata": {
        "colab": {
          "base_uri": "https://localhost:8080/"
        },
        "id": "3ZBujXugGWqi",
        "outputId": "ec8d6390-5472-4e7f-f02c-d091760f913c"
      },
      "execution_count": 57,
      "outputs": [
        {
          "output_type": "execute_result",
          "data": {
            "text/plain": [
              "6092.9472556609235"
            ]
          },
          "metadata": {},
          "execution_count": 57
        }
      ]
    },
    {
      "cell_type": "markdown",
      "source": [
        "# ***Model 2 Decision Tree***"
      ],
      "metadata": {
        "id": "_MWllXjkbjBV"
      }
    },
    {
      "cell_type": "code",
      "source": [
        "from sklearn.tree import DecisionTreeRegressor"
      ],
      "metadata": {
        "id": "z6ZErc3cbiL-"
      },
      "execution_count": 58,
      "outputs": []
    },
    {
      "cell_type": "code",
      "source": [
        "model2=DecisionTreeRegressor(max_depth=4)"
      ],
      "metadata": {
        "id": "5LT-UYxcbhNm"
      },
      "execution_count": 59,
      "outputs": []
    },
    {
      "cell_type": "code",
      "source": [
        "model2.fit(train_inputs[numeric_cols + encoded_cols], train_targets)"
      ],
      "metadata": {
        "colab": {
          "base_uri": "https://localhost:8080/",
          "height": 74
        },
        "id": "9qAq9zQ3cPz6",
        "outputId": "97187924-33d3-4af9-a58f-5939c06dc12e"
      },
      "execution_count": 60,
      "outputs": [
        {
          "output_type": "execute_result",
          "data": {
            "text/plain": [
              "DecisionTreeRegressor(max_depth=4)"
            ],
            "text/html": [
              "<style>#sk-container-id-5 {color: black;background-color: white;}#sk-container-id-5 pre{padding: 0;}#sk-container-id-5 div.sk-toggleable {background-color: white;}#sk-container-id-5 label.sk-toggleable__label {cursor: pointer;display: block;width: 100%;margin-bottom: 0;padding: 0.3em;box-sizing: border-box;text-align: center;}#sk-container-id-5 label.sk-toggleable__label-arrow:before {content: \"▸\";float: left;margin-right: 0.25em;color: #696969;}#sk-container-id-5 label.sk-toggleable__label-arrow:hover:before {color: black;}#sk-container-id-5 div.sk-estimator:hover label.sk-toggleable__label-arrow:before {color: black;}#sk-container-id-5 div.sk-toggleable__content {max-height: 0;max-width: 0;overflow: hidden;text-align: left;background-color: #f0f8ff;}#sk-container-id-5 div.sk-toggleable__content pre {margin: 0.2em;color: black;border-radius: 0.25em;background-color: #f0f8ff;}#sk-container-id-5 input.sk-toggleable__control:checked~div.sk-toggleable__content {max-height: 200px;max-width: 100%;overflow: auto;}#sk-container-id-5 input.sk-toggleable__control:checked~label.sk-toggleable__label-arrow:before {content: \"▾\";}#sk-container-id-5 div.sk-estimator input.sk-toggleable__control:checked~label.sk-toggleable__label {background-color: #d4ebff;}#sk-container-id-5 div.sk-label input.sk-toggleable__control:checked~label.sk-toggleable__label {background-color: #d4ebff;}#sk-container-id-5 input.sk-hidden--visually {border: 0;clip: rect(1px 1px 1px 1px);clip: rect(1px, 1px, 1px, 1px);height: 1px;margin: -1px;overflow: hidden;padding: 0;position: absolute;width: 1px;}#sk-container-id-5 div.sk-estimator {font-family: monospace;background-color: #f0f8ff;border: 1px dotted black;border-radius: 0.25em;box-sizing: border-box;margin-bottom: 0.5em;}#sk-container-id-5 div.sk-estimator:hover {background-color: #d4ebff;}#sk-container-id-5 div.sk-parallel-item::after {content: \"\";width: 100%;border-bottom: 1px solid gray;flex-grow: 1;}#sk-container-id-5 div.sk-label:hover label.sk-toggleable__label {background-color: #d4ebff;}#sk-container-id-5 div.sk-serial::before {content: \"\";position: absolute;border-left: 1px solid gray;box-sizing: border-box;top: 0;bottom: 0;left: 50%;z-index: 0;}#sk-container-id-5 div.sk-serial {display: flex;flex-direction: column;align-items: center;background-color: white;padding-right: 0.2em;padding-left: 0.2em;position: relative;}#sk-container-id-5 div.sk-item {position: relative;z-index: 1;}#sk-container-id-5 div.sk-parallel {display: flex;align-items: stretch;justify-content: center;background-color: white;position: relative;}#sk-container-id-5 div.sk-item::before, #sk-container-id-5 div.sk-parallel-item::before {content: \"\";position: absolute;border-left: 1px solid gray;box-sizing: border-box;top: 0;bottom: 0;left: 50%;z-index: -1;}#sk-container-id-5 div.sk-parallel-item {display: flex;flex-direction: column;z-index: 1;position: relative;background-color: white;}#sk-container-id-5 div.sk-parallel-item:first-child::after {align-self: flex-end;width: 50%;}#sk-container-id-5 div.sk-parallel-item:last-child::after {align-self: flex-start;width: 50%;}#sk-container-id-5 div.sk-parallel-item:only-child::after {width: 0;}#sk-container-id-5 div.sk-dashed-wrapped {border: 1px dashed gray;margin: 0 0.4em 0.5em 0.4em;box-sizing: border-box;padding-bottom: 0.4em;background-color: white;}#sk-container-id-5 div.sk-label label {font-family: monospace;font-weight: bold;display: inline-block;line-height: 1.2em;}#sk-container-id-5 div.sk-label-container {text-align: center;}#sk-container-id-5 div.sk-container {/* jupyter's `normalize.less` sets `[hidden] { display: none; }` but bootstrap.min.css set `[hidden] { display: none !important; }` so we also need the `!important` here to be able to override the default hidden behavior on the sphinx rendered scikit-learn.org. See: https://github.com/scikit-learn/scikit-learn/issues/21755 */display: inline-block !important;position: relative;}#sk-container-id-5 div.sk-text-repr-fallback {display: none;}</style><div id=\"sk-container-id-5\" class=\"sk-top-container\"><div class=\"sk-text-repr-fallback\"><pre>DecisionTreeRegressor(max_depth=4)</pre><b>In a Jupyter environment, please rerun this cell to show the HTML representation or trust the notebook. <br />On GitHub, the HTML representation is unable to render, please try loading this page with nbviewer.org.</b></div><div class=\"sk-container\" hidden><div class=\"sk-item\"><div class=\"sk-estimator sk-toggleable\"><input class=\"sk-toggleable__control sk-hidden--visually\" id=\"sk-estimator-id-5\" type=\"checkbox\" checked><label for=\"sk-estimator-id-5\" class=\"sk-toggleable__label sk-toggleable__label-arrow\">DecisionTreeRegressor</label><div class=\"sk-toggleable__content\"><pre>DecisionTreeRegressor(max_depth=4)</pre></div></div></div></div></div>"
            ]
          },
          "metadata": {},
          "execution_count": 60
        }
      ]
    },
    {
      "cell_type": "code",
      "source": [
        "train_preds = model2.predict(X_train)"
      ],
      "metadata": {
        "id": "fghNG-1McXrU"
      },
      "execution_count": 61,
      "outputs": []
    },
    {
      "cell_type": "code",
      "source": [
        "train_preds"
      ],
      "metadata": {
        "colab": {
          "base_uri": "https://localhost:8080/"
        },
        "id": "C3DNG8UVcc_T",
        "outputId": "22bba3a6-2204-4817-e12e-8e63327bf3c3"
      },
      "execution_count": 62,
      "outputs": [
        {
          "output_type": "execute_result",
          "data": {
            "text/plain": [
              "array([13932.59546205, 18261.15996956,  6591.67312653, 11066.30930118,\n",
              "       23243.02612364,  6591.67312653, 11066.30930118, 44132.26813644,\n",
              "       11066.30930118, 11066.30930118,  6591.67312653,  6591.67312653,\n",
              "       12665.03764966,  3325.2282122 , 23243.02612364,  6591.67312653,\n",
              "       18261.15996956, 13932.59546205, 35325.343519  ,  3325.2282122 ,\n",
              "        6591.67312653, 11066.30930118,  3325.2282122 ,  9394.50979407,\n",
              "       18261.15996956,  6591.67312653,  3325.2282122 ,  3325.2282122 ,\n",
              "        9394.50979407, 17368.8496975 , 11066.30930118, 39645.81735   ,\n",
              "        6591.67312653,  6591.67312653,  6591.67312653, 11066.30930118,\n",
              "       11066.30930118, 12665.03764966,  6591.67312653,  6591.67312653,\n",
              "       44132.26813644,  3325.2282122 ,  6591.67312653, 12665.03764966,\n",
              "        3325.2282122 ,  6591.67312653,  3325.2282122 ,  6591.67312653,\n",
              "        6591.67312653, 44132.26813644, 35325.343519  ,  6591.67312653,\n",
              "       12665.03764966,  6782.96452463, 28217.40178562,  9394.50979407,\n",
              "        3325.2282122 , 12665.03764966, 13932.59546205, 35325.343519  ,\n",
              "       11066.30930118,  6591.67312653, 12665.03764966,  6591.67312653,\n",
              "       11066.30930118,  3325.2282122 ,  3325.2282122 ,  6591.67312653,\n",
              "        3325.2282122 , 12665.03764966, 44132.26813644,  6591.67312653,\n",
              "       35325.343519  ,  6591.67312653,  6782.96452463, 17368.8496975 ,\n",
              "        6591.67312653,  3325.2282122 ,  6782.96452463, 11066.30930118,\n",
              "        3325.2282122 ,  3325.2282122 ,  6591.67312653, 11066.30930118,\n",
              "        6591.67312653, 11066.30930118,  3325.2282122 ,  6591.67312653,\n",
              "       12665.03764966, 12665.03764966, 18261.15996956,  3325.2282122 ,\n",
              "       11066.30930118, 11066.30930118, 11066.30930118, 12665.03764966,\n",
              "       23243.02612364, 17368.8496975 ,  3325.2282122 , 11066.30930118,\n",
              "        6591.67312653,  6782.96452463, 35325.343519  , 28217.40178562,\n",
              "        3325.2282122 , 28217.40178562, 12665.03764966, 44132.26813644,\n",
              "       23243.02612364,  6591.67312653, 13932.59546205,  3325.2282122 ,\n",
              "       11066.30930118, 13932.59546205,  9394.50979407,  3325.2282122 ,\n",
              "        9394.50979407, 11066.30930118,  6782.96452463,  3325.2282122 ,\n",
              "        9394.50979407, 12665.03764966,  3325.2282122 , 18261.15996956,\n",
              "        6782.96452463,  3325.2282122 ,  3325.2282122 , 12665.03764966,\n",
              "       12665.03764966, 12665.03764966, 11066.30930118, 11066.30930118,\n",
              "       23243.02612364, 35325.343519  , 12665.03764966, 11066.30930118,\n",
              "        6591.67312653,  9394.50979407, 11066.30930118,  3325.2282122 ,\n",
              "       12665.03764966,  6591.67312653, 44132.26813644, 11066.30930118,\n",
              "       11066.30930118, 13932.59546205,  6591.67312653, 11066.30930118,\n",
              "        3325.2282122 , 44132.26813644,  3325.2282122 , 11066.30930118,\n",
              "        6591.67312653,  3325.2282122 ,  6782.96452463,  3325.2282122 ,\n",
              "       23243.02612364,  6591.67312653, 44132.26813644,  6591.67312653,\n",
              "        9394.50979407,  3325.2282122 ,  6591.67312653,  6591.67312653,\n",
              "       18261.15996956, 35325.343519  , 28217.40178562, 11066.30930118,\n",
              "        6591.67312653, 18261.15996956,  6782.96452463, 17368.8496975 ,\n",
              "        6591.67312653, 12665.03764966,  6591.67312653,  3325.2282122 ,\n",
              "       12665.03764966,  6591.67312653, 11066.30930118,  6591.67312653,\n",
              "       11066.30930118, 13932.59546205,  6591.67312653, 35325.343519  ,\n",
              "        9394.50979407, 28217.40178562, 28217.40178562, 12665.03764966,\n",
              "       13932.59546205,  6591.67312653, 44132.26813644,  3325.2282122 ,\n",
              "        6591.67312653,  3325.2282122 ,  3325.2282122 , 13932.59546205,\n",
              "        6782.96452463, 44132.26813644, 13932.59546205, 28217.40178562,\n",
              "       44132.26813644,  3325.2282122 , 17368.8496975 ,  6782.96452463,\n",
              "        6591.67312653,  9394.50979407,  6591.67312653,  6591.67312653,\n",
              "        3325.2282122 ,  6782.96452463,  6591.67312653,  3325.2282122 ,\n",
              "       44132.26813644,  9394.50979407, 18261.15996956,  6591.67312653,\n",
              "        6591.67312653, 12665.03764966,  6782.96452463, 44132.26813644,\n",
              "       13932.59546205,  6591.67312653,  6782.96452463, 18261.15996956,\n",
              "       18261.15996956,  3325.2282122 ,  6591.67312653,  3325.2282122 ,\n",
              "       12665.03764966,  6591.67312653, 13932.59546205, 12665.03764966,\n",
              "        6782.96452463,  6591.67312653, 28217.40178562,  3325.2282122 ,\n",
              "       23243.02612364,  6591.67312653,  3325.2282122 ,  3325.2282122 ,\n",
              "        6591.67312653, 11066.30930118,  9394.50979407, 18261.15996956,\n",
              "        3325.2282122 , 12665.03764966,  6782.96452463, 28902.46658333,\n",
              "       18261.15996956,  3325.2282122 , 12665.03764966,  3325.2282122 ,\n",
              "       13932.59546205, 44132.26813644,  9394.50979407,  6591.67312653,\n",
              "       13932.59546205, 12665.03764966, 44132.26813644, 39645.81735   ,\n",
              "       12665.03764966,  9394.50979407, 17368.8496975 , 35325.343519  ,\n",
              "        3325.2282122 ,  6591.67312653,  6591.67312653,  3325.2282122 ,\n",
              "       11066.30930118,  6591.67312653, 28217.40178562, 12665.03764966,\n",
              "       44132.26813644,  6591.67312653,  6591.67312653,  9394.50979407,\n",
              "       12665.03764966, 17368.8496975 , 18261.15996956,  6591.67312653,\n",
              "        6782.96452463, 11066.30930118,  6591.67312653, 13932.59546205,\n",
              "        6782.96452463, 13932.59546205,  6782.96452463, 11066.30930118,\n",
              "        6591.67312653,  3325.2282122 , 12665.03764966,  3325.2282122 ,\n",
              "       18261.15996956, 11066.30930118, 11066.30930118, 44132.26813644,\n",
              "        6591.67312653,  6782.96452463,  6591.67312653,  6591.67312653,\n",
              "        6591.67312653,  3325.2282122 , 18261.15996956,  6591.67312653,\n",
              "        6782.96452463, 12665.03764966, 12665.03764966,  6591.67312653,\n",
              "       11066.30930118, 11066.30930118,  6591.67312653,  3325.2282122 ,\n",
              "       35325.343519  ,  3325.2282122 , 18261.15996956, 13932.59546205,\n",
              "       12665.03764966,  6591.67312653,  3325.2282122 ,  6591.67312653,\n",
              "       18261.15996956, 35325.343519  , 12665.03764966, 11066.30930118,\n",
              "       44132.26813644, 13932.59546205,  9394.50979407,  6591.67312653,\n",
              "        6591.67312653, 12665.03764966, 18261.15996956,  6591.67312653,\n",
              "        9394.50979407, 11066.30930118,  6591.67312653, 44132.26813644,\n",
              "        9394.50979407,  6591.67312653,  6782.96452463, 17368.8496975 ,\n",
              "       12665.03764966,  6591.67312653,  6591.67312653, 12665.03764966,\n",
              "        3325.2282122 ,  3325.2282122 ,  9394.50979407, 28217.40178562,\n",
              "       28217.40178562, 11066.30930118, 44132.26813644,  3325.2282122 ,\n",
              "       13932.59546205, 18261.15996956,  9394.50979407, 13932.59546205,\n",
              "        9394.50979407, 11066.30930118,  3325.2282122 ,  3325.2282122 ,\n",
              "       11066.30930118, 11066.30930118, 44132.26813644, 18261.15996956,\n",
              "       12665.03764966, 23243.02612364,  9394.50979407, 23243.02612364,\n",
              "        6782.96452463, 12665.03764966, 11066.30930118, 44132.26813644,\n",
              "       12665.03764966, 23243.02612364,  6591.67312653, 13932.59546205,\n",
              "       18261.15996956, 11066.30930118, 18261.15996956,  3325.2282122 ,\n",
              "        6591.67312653,  9394.50979407,  9394.50979407, 12665.03764966,\n",
              "        6591.67312653, 11066.30930118, 17368.8496975 ,  3325.2282122 ,\n",
              "        3325.2282122 , 12665.03764966, 11066.30930118,  9394.50979407,\n",
              "       11066.30930118,  6591.67312653, 44132.26813644, 28902.46658333,\n",
              "        9394.50979407,  6591.67312653,  6782.96452463,  3325.2282122 ,\n",
              "        6591.67312653,  6782.96452463,  6782.96452463, 12665.03764966,\n",
              "        6591.67312653, 11066.30930118, 13932.59546205,  3325.2282122 ,\n",
              "        6782.96452463,  6782.96452463, 44132.26813644,  3325.2282122 ,\n",
              "        6591.67312653, 11066.30930118,  9394.50979407, 28217.40178562,\n",
              "        3325.2282122 , 12665.03764966,  6591.67312653,  9394.50979407,\n",
              "        6591.67312653,  6591.67312653, 12665.03764966,  3325.2282122 ,\n",
              "       44132.26813644, 12665.03764966,  3325.2282122 , 11066.30930118,\n",
              "       12665.03764966,  6591.67312653, 12665.03764966, 12665.03764966,\n",
              "        6591.67312653,  6591.67312653,  3325.2282122 , 18261.15996956,\n",
              "        6782.96452463,  6591.67312653,  6782.96452463,  3325.2282122 ,\n",
              "       23243.02612364, 13932.59546205,  6782.96452463, 23243.02612364,\n",
              "        3325.2282122 ,  6591.67312653, 44132.26813644,  6591.67312653,\n",
              "       13932.59546205, 44132.26813644,  3325.2282122 ,  6591.67312653,\n",
              "       18261.15996956,  6591.67312653, 12665.03764966, 11066.30930118,\n",
              "       44132.26813644, 12665.03764966, 13932.59546205, 12665.03764966,\n",
              "       13932.59546205, 11066.30930118, 28217.40178562, 12665.03764966,\n",
              "       44132.26813644, 12665.03764966,  6591.67312653, 12665.03764966,\n",
              "       12665.03764966,  9394.50979407,  6591.67312653, 12665.03764966,\n",
              "       11066.30930118,  3325.2282122 , 13932.59546205,  6591.67312653,\n",
              "        6591.67312653,  6591.67312653, 11066.30930118, 28217.40178562,\n",
              "       17368.8496975 , 13932.59546205, 12665.03764966, 11066.30930118,\n",
              "        6591.67312653,  6591.67312653, 12665.03764966, 17368.8496975 ,\n",
              "        3325.2282122 , 35325.343519  , 11066.30930118, 11066.30930118,\n",
              "        9394.50979407, 12665.03764966, 39645.81735   , 11066.30930118,\n",
              "        6591.67312653, 11066.30930118,  3325.2282122 ,  9394.50979407,\n",
              "       35325.343519  ,  6591.67312653, 12665.03764966,  6591.67312653,\n",
              "       13932.59546205,  6591.67312653, 11066.30930118,  3325.2282122 ,\n",
              "       11066.30930118,  6782.96452463, 18261.15996956,  9394.50979407,\n",
              "        9394.50979407,  6591.67312653, 35325.343519  , 17368.8496975 ,\n",
              "       44132.26813644,  6591.67312653,  6591.67312653, 23243.02612364,\n",
              "       18261.15996956, 18261.15996956, 23243.02612364, 18261.15996956,\n",
              "       35325.343519  ,  6782.96452463, 13932.59546205,  3325.2282122 ,\n",
              "       12665.03764966,  3325.2282122 , 44132.26813644,  6591.67312653,\n",
              "       13932.59546205,  3325.2282122 , 13932.59546205,  6591.67312653,\n",
              "        6591.67312653,  6591.67312653,  6591.67312653, 28217.40178562,\n",
              "        3325.2282122 ,  6782.96452463, 11066.30930118, 12665.03764966,\n",
              "       35325.343519  , 12665.03764966, 12665.03764966, 11066.30930118,\n",
              "       18261.15996956, 23243.02612364,  3325.2282122 ,  3325.2282122 ,\n",
              "        3325.2282122 , 12665.03764966,  6591.67312653, 12665.03764966,\n",
              "        6591.67312653,  3325.2282122 , 35325.343519  , 11066.30930118,\n",
              "        6591.67312653, 44132.26813644,  9394.50979407,  3325.2282122 ,\n",
              "       13932.59546205,  9394.50979407, 11066.30930118,  3325.2282122 ,\n",
              "        9394.50979407,  6782.96452463,  9394.50979407,  3325.2282122 ,\n",
              "        6591.67312653, 17368.8496975 , 44132.26813644, 13932.59546205,\n",
              "       12665.03764966,  3325.2282122 , 11066.30930118, 18261.15996956,\n",
              "        3325.2282122 ,  3325.2282122 ,  6591.67312653, 23243.02612364,\n",
              "        6591.67312653,  6782.96452463, 18261.15996956, 11066.30930118,\n",
              "       44132.26813644, 62592.87309   , 18261.15996956, 17368.8496975 ,\n",
              "        3325.2282122 , 11066.30930118,  9394.50979407, 11066.30930118,\n",
              "       13932.59546205,  6591.67312653,  6591.67312653, 11066.30930118,\n",
              "       35325.343519  ,  3325.2282122 ,  3325.2282122 ,  6591.67312653,\n",
              "       35325.343519  , 11066.30930118, 44132.26813644,  6782.96452463,\n",
              "        6591.67312653, 12665.03764966, 28902.46658333,  6591.67312653,\n",
              "        9394.50979407,  9394.50979407,  3325.2282122 , 12665.03764966,\n",
              "       44132.26813644, 13932.59546205,  3325.2282122 ,  3325.2282122 ,\n",
              "        6591.67312653, 11066.30930118, 39645.81735   ,  3325.2282122 ,\n",
              "       23243.02612364, 17368.8496975 ,  6591.67312653, 18261.15996956,\n",
              "       17368.8496975 ,  6782.96452463,  3325.2282122 , 44132.26813644,\n",
              "       12665.03764966,  9394.50979407,  3325.2282122 ,  3325.2282122 ,\n",
              "        6591.67312653,  3325.2282122 ,  6591.67312653,  6591.67312653,\n",
              "       23243.02612364,  6591.67312653, 11066.30930118, 18261.15996956,\n",
              "       12665.03764966, 23243.02612364, 11066.30930118, 13932.59546205,\n",
              "        6591.67312653,  3325.2282122 ,  6591.67312653, 18261.15996956,\n",
              "        6591.67312653,  9394.50979407, 18261.15996956, 12665.03764966,\n",
              "       13932.59546205, 11066.30930118,  6591.67312653, 13932.59546205,\n",
              "       11066.30930118, 11066.30930118,  9394.50979407, 18261.15996956,\n",
              "        3325.2282122 ,  6591.67312653, 17368.8496975 ,  6591.67312653,\n",
              "        6591.67312653,  6591.67312653,  3325.2282122 ,  9394.50979407,\n",
              "       11066.30930118, 11066.30930118, 12665.03764966, 12665.03764966,\n",
              "       13932.59546205,  6591.67312653,  3325.2282122 , 28217.40178562,\n",
              "        3325.2282122 ,  9394.50979407,  3325.2282122 ,  6591.67312653,\n",
              "       11066.30930118, 12665.03764966,  6591.67312653,  6782.96452463,\n",
              "       13932.59546205, 44132.26813644, 18261.15996956, 11066.30930118,\n",
              "        3325.2282122 , 12665.03764966, 18261.15996956,  6591.67312653,\n",
              "       17368.8496975 ,  3325.2282122 ,  3325.2282122 ,  3325.2282122 ,\n",
              "        9394.50979407, 44132.26813644, 44132.26813644,  6591.67312653,\n",
              "        3325.2282122 , 11066.30930118, 11066.30930118, 11066.30930118,\n",
              "        9394.50979407,  6591.67312653, 12665.03764966,  6591.67312653,\n",
              "        6591.67312653,  3325.2282122 ,  3325.2282122 , 18261.15996956,\n",
              "       11066.30930118,  3325.2282122 , 12665.03764966, 12665.03764966,\n",
              "       11066.30930118, 44132.26813644,  3325.2282122 ,  3325.2282122 ,\n",
              "       12665.03764966, 18261.15996956,  9394.50979407,  6782.96452463,\n",
              "       11066.30930118,  6591.67312653, 12665.03764966,  3325.2282122 ,\n",
              "        3325.2282122 ,  6591.67312653, 44132.26813644,  3325.2282122 ,\n",
              "       12665.03764966, 28902.46658333,  3325.2282122 ,  3325.2282122 ,\n",
              "       11066.30930118, 13932.59546205,  3325.2282122 , 11066.30930118,\n",
              "       12665.03764966,  9394.50979407, 13932.59546205, 23243.02612364,\n",
              "        6591.67312653,  3325.2282122 , 18261.15996956,  6591.67312653,\n",
              "       11066.30930118,  6591.67312653,  3325.2282122 ,  3325.2282122 ,\n",
              "       12665.03764966,  6591.67312653,  6591.67312653,  9394.50979407,\n",
              "        6591.67312653,  3325.2282122 ,  6591.67312653, 12665.03764966,\n",
              "       28902.46658333, 18261.15996956,  6782.96452463, 28902.46658333,\n",
              "       13932.59546205,  9394.50979407,  6591.67312653,  6591.67312653,\n",
              "        6591.67312653, 17368.8496975 , 44132.26813644,  3325.2282122 ,\n",
              "        3325.2282122 ,  6591.67312653,  6591.67312653,  6782.96452463,\n",
              "        6591.67312653, 44132.26813644, 23243.02612364, 23243.02612364,\n",
              "        6591.67312653, 18261.15996956, 17368.8496975 ,  3325.2282122 ,\n",
              "       12665.03764966, 11066.30930118,  3325.2282122 ,  6591.67312653,\n",
              "       18261.15996956, 12665.03764966, 44132.26813644,  3325.2282122 ,\n",
              "        9394.50979407,  9394.50979407,  9394.50979407,  6591.67312653,\n",
              "       35325.343519  ])"
            ]
          },
          "metadata": {},
          "execution_count": 62
        }
      ]
    },
    {
      "cell_type": "code",
      "source": [
        "train_targets"
      ],
      "metadata": {
        "colab": {
          "base_uri": "https://localhost:8080/"
        },
        "id": "gBEue8bkcsIW",
        "outputId": "ef816136-683a-44cd-f16c-06f6223416f2"
      },
      "execution_count": 63,
      "outputs": [
        {
          "output_type": "execute_result",
          "data": {
            "text/plain": [
              "531     14043.47670\n",
              "1179    19350.36890\n",
              "480     15555.18875\n",
              "976      7804.16050\n",
              "545     23807.24060\n",
              "           ...     \n",
              "756      7985.81500\n",
              "788      5209.57885\n",
              "764      9095.06825\n",
              "21       4149.73600\n",
              "623     34617.84065\n",
              "Name: health_insurance_price, Length: 801, dtype: float64"
            ]
          },
          "metadata": {},
          "execution_count": 63
        }
      ]
    },
    {
      "cell_type": "code",
      "source": [
        "rmse(train_targets, train_preds)"
      ],
      "metadata": {
        "colab": {
          "base_uri": "https://localhost:8080/"
        },
        "id": "lHiTd1zGcg-v",
        "outputId": "bc57fb18-7bc4-4e3c-ab9c-c1be44971b79"
      },
      "execution_count": 64,
      "outputs": [
        {
          "output_type": "execute_result",
          "data": {
            "text/plain": [
              "4583.223457003174"
            ]
          },
          "metadata": {},
          "execution_count": 64
        }
      ]
    },
    {
      "cell_type": "code",
      "source": [
        "val_preds = model2.predict(X_val)"
      ],
      "metadata": {
        "id": "9TM6u5txcykP"
      },
      "execution_count": 65,
      "outputs": []
    },
    {
      "cell_type": "code",
      "source": [
        "rmse(val_targets, val_preds)"
      ],
      "metadata": {
        "colab": {
          "base_uri": "https://localhost:8080/"
        },
        "id": "4FKPma8Ic5nP",
        "outputId": "a62580af-1f3c-47a1-9831-95b06908e6f5"
      },
      "execution_count": 66,
      "outputs": [
        {
          "output_type": "execute_result",
          "data": {
            "text/plain": [
              "4935.447840473201"
            ]
          },
          "metadata": {},
          "execution_count": 66
        }
      ]
    },
    {
      "cell_type": "code",
      "source": [
        "def max_depth_error(md):\n",
        "\n",
        "  model = DecisionTreeRegressor(max_depth=md, random_state=42)\n",
        "  model.fit(X_train, train_targets)\n",
        "\n",
        "  train_rmse = rmse(train_targets, model.predict(X_train))\n",
        "  val_rmse = rmse(val_targets, model.predict(X_val))\n",
        "\n",
        "  return {'Max Depth': md,\n",
        "         'Training RMSE': train_rmse,\n",
        "         'Validation RMSE': val_rmse}\n",
        "\n",
        "results = []\n",
        "for md in range(1, 21):\n",
        "  results.append(max_depth_error(md))\n",
        "\n",
        "df = pd.DataFrame(results)\n",
        "print(df)"
      ],
      "metadata": {
        "colab": {
          "base_uri": "https://localhost:8080/"
        },
        "id": "ZiW6EDGOex-N",
        "outputId": "5489cae6-676b-40cb-e2cd-3bf786ac346c"
      },
      "execution_count": 67,
      "outputs": [
        {
          "output_type": "stream",
          "name": "stdout",
          "text": [
            "    Max Depth  Training RMSE  Validation RMSE\n",
            "0           1    7440.317314      7638.662727\n",
            "1           2    5279.194070      5438.065665\n",
            "2           3    4873.424545      5157.483553\n",
            "3           4    4583.223457      4935.447840\n",
            "4           5    4290.648546      5076.070098\n",
            "5           6    3871.153990      5038.726408\n",
            "6           7    3319.688322      5580.292538\n",
            "7           8    2816.101068      6286.130574\n",
            "8           9    2249.197356      6634.974565\n",
            "9          10    1727.121326      6799.471186\n",
            "10         11    1160.315910      6715.996532\n",
            "11         12     797.592038      6885.638315\n",
            "12         13     318.218234      6953.275342\n",
            "13         14     244.933801      6884.841152\n",
            "14         15      34.223138      6976.693790\n",
            "15         16      13.713383      6909.334207\n",
            "16         17      10.419757      7025.190605\n",
            "17         18       0.000000      6935.588094\n",
            "18         19       0.000000      6935.588094\n",
            "19         20       0.000000      6935.588094\n"
          ]
        }
      ]
    },
    {
      "cell_type": "code",
      "source": [
        "plt.figure()\n",
        "plt.plot(df['Max Depth'], df['Training RMSE'])\n",
        "plt.plot(df['Max Depth'], df['Validation RMSE'])\n",
        "plt.title('Training vs. Validation Error')\n",
        "plt.xticks(range(0,21, 2))\n",
        "plt.xlabel('Max. Depth')\n",
        "plt.ylabel('RMSE')\n",
        "plt.legend(['Training', 'Validation'])"
      ],
      "metadata": {
        "colab": {
          "base_uri": "https://localhost:8080/",
          "height": 489
        },
        "id": "NmOFBNq6gazf",
        "outputId": "dc14e700-372d-455c-de23-4edafbc1e42b"
      },
      "execution_count": 68,
      "outputs": [
        {
          "output_type": "execute_result",
          "data": {
            "text/plain": [
              "<matplotlib.legend.Legend at 0x7d0585bcbd90>"
            ]
          },
          "metadata": {},
          "execution_count": 68
        },
        {
          "output_type": "display_data",
          "data": {
            "text/plain": [
              "<Figure size 640x480 with 1 Axes>"
            ],
            "image/png": "[encoded data removed]"
          },
          "metadata": {}
        }
      ]
    },
    {
      "cell_type": "markdown",
      "source": [
        "# ***Model 3 Random Forest***"
      ],
      "metadata": {
        "id": "nWMWiAZD_q0h"
      }
    },
    {
      "cell_type": "code",
      "source": [
        "from sklearn.ensemble import RandomForestRegressor"
      ],
      "metadata": {
        "id": "W968nYqkjPAd"
      },
      "execution_count": 69,
      "outputs": []
    },
    {
      "cell_type": "code",
      "source": [
        "model3=RandomForestRegressor(n_estimators=10,max_depth=4,random_state=42)"
      ],
      "metadata": {
        "id": "lzDuhsYlAz64"
      },
      "execution_count": 70,
      "outputs": []
    },
    {
      "cell_type": "code",
      "source": [
        "model3.fit(train_inputs[numeric_cols + encoded_cols], train_targets)"
      ],
      "metadata": {
        "colab": {
          "base_uri": "https://localhost:8080/",
          "height": 74
        },
        "id": "L9blqkzOBu4P",
        "outputId": "b110dddf-471d-4123-e565-5e59c9a5be2c"
      },
      "execution_count": 71,
      "outputs": [
        {
          "output_type": "execute_result",
          "data": {
            "text/plain": [
              "RandomForestRegressor(max_depth=4, n_estimators=10, random_state=42)"
            ],
            "text/html": [
              "<style>#sk-container-id-6 {color: black;background-color: white;}#sk-container-id-6 pre{padding: 0;}#sk-container-id-6 div.sk-toggleable {background-color: white;}#sk-container-id-6 label.sk-toggleable__label {cursor: pointer;display: block;width: 100%;margin-bottom: 0;padding: 0.3em;box-sizing: border-box;text-align: center;}#sk-container-id-6 label.sk-toggleable__label-arrow:before {content: \"▸\";float: left;margin-right: 0.25em;color: #696969;}#sk-container-id-6 label.sk-toggleable__label-arrow:hover:before {color: black;}#sk-container-id-6 div.sk-estimator:hover label.sk-toggleable__label-arrow:before {color: black;}#sk-container-id-6 div.sk-toggleable__content {max-height: 0;max-width: 0;overflow: hidden;text-align: left;background-color: #f0f8ff;}#sk-container-id-6 div.sk-toggleable__content pre {margin: 0.2em;color: black;border-radius: 0.25em;background-color: #f0f8ff;}#sk-container-id-6 input.sk-toggleable__control:checked~div.sk-toggleable__content {max-height: 200px;max-width: 100%;overflow: auto;}#sk-container-id-6 input.sk-toggleable__control:checked~label.sk-toggleable__label-arrow:before {content: \"▾\";}#sk-container-id-6 div.sk-estimator input.sk-toggleable__control:checked~label.sk-toggleable__label {background-color: #d4ebff;}#sk-container-id-6 div.sk-label input.sk-toggleable__control:checked~label.sk-toggleable__label {background-color: #d4ebff;}#sk-container-id-6 input.sk-hidden--visually {border: 0;clip: rect(1px 1px 1px 1px);clip: rect(1px, 1px, 1px, 1px);height: 1px;margin: -1px;overflow: hidden;padding: 0;position: absolute;width: 1px;}#sk-container-id-6 div.sk-estimator {font-family: monospace;background-color: #f0f8ff;border: 1px dotted black;border-radius: 0.25em;box-sizing: border-box;margin-bottom: 0.5em;}#sk-container-id-6 div.sk-estimator:hover {background-color: #d4ebff;}#sk-container-id-6 div.sk-parallel-item::after {content: \"\";width: 100%;border-bottom: 1px solid gray;flex-grow: 1;}#sk-container-id-6 div.sk-label:hover label.sk-toggleable__label {background-color: #d4ebff;}#sk-container-id-6 div.sk-serial::before {content: \"\";position: absolute;border-left: 1px solid gray;box-sizing: border-box;top: 0;bottom: 0;left: 50%;z-index: 0;}#sk-container-id-6 div.sk-serial {display: flex;flex-direction: column;align-items: center;background-color: white;padding-right: 0.2em;padding-left: 0.2em;position: relative;}#sk-container-id-6 div.sk-item {position: relative;z-index: 1;}#sk-container-id-6 div.sk-parallel {display: flex;align-items: stretch;justify-content: center;background-color: white;position: relative;}#sk-container-id-6 div.sk-item::before, #sk-container-id-6 div.sk-parallel-item::before {content: \"\";position: absolute;border-left: 1px solid gray;box-sizing: border-box;top: 0;bottom: 0;left: 50%;z-index: -1;}#sk-container-id-6 div.sk-parallel-item {display: flex;flex-direction: column;z-index: 1;position: relative;background-color: white;}#sk-container-id-6 div.sk-parallel-item:first-child::after {align-self: flex-end;width: 50%;}#sk-container-id-6 div.sk-parallel-item:last-child::after {align-self: flex-start;width: 50%;}#sk-container-id-6 div.sk-parallel-item:only-child::after {width: 0;}#sk-container-id-6 div.sk-dashed-wrapped {border: 1px dashed gray;margin: 0 0.4em 0.5em 0.4em;box-sizing: border-box;padding-bottom: 0.4em;background-color: white;}#sk-container-id-6 div.sk-label label {font-family: monospace;font-weight: bold;display: inline-block;line-height: 1.2em;}#sk-container-id-6 div.sk-label-container {text-align: center;}#sk-container-id-6 div.sk-container {/* jupyter's `normalize.less` sets `[hidden] { display: none; }` but bootstrap.min.css set `[hidden] { display: none !important; }` so we also need the `!important` here to be able to override the default hidden behavior on the sphinx rendered scikit-learn.org. See: https://github.com/scikit-learn/scikit-learn/issues/21755 */display: inline-block !important;position: relative;}#sk-container-id-6 div.sk-text-repr-fallback {display: none;}</style><div id=\"sk-container-id-6\" class=\"sk-top-container\"><div class=\"sk-text-repr-fallback\"><pre>RandomForestRegressor(max_depth=4, n_estimators=10, random_state=42)</pre><b>In a Jupyter environment, please rerun this cell to show the HTML representation or trust the notebook. <br />On GitHub, the HTML representation is unable to render, please try loading this page with nbviewer.org.</b></div><div class=\"sk-container\" hidden><div class=\"sk-item\"><div class=\"sk-estimator sk-toggleable\"><input class=\"sk-toggleable__control sk-hidden--visually\" id=\"sk-estimator-id-6\" type=\"checkbox\" checked><label for=\"sk-estimator-id-6\" class=\"sk-toggleable__label sk-toggleable__label-arrow\">RandomForestRegressor</label><div class=\"sk-toggleable__content\"><pre>RandomForestRegressor(max_depth=4, n_estimators=10, random_state=42)</pre></div></div></div></div></div>"
            ]
          },
          "metadata": {},
          "execution_count": 71
        }
      ]
    },
    {
      "cell_type": "code",
      "source": [
        "train_preds = model3.predict(X_train)"
      ],
      "metadata": {
        "id": "bnYS3umtBxmX"
      },
      "execution_count": 72,
      "outputs": []
    },
    {
      "cell_type": "code",
      "source": [
        "train_preds"
      ],
      "metadata": {
        "colab": {
          "base_uri": "https://localhost:8080/"
        },
        "id": "m0AYFc9SB5Nw",
        "outputId": "5ee5dbbc-1fa6-417a-e558-abb72c416063"
      },
      "execution_count": 73,
      "outputs": [
        {
          "output_type": "execute_result",
          "data": {
            "text/plain": [
              "array([13887.06546854, 20135.00535007,  7237.12172988, 10884.37971193,\n",
              "       23593.3290944 ,  6306.98060264, 10884.37971193, 45597.79817084,\n",
              "       10884.37971193, 11539.9145206 ,  6918.31504633,  6631.81947128,\n",
              "       12238.58768874,  3335.22851195, 24785.55509476,  7946.26593393,\n",
              "       19827.89694177, 14107.44943626, 35591.60890697,  3099.13796125,\n",
              "        4171.49425399, 10667.95053003,  2950.94771693,  8211.59248057,\n",
              "       17988.94490222,  8866.7821577 ,  2950.94771693,  4159.98355031,\n",
              "        7534.69986724, 17119.9776255 , 11879.78821655, 36888.22002508,\n",
              "        7461.0223234 ,  4171.49425399,  6996.87994063, 10642.80435554,\n",
              "       11544.56071815, 12475.51684759,  6863.39760454,  7259.31166809,\n",
              "       45125.58142679,  3099.13796125,  6710.38436558, 12807.1752612 ,\n",
              "        3099.13796125,  7237.12172988,  3335.22851195,  6462.41992447,\n",
              "        6748.91549952, 45125.58142679, 36888.22002508,  6357.38562699,\n",
              "       11970.79225203,  6254.56637469, 25806.5026445 ,  8477.34031063,\n",
              "        3099.13796125, 13066.96471356, 13438.56081801, 36091.66214907,\n",
              "       12116.7173754 ,  6996.87994063, 12751.61081981,  7900.62362619,\n",
              "       11704.52098537,  4159.98355031,  3187.03826763,  6996.87994063,\n",
              "        3099.13796125, 12198.40065897, 44022.65635508,  6918.31504633,\n",
              "       35591.60890697,  7946.26593393,  6254.56637469, 15886.6833401 ,\n",
              "        6950.62615483,  4976.48963344,  6254.56637469, 11544.56071815,\n",
              "        4709.23835617,  3335.22851195,  6748.91549952, 11769.09329273,\n",
              "        6950.62615483, 10884.37971193,  4709.23835617,  6996.87994063,\n",
              "       12263.7307629 , 12198.40065897, 19339.46803887,  3335.22851195,\n",
              "       11781.48987699, 11769.09329273,  9816.04422642, 12499.49214224,\n",
              "       23593.3290944 , 17568.48227604,  3099.13796125, 11781.48987699,\n",
              "        7659.77035888,  6290.25849551, 36091.66214907, 26968.49627311,\n",
              "        2950.94771693, 27498.65216874, 12198.40065897, 45597.79817084,\n",
              "       23593.3290944 ,  7672.91665921, 13887.06546854,  4159.98355031,\n",
              "       12104.32079114, 13658.94478572,  8042.19293376,  4976.48963344,\n",
              "        8396.23473714,  9591.51165183,  6423.9659215 ,  2950.94771693,\n",
              "        8636.47652639, 12283.06296033,  4159.98355031, 19318.93378479,\n",
              "        6254.56637469,  4709.23835617,  4976.48963344, 12198.40065897,\n",
              "       12238.58768874, 12238.58768874, 10884.37971193, 10667.95053003,\n",
              "       23593.3290944 , 36091.66214907, 12500.65992175, 11219.60721034,\n",
              "        6950.62615483,  9120.98586282, 10054.00706861,  4159.98355031,\n",
              "       12582.64268661,  6462.41992447, 42548.4267079 , 12104.32079114,\n",
              "       11144.76091238, 13887.06546854,  6508.67371026,  9718.7795702 ,\n",
              "        3187.03826763, 43690.54429084,  4159.98355031, 11781.48987699,\n",
              "        6306.98060264,  3099.13796125,  6423.9659215 ,  3187.03826763,\n",
              "       23593.3290944 ,  4842.27062406, 42548.4267079 ,  6996.87994063,\n",
              "        8042.19293376,  4159.98355031,  6748.91549952,  6512.3706042 ,\n",
              "       18024.38385458, 35591.60890697, 25776.27027276, 11544.56071815,\n",
              "        7237.12172988, 19339.46803887,  8642.16352373, 17348.09830832,\n",
              "        6918.31504633, 12238.58768874,  6996.87994063,  3099.13796125,\n",
              "       12263.7307629 ,  7412.41739582, 12341.24994999,  6748.91549952,\n",
              "       10130.21043038, 13438.56081801,  5147.22796451, 36091.66214907,\n",
              "        7534.69986724, 39812.81827002, 26446.16347677, 12499.49214224,\n",
              "       13438.56081801,  5147.22796451, 44022.65635508,  3335.22851195,\n",
              "        7672.91665921,  3187.03826763,  3187.03826763, 13438.56081801,\n",
              "        6254.56637469, 45125.58142679, 13658.94478572, 27258.44527764,\n",
              "       44022.65635508,  2950.94771693, 16899.59365779,  6254.56637469,\n",
              "        4407.58480469,  8211.59248057,  6508.67371026,  6863.39760454,\n",
              "        3099.13796125,  6254.56637469,  6576.90202948,  4709.23835617,\n",
              "       44123.56852366,  9120.98586282, 16268.45359365,  6863.39760454,\n",
              "        6918.31504633, 12238.58768874,  6423.9659215 , 45597.79817084,\n",
              "       13887.06546854,  4407.58480469,  6254.56637469, 20135.00535007,\n",
              "       20135.00535007,  4159.98355031,  4842.27062406,  4976.48963344,\n",
              "       12475.51684759,  6512.3706042 , 13887.06546854, 13303.89387241,\n",
              "        6254.56637469,  4606.18007336, 24669.6194147 ,  3335.22851195,\n",
              "       24145.8942625 ,  7259.31166809,  3099.13796125,  4709.23835617,\n",
              "        7237.12172988, 11568.04152244,  9120.98586282, 17472.97176798,\n",
              "        3335.22851195, 12582.64268661,  6254.56637469, 26219.60851069,\n",
              "       18987.84906532,  4709.23835617, 12062.67899261,  2950.94771693,\n",
              "       13887.06546854, 45597.79817084,  7801.95114451,  7412.41739582,\n",
              "       14107.44943626, 12283.06296033, 45597.79817084, 37397.54564902,\n",
              "       11958.39566777,  7534.69986724, 15666.29937239, 36091.66214907,\n",
              "        4159.98355031,  6631.81947128,  6748.91549952,  2950.94771693,\n",
              "       11369.29348697,  6863.39760454, 25776.27027276, 13527.25866748,\n",
              "       44737.00511357,  6209.19538268,  6748.91549952,  8805.8760732 ,\n",
              "       12263.7307629 , 16899.59365779, 16268.45359365,  6209.19538268,\n",
              "        6254.56637469, 11144.76091238,  6918.31504633, 13887.06546854,\n",
              "        6423.9659215 , 14107.44943626,  6290.25849551, 11879.78821655,\n",
              "        6996.87994063,  3187.03826763, 12198.40065897,  4159.98355031,\n",
              "       17693.29913511, 10130.21043038, 10054.00706861, 43161.8632978 ,\n",
              "        6748.91549952,  6290.25849551,  7585.68810892,  7120.02570164,\n",
              "        8668.55643831,  4159.98355031, 19339.46803887,  6508.67371026,\n",
              "        6423.9659215 , 12499.49214224, 11081.78547965,  6918.31504633,\n",
              "       11769.09329273, 11108.91228652,  4457.98982904,  3099.13796125,\n",
              "       36545.1403174 ,  4709.23835617, 18533.34701156, 14107.44943626,\n",
              "       12783.6944569 ,  8866.7821577 ,  4159.98355031,  6631.81947128,\n",
              "       17603.97078951, 35591.60890697, 12751.61081981, 11781.48987699,\n",
              "       44205.53903566, 13887.06546854,  8211.59248057,  6508.67371026,\n",
              "        7406.52127669, 12582.64268661, 19339.46803887,  6752.61239345,\n",
              "        8747.26173747, 11539.9145206 ,  6996.87994063, 43550.43961103,\n",
              "        9290.38540963,  5954.92685795,  6910.58495313, 17568.48227604,\n",
              "       11081.78547965,  6996.87994063,  6748.91549952, 12500.65992175,\n",
              "        3335.22851195,  3099.13796125,  8636.47652639, 30917.87585359,\n",
              "       26976.31937239, 10986.13524663, 40074.48535099,  4976.48963344,\n",
              "       13438.56081801, 16268.45359365,  9603.03457794, 13887.06546854,\n",
              "        6727.0009738 , 11544.56071815,  3187.03826763,  2950.94771693,\n",
              "       11764.44709519, 10667.95053003, 44022.65635508, 16268.45359365,\n",
              "       12783.6944569 , 23593.3290944 ,  8747.26173747, 23593.3290944 ,\n",
              "        6910.58495313, 12499.49214224, 11544.56071815, 44205.53903566,\n",
              "       12037.53591846, 23593.3290944 ,  6508.67371026, 14107.44943626,\n",
              "       20135.00535007, 10751.93350384, 20135.00535007,  4709.23835617,\n",
              "        8087.15965751,  7534.69986724,  8799.64699052, 13291.49728814,\n",
              "        6748.91549952, 10884.37971193, 15666.29937239,  2950.94771693,\n",
              "        4976.48963344, 12807.1752612 , 11144.76091238,  8211.59248057,\n",
              "       11003.17802843,  8622.91413057, 40074.48535099, 26219.60851069,\n",
              "        8747.26173747,  7237.12172988,  6254.56637469,  2950.94771693,\n",
              "        4171.49425399,  6254.56637469,  6254.56637469, 13528.42644699,\n",
              "        6950.62615483, 11527.51793634, 13658.94478572,  3099.13796125,\n",
              "        8242.55351501,  6290.25849551, 44022.65635508,  2950.94771693,\n",
              "        6225.87502915, 10884.37971193,  7844.64072988, 30751.617676  ,\n",
              "        4709.23835617, 12238.58768874,  8467.17214897,  7801.95114451,\n",
              "        6996.87994063,  7946.26593393, 13008.22703148,  3335.22851195,\n",
              "       45597.79817084, 12263.7307629 ,  4159.98355031, 10884.37971193,\n",
              "       12743.50742713,  6631.81947128, 13008.22703148, 12263.7307629 ,\n",
              "        5433.72353956,  6748.91549952,  3099.13796125, 19339.46803887,\n",
              "        6254.56637469,  5147.22796451,  6254.56637469,  3335.22851195,\n",
              "       23593.3290944 , 13438.56081801,  6423.9659215 , 23593.3290944 ,\n",
              "        3187.03826763,  6918.31504633, 45597.79817084,  6508.67371026,\n",
              "       13658.94478572, 40074.48535099,  3335.22851195,  6752.61239345,\n",
              "       19339.46803887,  7237.12172988, 12195.32482662, 11544.56071815,\n",
              "       44022.65635508, 12238.58768874, 13438.56081801, 13066.96471356,\n",
              "       13887.06546854,  9591.51165183, 26976.31937239, 11733.86309318,\n",
              "       43550.43961103, 12306.01975044,  5433.72353956, 12500.65992175,\n",
              "       12195.32482662,  8211.59248057,  6918.31504633, 12069.09059159,\n",
              "       10903.18555599,  3099.13796125, 13438.56081801,  7412.41739582,\n",
              "        6748.91549952,  7406.52127669, 11544.56071815, 23017.41822913,\n",
              "       17348.09830832, 13438.56081801, 12062.67899261, 11444.13978493,\n",
              "        6918.31504633,  6508.67371026, 12783.6944569 , 16114.80402292,\n",
              "        2950.94771693, 35591.60890697, 10884.37971193, 11544.56071815,\n",
              "        9299.97842269, 12968.04000172, 37397.54564902,  9792.37362508,\n",
              "        5433.72353956,  9591.51165183,  4159.98355031,  7844.64072988,\n",
              "       35591.60890697,  7120.02570164, 13020.62361575,  9202.00965611,\n",
              "       13438.56081801,  6710.38436558, 10667.95053003,  2950.94771693,\n",
              "       10884.37971193,  6423.9659215 , 19670.55275835,  8211.59248057,\n",
              "        9290.38540963,  6710.38436558, 35591.60890697, 15666.29937239,\n",
              "       45597.79817084,  6752.61239345,  7406.52127669, 21941.12790883,\n",
              "       20135.00535007, 17603.97078951, 24785.55509476, 17693.29913511,\n",
              "       36545.1403174 ,  6423.9659215 , 13887.06546854,  2950.94771693,\n",
              "       12527.07824522,  4159.98355031, 44022.65635508,  7406.52127669,\n",
              "       13438.56081801,  3335.22851195, 13887.06546854,  5724.68604625,\n",
              "        6748.91549952,  6996.87994063,  6996.87994063, 28428.26200553,\n",
              "        2950.94771693,  6910.58495313, 10642.80435554, 12582.64268661,\n",
              "       35591.60890697, 11408.90958538, 12500.65992175, 12104.32079114,\n",
              "       18987.84906532, 25315.71099039,  2950.94771693,  4159.98355031,\n",
              "        2950.94771693, 13303.89387241,  7900.62362619, 11733.86309318,\n",
              "        6241.422433  ,  4709.23835617, 36545.1403174 , 11369.29348697,\n",
              "        6222.17813521, 43161.8632978 ,  9843.2763672 ,  4159.98355031,\n",
              "       14107.44943626,  8705.69483006, 11769.09329273,  4976.48963344,\n",
              "        9775.18385067,  6254.56637469,  7534.69986724,  4709.23835617,\n",
              "        6576.90202948, 17348.09830832, 42077.08542086, 13658.94478572,\n",
              "       12238.58768874,  3335.22851195, 11769.09329273, 19670.55275835,\n",
              "        4159.98355031,  3187.03826763,  6918.31504633, 21475.55582717,\n",
              "        7125.92182077,  6423.9659215 , 16268.45359365, 11544.56071815,\n",
              "       44737.00511357, 46516.47246172, 19318.93378479, 15666.29937239,\n",
              "        3099.13796125,  9816.04422642,  8636.47652639, 11343.50894786,\n",
              "       13438.56081801,  4457.98982904,  5438.1904712 , 10426.37517364,\n",
              "       34914.92202377,  4709.23835617,  2950.94771693,  7614.12805114,\n",
              "       36091.66214907, 11108.91228652, 44123.56852366,  6254.56637469,\n",
              "        7900.62362619, 11733.86309318, 38403.20057899,  6710.38436558,\n",
              "        8241.24975993,  8636.47652639,  4159.98355031, 11073.68208697,\n",
              "       44737.00511357, 13438.56081801,  3187.03826763,  4976.48963344,\n",
              "        7959.41223426, 11227.71060302, 37397.54564902,  3099.13796125,\n",
              "       23593.3290944 , 17348.09830832,  7412.41739582, 19339.46803887,\n",
              "       17348.09830832,  6423.9659215 ,  4709.23835617, 39187.98294984,\n",
              "       11298.21466156,  9469.55224185,  4159.98355031,  4709.23835617,\n",
              "        4606.18007336,  3099.13796125,  5960.77659695,  4606.18007336,\n",
              "       23593.3290944 ,  6748.91549952, 11003.17802843, 16268.45359365,\n",
              "       12238.58768874, 23593.3290944 , 11544.56071815, 14107.44943626,\n",
              "        6241.422433  ,  3187.03826763,  7585.68810892, 19339.46803887,\n",
              "        6593.47617769,  7801.95114451, 17472.97176798, 12263.7307629 ,\n",
              "       14107.44943626, 11769.09329273,  7125.92182077, 13438.56081801,\n",
              "       11544.56071815, 11764.44709519,  8747.26173747, 17095.00763252,\n",
              "        2950.94771693,  6748.91549952, 16335.18799064,  7237.12172988,\n",
              "        6996.87994063,  4457.98982904,  2950.94771693,  8636.47652639,\n",
              "       11544.56071815, 11781.48987699, 13008.22703148, 12807.1752612 ,\n",
              "       13887.06546854,  9589.07266208,  2950.94771693, 23017.41822913,\n",
              "        4709.23835617,  8880.74407356,  3187.03826763,  7237.12172988,\n",
              "       10016.90619967, 12238.58768874,  7237.12172988,  6254.56637469,\n",
              "       13887.06546854, 45597.79817084, 19339.46803887, 12341.24994999,\n",
              "        3187.03826763, 13245.15619033, 19339.46803887,  6462.41992447,\n",
              "       15886.6833401 ,  3099.13796125,  3099.13796125,  3099.13796125,\n",
              "        8880.74407356, 45597.79817084, 44123.56852366,  7171.56412851,\n",
              "        3099.13796125, 12104.32079114, 11781.48987699, 10667.95053003,\n",
              "        8042.19293376,  6996.87994063, 13020.62361575,  7237.12172988,\n",
              "        7125.92182077,  4709.23835617,  4159.98355031, 20135.00535007,\n",
              "       11769.09329273,  2950.94771693, 12475.51684759, 12968.04000172,\n",
              "       10667.95053003, 43219.2030038 ,  2950.94771693,  3099.13796125,\n",
              "       12499.49214224, 16268.45359365,  9120.98586282,  8306.93602533,\n",
              "       11369.29348697,  4171.49425399, 12807.1752612 ,  3099.13796125,\n",
              "        4709.23835617,  4457.98982904, 43550.43961103,  4976.48963344,\n",
              "       12283.06296033, 38230.66530851,  3099.13796125,  4159.98355031,\n",
              "       10903.18555599, 13887.06546854,  4709.23835617, 11539.9145206 ,\n",
              "       12238.58768874,  7801.95114451, 13887.06546854, 23593.3290944 ,\n",
              "        5433.72353956,  2950.94771693, 17472.97176798,  7614.12805114,\n",
              "       12116.7173754 ,  6462.41992447,  4159.98355031,  3187.03826763,\n",
              "       12238.58768874,  7237.12172988,  5433.72353956,  8880.74407356,\n",
              "        6748.91549952,  3187.03826763,  6508.67371026, 12500.65992175,\n",
              "       25718.28497851, 18987.84906532,  8306.93602533, 26219.60851069,\n",
              "       14107.44943626,  8211.59248057,  7237.12172988,  5147.22796451,\n",
              "        7237.12172988, 17348.09830832, 44022.65635508,  3099.13796125,\n",
              "        4159.98355031,  6996.87994063,  6508.67371026,  6254.56637469,\n",
              "        6950.62615483, 44022.65635508, 24785.55509476, 24785.55509476,\n",
              "        6996.87994063, 17988.94490222, 16335.18799064,  4159.98355031,\n",
              "       12306.01975044, 11544.56071815,  3335.22851195,  6996.87994063,\n",
              "       19670.55275835, 11958.39566777, 44737.00511357,  4709.23835617,\n",
              "        8636.47652639,  8396.23473714,  9775.18385067,  6222.17813521,\n",
              "       36091.66214907])"
            ]
          },
          "metadata": {},
          "execution_count": 73
        }
      ]
    },
    {
      "cell_type": "code",
      "source": [
        "train_targets"
      ],
      "metadata": {
        "colab": {
          "base_uri": "https://localhost:8080/"
        },
        "id": "hra49Y_4B8LA",
        "outputId": "25ee1784-4ceb-4737-9c37-82ac49217137"
      },
      "execution_count": 74,
      "outputs": [
        {
          "output_type": "execute_result",
          "data": {
            "text/plain": [
              "531     14043.47670\n",
              "1179    19350.36890\n",
              "480     15555.18875\n",
              "976      7804.16050\n",
              "545     23807.24060\n",
              "           ...     \n",
              "756      7985.81500\n",
              "788      5209.57885\n",
              "764      9095.06825\n",
              "21       4149.73600\n",
              "623     34617.84065\n",
              "Name: health_insurance_price, Length: 801, dtype: float64"
            ]
          },
          "metadata": {},
          "execution_count": 74
        }
      ]
    },
    {
      "cell_type": "code",
      "source": [
        "rmse(train_targets, train_preds)"
      ],
      "metadata": {
        "colab": {
          "base_uri": "https://localhost:8080/"
        },
        "id": "Ne4D5is5CDzA",
        "outputId": "05c9ad0f-ee9b-44b0-d660-5ea2838450be"
      },
      "execution_count": 75,
      "outputs": [
        {
          "output_type": "execute_result",
          "data": {
            "text/plain": [
              "4464.001760747554"
            ]
          },
          "metadata": {},
          "execution_count": 75
        }
      ]
    },
    {
      "cell_type": "code",
      "source": [
        "val_preds = model3.predict(X_val)"
      ],
      "metadata": {
        "id": "3E4pJfU_CI6h"
      },
      "execution_count": 76,
      "outputs": []
    },
    {
      "cell_type": "code",
      "source": [
        "rmse(val_targets, val_preds)"
      ],
      "metadata": {
        "colab": {
          "base_uri": "https://localhost:8080/"
        },
        "id": "ZQQ92Ls5COkR",
        "outputId": "d854a29c-35ec-48f5-ab62-40687b933735"
      },
      "execution_count": 77,
      "outputs": [
        {
          "output_type": "execute_result",
          "data": {
            "text/plain": [
              "4694.379528314597"
            ]
          },
          "metadata": {},
          "execution_count": 77
        }
      ]
    },
    {
      "cell_type": "code",
      "source": [
        "def rf_error(max_depth, n_estimators):\n",
        "    model = RandomForestRegressor(max_depth=max_depth, n_estimators=n_estimators, random_state=42)\n",
        "    model.fit(X_train, train_targets)\n",
        "\n",
        "    train_rmse = rmse(train_targets, model.predict(X_train))\n",
        "    val_rmse = rmse(val_targets, model.predict(X_val))\n",
        "\n",
        "    return {'Max Depth': max_depth,\n",
        "            'n_estimators': n_estimators,\n",
        "            'Training RMSE': train_rmse,\n",
        "            'Validation RMSE': val_rmse}\n",
        "\n",
        "results = []\n",
        "max_depth_range = range(1, 21)\n",
        "n_estimators_range = [50, 100, 150, 200]  # You can adjust this range based on your needs\n",
        "\n",
        "for md in max_depth_range:\n",
        "    for ne in n_estimators_range:\n",
        "        results.append(rf_error(md, ne))\n",
        "\n",
        "df = pd.DataFrame(results)\n",
        "print(df)\n"
      ],
      "metadata": {
        "colab": {
          "base_uri": "https://localhost:8080/"
        },
        "id": "PyJ07GHaCT2a",
        "outputId": "da1b8fec-0e5a-4e1f-8feb-0eec2e5b580e"
      },
      "execution_count": 78,
      "outputs": [
        {
          "output_type": "stream",
          "name": "stdout",
          "text": [
            "    Max Depth  n_estimators  Training RMSE  Validation RMSE\n",
            "0           1            50    7440.338011      7637.711478\n",
            "1           1           100    7440.411380      7639.512454\n",
            "2           1           150    7440.357590      7640.169377\n",
            "3           1           200    7440.330849      7638.772488\n",
            "4           2            50    5202.434581      5245.211596\n",
            "..        ...           ...            ...              ...\n",
            "75         19           200    1941.421210      4864.722641\n",
            "76         20            50    1958.690171      4820.712571\n",
            "77         20           100    1943.382651      4848.458082\n",
            "78         20           150    1936.629398      4862.452057\n",
            "79         20           200    1941.881700      4867.891125\n",
            "\n",
            "[80 rows x 4 columns]\n"
          ]
        }
      ]
    },
    {
      "cell_type": "code",
      "source": [
        "plt.figure(figsize=(10, 6))\n",
        "plt.plot(df['Max Depth'], df['Training RMSE'], marker='o', linestyle='-', color='blue', label='Training RMSE')\n",
        "plt.plot(df['Max Depth'], df['Validation RMSE'], marker='o', linestyle='-', color='orange', label='Validation RMSE')\n",
        "\n",
        "plt.title('Training vs. Validation Error for Random Forest Regressor')\n",
        "plt.xticks(range(1, 21))\n",
        "plt.xlabel('Max Depth')\n",
        "plt.ylabel('RMSE')\n",
        "plt.legend()\n",
        "plt.grid(True)\n",
        "plt.show()\n"
      ],
      "metadata": {
        "colab": {
          "base_uri": "https://localhost:8080/",
          "height": 564
        },
        "id": "JJPO8J3pDXo6",
        "outputId": "7c6a9f6b-1e7a-4041-883e-8e8fdbdf11d3"
      },
      "execution_count": 79,
      "outputs": [
        {
          "output_type": "display_data",
          "data": {
            "text/plain": [
              "<Figure size 1000x600 with 1 Axes>"
            ],
            "image/png": "[encoded data removed]"
          },
          "metadata": {}
        }
      ]
    }
  ]
}